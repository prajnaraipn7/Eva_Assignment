{
  "nbformat": 4,
  "nbformat_minor": 0,
  "metadata": {
    "colab": {
      "name": "Eva_6b.ipynb",
      "version": "0.3.2",
      "provenance": [],
      "collapsed_sections": []
    },
    "kernelspec": {
      "name": "python3",
      "display_name": "Python 3"
    },
    "accelerator": "GPU"
  },
  "cells": [
    {
      "cell_type": "code",
      "metadata": {
        "id": "DQ9-96z8kQdx",
        "colab_type": "code",
        "colab": {
          "base_uri": "https://localhost:8080/",
          "height": 34
        },
        "outputId": "0df3c2f1-e8dc-40d2-d1d9-9ab4eb4b25d4"
      },
      "source": [
        "from keras import backend as K\n",
        "import time\n",
        "import matplotlib.pyplot as plt\n",
        "import numpy as np\n",
        "% matplotlib inline\n",
        "np.random.seed(2017) \n",
        "from keras.models import Sequential\n",
        "from keras.layers.convolutional import Convolution2D, MaxPooling2D\n",
        "from keras.layers import Activation, Flatten, Dense, Dropout\n",
        "from keras.layers.normalization import BatchNormalization\n",
        "from keras.utils import np_utils"
      ],
      "execution_count": 1,
      "outputs": [
        {
          "output_type": "stream",
          "text": [
            "Using TensorFlow backend.\n"
          ],
          "name": "stderr"
        }
      ]
    },
    {
      "cell_type": "code",
      "metadata": {
        "id": "MNGU-glxkRN8",
        "colab_type": "code",
        "colab": {
          "base_uri": "https://localhost:8080/",
          "height": 51
        },
        "outputId": "7adcb079-e6ac-4202-f0e6-9a13eacbd405"
      },
      "source": [
        "from keras.datasets import cifar10\n",
        "(train_features, train_labels), (test_features, test_labels) = cifar10.load_data()\n",
        "num_train, img_channels, img_rows, img_cols =  train_features.shape\n",
        "num_test, _, _, _ =  test_features.shape\n",
        "num_classes = len(np.unique(train_labels))"
      ],
      "execution_count": 2,
      "outputs": [
        {
          "output_type": "stream",
          "text": [
            "Downloading data from https://www.cs.toronto.edu/~kriz/cifar-10-python.tar.gz\n",
            "170500096/170498071 [==============================] - 2s 0us/step\n"
          ],
          "name": "stdout"
        }
      ]
    },
    {
      "cell_type": "code",
      "metadata": {
        "id": "Uyz3_JYlkTIF",
        "colab_type": "code",
        "colab": {}
      },
      "source": [
        "train_features = train_features.astype('float32')/255\n",
        "test_features = test_features.astype('float32')/255\n",
        "# convert class labels to binary class labels\n",
        "train_labels = np_utils.to_categorical(train_labels, num_classes)\n",
        "test_labels = np_utils.to_categorical(test_labels, num_classes)"
      ],
      "execution_count": 0,
      "outputs": []
    },
    {
      "cell_type": "code",
      "metadata": {
        "id": "NKVeoyqEkW46",
        "colab_type": "code",
        "colab": {}
      },
      "source": [
        "def plot_model_history(model_history):\n",
        "    fig, axs = plt.subplots(1,2,figsize=(15,5))\n",
        "    # summarize history for accuracy\n",
        "    axs[0].plot(range(1,len(model_history.history['acc'])+1),model_history.history['acc'])\n",
        "    axs[0].plot(range(1,len(model_history.history['val_acc'])+1),model_history.history['val_acc'])\n",
        "    axs[0].set_title('Model Accuracy')\n",
        "    axs[0].set_ylabel('Accuracy')\n",
        "    axs[0].set_xlabel('Epoch')\n",
        "    axs[0].set_xticks(np.arange(1,len(model_history.history['acc'])+1),len(model_history.history['acc'])/10)\n",
        "    axs[0].legend(['train', 'val'], loc='best')\n",
        "    # summarize history for loss\n",
        "    axs[1].plot(range(1,len(model_history.history['loss'])+1),model_history.history['loss'])\n",
        "    axs[1].plot(range(1,len(model_history.history['val_loss'])+1),model_history.history['val_loss'])\n",
        "    axs[1].set_title('Model Loss')\n",
        "    axs[1].set_ylabel('Loss')\n",
        "    axs[1].set_xlabel('Epoch')\n",
        "    axs[1].set_xticks(np.arange(1,len(model_history.history['loss'])+1),len(model_history.history['loss'])/10)\n",
        "    axs[1].legend(['train', 'val'], loc='best')\n",
        "    plt.show()"
      ],
      "execution_count": 0,
      "outputs": []
    },
    {
      "cell_type": "code",
      "metadata": {
        "id": "IVzcNuUqkak7",
        "colab_type": "code",
        "colab": {}
      },
      "source": [
        "def accuracy(test_x, test_y, model):\n",
        "    result = model.predict(test_x)\n",
        "    predicted_class = np.argmax(result, axis=1)\n",
        "    true_class = np.argmax(test_y, axis=1)\n",
        "    num_correct = np.sum(predicted_class == true_class) \n",
        "    accuracy = float(num_correct)/result.shape[0]\n",
        "    return (accuracy * 100)"
      ],
      "execution_count": 0,
      "outputs": []
    },
    {
      "cell_type": "code",
      "metadata": {
        "id": "kM8Hnz1hkeFO",
        "colab_type": "code",
        "colab": {}
      },
      "source": [
        "def space_to_depth_x2(x):\n",
        "    return tf.space_to_depth(x, block_size=2)"
      ],
      "execution_count": 0,
      "outputs": []
    },
    {
      "cell_type": "code",
      "metadata": {
        "id": "bzKU02qPlcw0",
        "colab_type": "code",
        "colab": {}
      },
      "source": [
        "img_height, img_width, channel = train_features.shape[1],train_features.shape[2],train_features.shape[3]"
      ],
      "execution_count": 0,
      "outputs": []
    },
    {
      "cell_type": "code",
      "metadata": {
        "id": "5I-wha_llicS",
        "colab_type": "code",
        "outputId": "164b6816-ce69-4856-9b0e-d6d72b844472",
        "colab": {
          "base_uri": "https://localhost:8080/",
          "height": 34
        }
      },
      "source": [
        "train_features.shape[3]"
      ],
      "execution_count": 8,
      "outputs": [
        {
          "output_type": "execute_result",
          "data": {
            "text/plain": [
              "3"
            ]
          },
          "metadata": {
            "tags": []
          },
          "execution_count": 8
        }
      ]
    },
    {
      "cell_type": "code",
      "metadata": {
        "id": "zfeEfV7Pk1T3",
        "colab_type": "code",
        "colab": {}
      },
      "source": [
        "from keras.layers import Input\n",
        "input = Input(shape=(img_height, img_width, channel))"
      ],
      "execution_count": 0,
      "outputs": []
    },
    {
      "cell_type": "code",
      "metadata": {
        "id": "d-AEilMEk_Mb",
        "colab_type": "code",
        "outputId": "6eb80209-49cd-4814-fac9-f3d93f601563",
        "colab": {
          "base_uri": "https://localhost:8080/",
          "height": 34
        }
      },
      "source": [
        "input"
      ],
      "execution_count": 10,
      "outputs": [
        {
          "output_type": "execute_result",
          "data": {
            "text/plain": [
              "<tf.Tensor 'input_1:0' shape=(?, 32, 32, 3) dtype=float32>"
            ]
          },
          "metadata": {
            "tags": []
          },
          "execution_count": 10
        }
      ]
    },
    {
      "cell_type": "code",
      "metadata": {
        "id": "LQpey4P4mELP",
        "colab_type": "code",
        "colab": {}
      },
      "source": [
        "input1=Input(shape=(32,32,3))"
      ],
      "execution_count": 0,
      "outputs": []
    },
    {
      "cell_type": "code",
      "metadata": {
        "id": "qKc4v7AtmTGd",
        "colab_type": "code",
        "outputId": "e7e128f3-f12c-4c16-e365-7a2f44ca5cf5",
        "colab": {
          "base_uri": "https://localhost:8080/",
          "height": 34
        }
      },
      "source": [
        "input1"
      ],
      "execution_count": 12,
      "outputs": [
        {
          "output_type": "execute_result",
          "data": {
            "text/plain": [
              "<tf.Tensor 'input_2:0' shape=(?, 32, 32, 3) dtype=float32>"
            ]
          },
          "metadata": {
            "tags": []
          },
          "execution_count": 12
        }
      ]
    },
    {
      "cell_type": "code",
      "metadata": {
        "colab_type": "code",
        "id": "4mzHsd7Z7Qm3",
        "colab": {
          "base_uri": "https://localhost:8080/",
          "height": 139
        },
        "outputId": "61bf0857-35c1-4422-d940-c4486c06e65b"
      },
      "source": [
        "from keras.layers import Conv2D, MaxPooling2D, BatchNormalization,SeparableConv2D\n",
        "from keras.layers import concatenate\n",
        "\n",
        "#normal convolutions\n",
        "layer1 = Conv2D(32, (3,3), strides=(1,1), padding='same', name='conv_1', use_bias=False,dilation_rate = 1)(input)\n",
        "layer1 = Dropout(0.2)(layer1)\n",
        "layer1 = BatchNormalization(name='norm_1')(layer1)\n",
        "layer1 = Activation('relu')(layer1)\n",
        "\n",
        "#spatially seperable convolutions\n",
        "layer2 = Conv2D(64,(3,1), strides=(1,1), padding = 'same',name= 'Spatial_seperable1',use_bias=False)(layer1)\n",
        "layer2 = Conv2D(64,(1,3), strides=(1,1), padding = 'same',name= 'Spatial_seperable2',use_bias=False)(layer2)\n",
        "layer2 = Dropout(0.2)(layer2)\n",
        "layer2 = BatchNormalization(name='norm_3')(layer2)\n",
        "layer2 = Activation('relu')(layer2)\n",
        "\n",
        "#depthwise seprable convolutions\n",
        "layer3 = SeparableConv2D(128,(3,3), strides=(1,1), padding = 'same',name= 'depthwise',use_bias=False)(layer2)\n",
        "layer3 = Dropout(0.2)(layer3)\n",
        "layer3 = BatchNormalization(name='norm_2')(layer3)\n",
        "layer3 = Activation('relu')(layer3)\n",
        "\n",
        "layer3=Conv2D(64, (1,1),padding='same',use_bias=False)(layer3)\n",
        "\n",
        "#normal convolution with dilation rate 1 , using for grouped convolution\n",
        "layer4 = Conv2D(64,(3,3), strides=(1,1), padding = 'same',name= 'grouped_conv1',use_bias=False,dilation_rate=1)(layer3)\n",
        "layer4 = Dropout(0.2)(layer4)\n",
        "layer4 = BatchNormalization(name='norm_4')(layer4)\n",
        "layer4 = Activation('relu')(layer4)\n",
        "\n",
        "layer5 = Conv2D(64,(5,5), strides=(1,1), padding = 'same',name= 'grouped_conv2',use_bias=False,dilation_rate=1)(layer3)\n",
        "layer5 = Dropout(0.2)(layer5)\n",
        "layer5 = BatchNormalization(name='norm_5')(layer5)\n",
        "layer5 = Activation('relu')(layer5)\n",
        "\n",
        "#grouped convolution with dilation rate 1\n",
        "layer6= concatenate([layer4, layer5])\n",
        "\n",
        "#Transition block\n",
        "layer7 = MaxPooling2D(pool_size=(2, 2))(layer6)\n",
        "layer7 = Conv2D(32, (1,1),padding='same',use_bias=False)(layer7)\n",
        "\n",
        "#normal convolution with dilation rate 2 , using for grouped convolution\n",
        "layer8 =Conv2D(32, (3,3), strides=(1,1), padding='same', name='grouped_conv3', use_bias=False,dilation_rate = 1)(layer7)\n",
        "layer8 = Dropout(0.2)(layer8)\n",
        "layer8 = BatchNormalization(name='norm_6')(layer8)\n",
        "layer8 = Activation('relu')(layer8)\n",
        "\n",
        "layer9 = Conv2D(64,(3,3), strides=(1,1), padding = 'same',name= 'grouped_conv4',use_bias=False,dilation_rate=2)(layer7)\n",
        "layer9 = Dropout(0.2)(layer9)\n",
        "layer9 = BatchNormalization(name='norm_7')(layer9)\n",
        "layer9 = Activation('relu')(layer9)\n",
        "\n",
        "#grouped convolution with dilation rate 2\n",
        "layer10= concatenate([layer8, layer9])\n",
        "\n",
        "layer11 = Conv2D(96,(3,3), strides=(1,1),name= 'conv_2',use_bias=False)(layer10)\n",
        "layer11 = BatchNormalization(name='norm_8')(layer11)\n",
        "layer11 = Activation('relu')(layer11)\n",
        "\n",
        "layer12 = MaxPooling2D(pool_size=(2, 2))(layer11)\n",
        "layer12 = Conv2D(32, (1,1),use_bias=False)(layer12)\n",
        "\n",
        "layer13 = Conv2D(32,(3,3), strides=(1,1),name= 'conv_3',use_bias=False)(layer12)\n",
        "layer13 = BatchNormalization(name='norm_9')(layer13)\n",
        "layer13 = Activation('relu')(layer13)\n",
        "\n",
        "layer14 = Conv2D(10, (1,1),padding='same',use_bias=False)(layer13)\n",
        "layer14 = Conv2D(10,5)(layer14)\n",
        "\n",
        "\n",
        "layer15 = Flatten()(layer14)\n",
        "output=Activation('softmax')(layer15)"
      ],
      "execution_count": 13,
      "outputs": [
        {
          "output_type": "stream",
          "text": [
            "WARNING:tensorflow:From /usr/local/lib/python3.6/dist-packages/tensorflow/python/framework/op_def_library.py:263: colocate_with (from tensorflow.python.framework.ops) is deprecated and will be removed in a future version.\n",
            "Instructions for updating:\n",
            "Colocations handled automatically by placer.\n",
            "WARNING:tensorflow:From /usr/local/lib/python3.6/dist-packages/keras/backend/tensorflow_backend.py:3445: calling dropout (from tensorflow.python.ops.nn_ops) with keep_prob is deprecated and will be removed in a future version.\n",
            "Instructions for updating:\n",
            "Please use `rate` instead of `keep_prob`. Rate should be set to `rate = 1 - keep_prob`.\n"
          ],
          "name": "stdout"
        }
      ]
    },
    {
      "cell_type": "code",
      "metadata": {
        "id": "688lQ1AKnoRS",
        "colab_type": "code",
        "outputId": "d52344c5-c37a-4832-c379-e45840df383f",
        "colab": {
          "base_uri": "https://localhost:8080/",
          "height": 1768
        }
      },
      "source": [
        "from keras.models import Model\n",
        "model = Model(inputs=[input], outputs=[output])\n",
        "model.summary()"
      ],
      "execution_count": 14,
      "outputs": [
        {
          "output_type": "stream",
          "text": [
            "__________________________________________________________________________________________________\n",
            "Layer (type)                    Output Shape         Param #     Connected to                     \n",
            "==================================================================================================\n",
            "input_1 (InputLayer)            (None, 32, 32, 3)    0                                            \n",
            "__________________________________________________________________________________________________\n",
            "conv_1 (Conv2D)                 (None, 32, 32, 32)   864         input_1[0][0]                    \n",
            "__________________________________________________________________________________________________\n",
            "dropout_1 (Dropout)             (None, 32, 32, 32)   0           conv_1[0][0]                     \n",
            "__________________________________________________________________________________________________\n",
            "norm_1 (BatchNormalization)     (None, 32, 32, 32)   128         dropout_1[0][0]                  \n",
            "__________________________________________________________________________________________________\n",
            "activation_1 (Activation)       (None, 32, 32, 32)   0           norm_1[0][0]                     \n",
            "__________________________________________________________________________________________________\n",
            "Spatial_seperable1 (Conv2D)     (None, 32, 32, 64)   6144        activation_1[0][0]               \n",
            "__________________________________________________________________________________________________\n",
            "Spatial_seperable2 (Conv2D)     (None, 32, 32, 64)   12288       Spatial_seperable1[0][0]         \n",
            "__________________________________________________________________________________________________\n",
            "dropout_2 (Dropout)             (None, 32, 32, 64)   0           Spatial_seperable2[0][0]         \n",
            "__________________________________________________________________________________________________\n",
            "norm_3 (BatchNormalization)     (None, 32, 32, 64)   256         dropout_2[0][0]                  \n",
            "__________________________________________________________________________________________________\n",
            "activation_2 (Activation)       (None, 32, 32, 64)   0           norm_3[0][0]                     \n",
            "__________________________________________________________________________________________________\n",
            "depthwise (SeparableConv2D)     (None, 32, 32, 128)  8768        activation_2[0][0]               \n",
            "__________________________________________________________________________________________________\n",
            "dropout_3 (Dropout)             (None, 32, 32, 128)  0           depthwise[0][0]                  \n",
            "__________________________________________________________________________________________________\n",
            "norm_2 (BatchNormalization)     (None, 32, 32, 128)  512         dropout_3[0][0]                  \n",
            "__________________________________________________________________________________________________\n",
            "activation_3 (Activation)       (None, 32, 32, 128)  0           norm_2[0][0]                     \n",
            "__________________________________________________________________________________________________\n",
            "conv2d_1 (Conv2D)               (None, 32, 32, 64)   8192        activation_3[0][0]               \n",
            "__________________________________________________________________________________________________\n",
            "grouped_conv1 (Conv2D)          (None, 32, 32, 64)   36864       conv2d_1[0][0]                   \n",
            "__________________________________________________________________________________________________\n",
            "grouped_conv2 (Conv2D)          (None, 32, 32, 64)   102400      conv2d_1[0][0]                   \n",
            "__________________________________________________________________________________________________\n",
            "dropout_4 (Dropout)             (None, 32, 32, 64)   0           grouped_conv1[0][0]              \n",
            "__________________________________________________________________________________________________\n",
            "dropout_5 (Dropout)             (None, 32, 32, 64)   0           grouped_conv2[0][0]              \n",
            "__________________________________________________________________________________________________\n",
            "norm_4 (BatchNormalization)     (None, 32, 32, 64)   256         dropout_4[0][0]                  \n",
            "__________________________________________________________________________________________________\n",
            "norm_5 (BatchNormalization)     (None, 32, 32, 64)   256         dropout_5[0][0]                  \n",
            "__________________________________________________________________________________________________\n",
            "activation_4 (Activation)       (None, 32, 32, 64)   0           norm_4[0][0]                     \n",
            "__________________________________________________________________________________________________\n",
            "activation_5 (Activation)       (None, 32, 32, 64)   0           norm_5[0][0]                     \n",
            "__________________________________________________________________________________________________\n",
            "concatenate_1 (Concatenate)     (None, 32, 32, 128)  0           activation_4[0][0]               \n",
            "                                                                 activation_5[0][0]               \n",
            "__________________________________________________________________________________________________\n",
            "max_pooling2d_1 (MaxPooling2D)  (None, 16, 16, 128)  0           concatenate_1[0][0]              \n",
            "__________________________________________________________________________________________________\n",
            "conv2d_2 (Conv2D)               (None, 16, 16, 32)   4096        max_pooling2d_1[0][0]            \n",
            "__________________________________________________________________________________________________\n",
            "grouped_conv3 (Conv2D)          (None, 16, 16, 32)   9216        conv2d_2[0][0]                   \n",
            "__________________________________________________________________________________________________\n",
            "grouped_conv4 (Conv2D)          (None, 16, 16, 64)   18432       conv2d_2[0][0]                   \n",
            "__________________________________________________________________________________________________\n",
            "dropout_6 (Dropout)             (None, 16, 16, 32)   0           grouped_conv3[0][0]              \n",
            "__________________________________________________________________________________________________\n",
            "dropout_7 (Dropout)             (None, 16, 16, 64)   0           grouped_conv4[0][0]              \n",
            "__________________________________________________________________________________________________\n",
            "norm_6 (BatchNormalization)     (None, 16, 16, 32)   128         dropout_6[0][0]                  \n",
            "__________________________________________________________________________________________________\n",
            "norm_7 (BatchNormalization)     (None, 16, 16, 64)   256         dropout_7[0][0]                  \n",
            "__________________________________________________________________________________________________\n",
            "activation_6 (Activation)       (None, 16, 16, 32)   0           norm_6[0][0]                     \n",
            "__________________________________________________________________________________________________\n",
            "activation_7 (Activation)       (None, 16, 16, 64)   0           norm_7[0][0]                     \n",
            "__________________________________________________________________________________________________\n",
            "concatenate_2 (Concatenate)     (None, 16, 16, 96)   0           activation_6[0][0]               \n",
            "                                                                 activation_7[0][0]               \n",
            "__________________________________________________________________________________________________\n",
            "conv_2 (Conv2D)                 (None, 14, 14, 96)   82944       concatenate_2[0][0]              \n",
            "__________________________________________________________________________________________________\n",
            "norm_8 (BatchNormalization)     (None, 14, 14, 96)   384         conv_2[0][0]                     \n",
            "__________________________________________________________________________________________________\n",
            "activation_8 (Activation)       (None, 14, 14, 96)   0           norm_8[0][0]                     \n",
            "__________________________________________________________________________________________________\n",
            "max_pooling2d_2 (MaxPooling2D)  (None, 7, 7, 96)     0           activation_8[0][0]               \n",
            "__________________________________________________________________________________________________\n",
            "conv2d_3 (Conv2D)               (None, 7, 7, 32)     3072        max_pooling2d_2[0][0]            \n",
            "__________________________________________________________________________________________________\n",
            "conv_3 (Conv2D)                 (None, 5, 5, 32)     9216        conv2d_3[0][0]                   \n",
            "__________________________________________________________________________________________________\n",
            "norm_9 (BatchNormalization)     (None, 5, 5, 32)     128         conv_3[0][0]                     \n",
            "__________________________________________________________________________________________________\n",
            "activation_9 (Activation)       (None, 5, 5, 32)     0           norm_9[0][0]                     \n",
            "__________________________________________________________________________________________________\n",
            "conv2d_4 (Conv2D)               (None, 5, 5, 10)     320         activation_9[0][0]               \n",
            "__________________________________________________________________________________________________\n",
            "conv2d_5 (Conv2D)               (None, 1, 1, 10)     2510        conv2d_4[0][0]                   \n",
            "__________________________________________________________________________________________________\n",
            "flatten_1 (Flatten)             (None, 10)           0           conv2d_5[0][0]                   \n",
            "__________________________________________________________________________________________________\n",
            "activation_10 (Activation)      (None, 10)           0           flatten_1[0][0]                  \n",
            "==================================================================================================\n",
            "Total params: 307,630\n",
            "Trainable params: 306,478\n",
            "Non-trainable params: 1,152\n",
            "__________________________________________________________________________________________________\n"
          ],
          "name": "stdout"
        }
      ]
    },
    {
      "cell_type": "code",
      "metadata": {
        "id": "aWMIxCZAqmJG",
        "colab_type": "code",
        "colab": {}
      },
      "source": [
        "model.compile(optimizer='adam', loss='categorical_crossentropy', metrics=['accuracy'])"
      ],
      "execution_count": 0,
      "outputs": []
    },
    {
      "cell_type": "code",
      "metadata": {
        "id": "-nEk8nFCzodK",
        "colab_type": "code",
        "outputId": "109d4ccf-70b5-469f-ddf9-85cc20f44671",
        "colab": {
          "base_uri": "https://localhost:8080/",
          "height": 2223
        }
      },
      "source": [
        "from keras.preprocessing.image import ImageDataGenerator\n",
        "\n",
        "datagen = ImageDataGenerator(zoom_range=0.0, \n",
        "                             horizontal_flip=False)\n",
        "\n",
        "\n",
        "# train the model\n",
        "start = time.time()\n",
        "# Train the model\n",
        "model_info = model.fit_generator(datagen.flow(train_features, train_labels, batch_size = 128),\n",
        "                                 samples_per_epoch = train_features.shape[0], nb_epoch = 50, \n",
        "                                 validation_data = (test_features, test_labels), verbose=1)\n",
        "end = time.time()\n",
        "print (\"Model took %0.2f seconds to train\"%(end - start))\n",
        "# plot model history\n",
        "plot_model_history(model_info)\n",
        "# compute test accuracy\n",
        "print (\"Accuracy on test data is: %0.2f\"%accuracy(test_features, test_labels, model))"
      ],
      "execution_count": 16,
      "outputs": [
        {
          "output_type": "stream",
          "text": [
            "WARNING:tensorflow:From /usr/local/lib/python3.6/dist-packages/tensorflow/python/ops/math_ops.py:3066: to_int32 (from tensorflow.python.ops.math_ops) is deprecated and will be removed in a future version.\n",
            "Instructions for updating:\n",
            "Use tf.cast instead.\n"
          ],
          "name": "stdout"
        },
        {
          "output_type": "stream",
          "text": [
            "/usr/local/lib/python3.6/dist-packages/ipykernel_launcher.py:12: UserWarning: The semantics of the Keras 2 argument `steps_per_epoch` is not the same as the Keras 1 argument `samples_per_epoch`. `steps_per_epoch` is the number of batches to draw from the generator at each epoch. Basically steps_per_epoch = samples_per_epoch/batch_size. Similarly `nb_val_samples`->`validation_steps` and `val_samples`->`steps` arguments have changed. Update your method calls accordingly.\n",
            "  if sys.path[0] == '':\n",
            "/usr/local/lib/python3.6/dist-packages/ipykernel_launcher.py:12: UserWarning: Update your `fit_generator` call to the Keras 2 API: `fit_generator(<keras_pre..., validation_data=(array([[[..., verbose=1, steps_per_epoch=390, epochs=50)`\n",
            "  if sys.path[0] == '':\n"
          ],
          "name": "stderr"
        },
        {
          "output_type": "stream",
          "text": [
            "Epoch 1/50\n",
            "390/390 [==============================] - 43s 111ms/step - loss: 1.4430 - acc: 0.4760 - val_loss: 2.8612 - val_acc: 0.2910\n",
            "Epoch 2/50\n",
            "390/390 [==============================] - 39s 99ms/step - loss: 1.0141 - acc: 0.6382 - val_loss: 1.1504 - val_acc: 0.5998\n",
            "Epoch 3/50\n",
            "390/390 [==============================] - 37s 96ms/step - loss: 0.8286 - acc: 0.7093 - val_loss: 0.9636 - val_acc: 0.6760\n",
            "Epoch 4/50\n",
            "390/390 [==============================] - 37s 96ms/step - loss: 0.7264 - acc: 0.7457 - val_loss: 0.8725 - val_acc: 0.7062\n",
            "Epoch 5/50\n",
            "390/390 [==============================] - 37s 96ms/step - loss: 0.6496 - acc: 0.7703 - val_loss: 0.7616 - val_acc: 0.7496\n",
            "Epoch 6/50\n",
            "390/390 [==============================] - 37s 96ms/step - loss: 0.5973 - acc: 0.7912 - val_loss: 0.9011 - val_acc: 0.7244\n",
            "Epoch 7/50\n",
            "390/390 [==============================] - 37s 96ms/step - loss: 0.5480 - acc: 0.8103 - val_loss: 0.8921 - val_acc: 0.7300\n",
            "Epoch 8/50\n",
            "390/390 [==============================] - 38s 96ms/step - loss: 0.5089 - acc: 0.8225 - val_loss: 0.8107 - val_acc: 0.7478\n",
            "Epoch 9/50\n",
            "390/390 [==============================] - 38s 98ms/step - loss: 0.4760 - acc: 0.8337 - val_loss: 0.7458 - val_acc: 0.7678\n",
            "Epoch 10/50\n",
            "390/390 [==============================] - 38s 98ms/step - loss: 0.4466 - acc: 0.8458 - val_loss: 0.9043 - val_acc: 0.7425\n",
            "Epoch 11/50\n",
            "390/390 [==============================] - 38s 98ms/step - loss: 0.4211 - acc: 0.8527 - val_loss: 0.6986 - val_acc: 0.7864\n",
            "Epoch 12/50\n",
            "390/390 [==============================] - 38s 98ms/step - loss: 0.3942 - acc: 0.8620 - val_loss: 0.8731 - val_acc: 0.7536\n",
            "Epoch 13/50\n",
            "390/390 [==============================] - 38s 98ms/step - loss: 0.3741 - acc: 0.8707 - val_loss: 0.7731 - val_acc: 0.7791\n",
            "Epoch 14/50\n",
            "390/390 [==============================] - 38s 98ms/step - loss: 0.3545 - acc: 0.8761 - val_loss: 0.7171 - val_acc: 0.7891\n",
            "Epoch 15/50\n",
            "390/390 [==============================] - 38s 98ms/step - loss: 0.3383 - acc: 0.8795 - val_loss: 0.7044 - val_acc: 0.7929\n",
            "Epoch 16/50\n",
            "390/390 [==============================] - 38s 98ms/step - loss: 0.3212 - acc: 0.8869 - val_loss: 1.0397 - val_acc: 0.7348\n",
            "Epoch 17/50\n",
            "390/390 [==============================] - 38s 98ms/step - loss: 0.3008 - acc: 0.8954 - val_loss: 0.8115 - val_acc: 0.7837\n",
            "Epoch 18/50\n",
            "390/390 [==============================] - 38s 98ms/step - loss: 0.2891 - acc: 0.8989 - val_loss: 0.9472 - val_acc: 0.7584\n",
            "Epoch 19/50\n",
            "390/390 [==============================] - 38s 98ms/step - loss: 0.2760 - acc: 0.9024 - val_loss: 0.9358 - val_acc: 0.7665\n",
            "Epoch 20/50\n",
            "390/390 [==============================] - 38s 98ms/step - loss: 0.2596 - acc: 0.9077 - val_loss: 0.7680 - val_acc: 0.7933\n",
            "Epoch 21/50\n",
            "390/390 [==============================] - 38s 97ms/step - loss: 0.2591 - acc: 0.9071 - val_loss: 0.6989 - val_acc: 0.8161\n",
            "Epoch 22/50\n",
            "390/390 [==============================] - 38s 98ms/step - loss: 0.2448 - acc: 0.9136 - val_loss: 0.7291 - val_acc: 0.8047\n",
            "Epoch 23/50\n",
            "390/390 [==============================] - 38s 98ms/step - loss: 0.2304 - acc: 0.9181 - val_loss: 0.7521 - val_acc: 0.8039\n",
            "Epoch 24/50\n",
            "390/390 [==============================] - 38s 98ms/step - loss: 0.2246 - acc: 0.9200 - val_loss: 0.7525 - val_acc: 0.8106\n",
            "Epoch 25/50\n",
            "390/390 [==============================] - 38s 98ms/step - loss: 0.2169 - acc: 0.9229 - val_loss: 0.9362 - val_acc: 0.7844\n",
            "Epoch 26/50\n",
            "390/390 [==============================] - 38s 98ms/step - loss: 0.2097 - acc: 0.9242 - val_loss: 0.8014 - val_acc: 0.8063\n",
            "Epoch 27/50\n",
            "390/390 [==============================] - 38s 98ms/step - loss: 0.1987 - acc: 0.9283 - val_loss: 0.9593 - val_acc: 0.7858\n",
            "Epoch 28/50\n",
            "390/390 [==============================] - 38s 98ms/step - loss: 0.1900 - acc: 0.9330 - val_loss: 0.8732 - val_acc: 0.8024\n",
            "Epoch 29/50\n",
            "390/390 [==============================] - 38s 98ms/step - loss: 0.1901 - acc: 0.9310 - val_loss: 0.8127 - val_acc: 0.7991\n",
            "Epoch 30/50\n",
            "390/390 [==============================] - 38s 98ms/step - loss: 0.1831 - acc: 0.9332 - val_loss: 0.8999 - val_acc: 0.7950\n",
            "Epoch 31/50\n",
            "390/390 [==============================] - 38s 98ms/step - loss: 0.1809 - acc: 0.9350 - val_loss: 0.8649 - val_acc: 0.8032\n",
            "Epoch 32/50\n",
            "390/390 [==============================] - 38s 98ms/step - loss: 0.1652 - acc: 0.9400 - val_loss: 0.7421 - val_acc: 0.8263\n",
            "Epoch 33/50\n",
            "390/390 [==============================] - 38s 98ms/step - loss: 0.1666 - acc: 0.9392 - val_loss: 0.8717 - val_acc: 0.8046\n",
            "Epoch 34/50\n",
            "390/390 [==============================] - 38s 98ms/step - loss: 0.1627 - acc: 0.9404 - val_loss: 0.7647 - val_acc: 0.8166\n",
            "Epoch 35/50\n",
            "390/390 [==============================] - 38s 97ms/step - loss: 0.1570 - acc: 0.9427 - val_loss: 0.8841 - val_acc: 0.8074\n",
            "Epoch 36/50\n",
            "390/390 [==============================] - 38s 98ms/step - loss: 0.1532 - acc: 0.9447 - val_loss: 0.8319 - val_acc: 0.8158\n",
            "Epoch 37/50\n",
            "390/390 [==============================] - 38s 98ms/step - loss: 0.1503 - acc: 0.9468 - val_loss: 0.7827 - val_acc: 0.8213\n",
            "Epoch 38/50\n",
            "390/390 [==============================] - 38s 98ms/step - loss: 0.1458 - acc: 0.9469 - val_loss: 0.9521 - val_acc: 0.8001\n",
            "Epoch 39/50\n",
            "390/390 [==============================] - 38s 98ms/step - loss: 0.1414 - acc: 0.9497 - val_loss: 0.8488 - val_acc: 0.8190\n",
            "Epoch 40/50\n",
            "390/390 [==============================] - 38s 98ms/step - loss: 0.1358 - acc: 0.9504 - val_loss: 0.8705 - val_acc: 0.8137\n",
            "Epoch 41/50\n",
            "390/390 [==============================] - 38s 98ms/step - loss: 0.1381 - acc: 0.9509 - val_loss: 0.8659 - val_acc: 0.8147\n",
            "Epoch 42/50\n",
            "390/390 [==============================] - 38s 98ms/step - loss: 0.1359 - acc: 0.9511 - val_loss: 0.8647 - val_acc: 0.8225\n",
            "Epoch 43/50\n",
            "390/390 [==============================] - 38s 98ms/step - loss: 0.1293 - acc: 0.9527 - val_loss: 0.9011 - val_acc: 0.8079\n",
            "Epoch 44/50\n",
            "390/390 [==============================] - 38s 98ms/step - loss: 0.1303 - acc: 0.9525 - val_loss: 0.8612 - val_acc: 0.8247\n",
            "Epoch 45/50\n",
            "390/390 [==============================] - 38s 98ms/step - loss: 0.1240 - acc: 0.9548 - val_loss: 0.9577 - val_acc: 0.8109\n",
            "Epoch 46/50\n",
            "390/390 [==============================] - 38s 98ms/step - loss: 0.1201 - acc: 0.9567 - val_loss: 0.9747 - val_acc: 0.8079\n",
            "Epoch 47/50\n",
            "390/390 [==============================] - 38s 98ms/step - loss: 0.1246 - acc: 0.9554 - val_loss: 0.9930 - val_acc: 0.8059\n",
            "Epoch 48/50\n",
            "390/390 [==============================] - 38s 98ms/step - loss: 0.1160 - acc: 0.9572 - val_loss: 0.9594 - val_acc: 0.8162\n",
            "Epoch 49/50\n",
            "390/390 [==============================] - 38s 98ms/step - loss: 0.1149 - acc: 0.9587 - val_loss: 0.9906 - val_acc: 0.8086\n",
            "Epoch 50/50\n",
            "390/390 [==============================] - 38s 98ms/step - loss: 0.1193 - acc: 0.9569 - val_loss: 1.0767 - val_acc: 0.8046\n",
            "Model took 1913.06 seconds to train\n"
          ],
          "name": "stdout"
        },
        {
          "output_type": "display_data",
          "data": {
            "image/png": "[encoded data removed]",
            "text/plain": [
              "<Figure size 1080x360 with 2 Axes>"
            ]
          },
          "metadata": {
            "tags": []
          }
        },
        {
          "output_type": "stream",
          "text": [
            "Accuracy on test data is: 80.46\n"
          ],
          "name": "stdout"
        }
      ]
    },
    {
      "cell_type": "code",
      "metadata": {
        "id": "emQHpGHCzs2j",
        "colab_type": "code",
        "colab": {}
      },
      "source": [
        ""
      ],
      "execution_count": 0,
      "outputs": []
    }
  ]
}