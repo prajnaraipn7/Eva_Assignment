{
  "nbformat": 4,
  "nbformat_minor": 0,
  "metadata": {
    "colab": {
      "name": "Eva_Assignment6b.ipynb",
      "version": "0.3.2",
      "provenance": [],
      "collapsed_sections": []
    },
    "kernelspec": {
      "name": "python3",
      "display_name": "Python 3"
    },
    "accelerator": "GPU"
  },
  "cells": [
    {
      "cell_type": "code",
      "metadata": {
        "id": "DQ9-96z8kQdx",
        "colab_type": "code",
        "colab": {}
      },
      "source": [
        "from keras import backend as K\n",
        "import time\n",
        "import matplotlib.pyplot as plt\n",
        "import numpy as np\n",
        "% matplotlib inline\n",
        "np.random.seed(2017) \n",
        "from keras.models import Sequential\n",
        "from keras.layers.convolutional import Convolution2D, MaxPooling2D\n",
        "from keras.layers import Activation, Flatten, Dense, Dropout\n",
        "from keras.layers.normalization import BatchNormalization\n",
        "from keras.utils import np_utils"
      ],
      "execution_count": 0,
      "outputs": []
    },
    {
      "cell_type": "code",
      "metadata": {
        "id": "MNGU-glxkRN8",
        "colab_type": "code",
        "colab": {}
      },
      "source": [
        "from keras.datasets import cifar10\n",
        "(train_features, train_labels), (test_features, test_labels) = cifar10.load_data()\n",
        "num_train, img_channels, img_rows, img_cols =  train_features.shape\n",
        "num_test, _, _, _ =  test_features.shape\n",
        "num_classes = len(np.unique(train_labels))"
      ],
      "execution_count": 0,
      "outputs": []
    },
    {
      "cell_type": "code",
      "metadata": {
        "id": "Uyz3_JYlkTIF",
        "colab_type": "code",
        "colab": {}
      },
      "source": [
        "train_features = train_features.astype('float32')/255\n",
        "test_features = test_features.astype('float32')/255\n",
        "# convert class labels to binary class labels\n",
        "train_labels = np_utils.to_categorical(train_labels, num_classes)\n",
        "test_labels = np_utils.to_categorical(test_labels, num_classes)"
      ],
      "execution_count": 0,
      "outputs": []
    },
    {
      "cell_type": "code",
      "metadata": {
        "id": "NKVeoyqEkW46",
        "colab_type": "code",
        "colab": {}
      },
      "source": [
        "def plot_model_history(model_history):\n",
        "    fig, axs = plt.subplots(1,2,figsize=(15,5))\n",
        "    # summarize history for accuracy\n",
        "    axs[0].plot(range(1,len(model_history.history['acc'])+1),model_history.history['acc'])\n",
        "    axs[0].plot(range(1,len(model_history.history['val_acc'])+1),model_history.history['val_acc'])\n",
        "    axs[0].set_title('Model Accuracy')\n",
        "    axs[0].set_ylabel('Accuracy')\n",
        "    axs[0].set_xlabel('Epoch')\n",
        "    axs[0].set_xticks(np.arange(1,len(model_history.history['acc'])+1),len(model_history.history['acc'])/10)\n",
        "    axs[0].legend(['train', 'val'], loc='best')\n",
        "    # summarize history for loss\n",
        "    axs[1].plot(range(1,len(model_history.history['loss'])+1),model_history.history['loss'])\n",
        "    axs[1].plot(range(1,len(model_history.history['val_loss'])+1),model_history.history['val_loss'])\n",
        "    axs[1].set_title('Model Loss')\n",
        "    axs[1].set_ylabel('Loss')\n",
        "    axs[1].set_xlabel('Epoch')\n",
        "    axs[1].set_xticks(np.arange(1,len(model_history.history['loss'])+1),len(model_history.history['loss'])/10)\n",
        "    axs[1].legend(['train', 'val'], loc='best')\n",
        "    plt.show()"
      ],
      "execution_count": 0,
      "outputs": []
    },
    {
      "cell_type": "code",
      "metadata": {
        "id": "IVzcNuUqkak7",
        "colab_type": "code",
        "colab": {}
      },
      "source": [
        "def accuracy(test_x, test_y, model):\n",
        "    result = model.predict(test_x)\n",
        "    predicted_class = np.argmax(result, axis=1)\n",
        "    true_class = np.argmax(test_y, axis=1)\n",
        "    num_correct = np.sum(predicted_class == true_class) \n",
        "    accuracy = float(num_correct)/result.shape[0]\n",
        "    return (accuracy * 100)"
      ],
      "execution_count": 0,
      "outputs": []
    },
    {
      "cell_type": "code",
      "metadata": {
        "id": "kM8Hnz1hkeFO",
        "colab_type": "code",
        "colab": {}
      },
      "source": [
        "def space_to_depth_x2(x):\n",
        "    return tf.space_to_depth(x, block_size=2)"
      ],
      "execution_count": 0,
      "outputs": []
    },
    {
      "cell_type": "code",
      "metadata": {
        "id": "bzKU02qPlcw0",
        "colab_type": "code",
        "colab": {}
      },
      "source": [
        "img_height, img_width, channel = train_features.shape[1],train_features.shape[2],train_features.shape[3]"
      ],
      "execution_count": 0,
      "outputs": []
    },
    {
      "cell_type": "code",
      "metadata": {
        "id": "5I-wha_llicS",
        "colab_type": "code",
        "outputId": "b47e8266-7189-49e9-a3bb-3490a2cc8d04",
        "colab": {
          "base_uri": "https://localhost:8080/",
          "height": 34
        }
      },
      "source": [
        "train_features.shape[3]"
      ],
      "execution_count": 46,
      "outputs": [
        {
          "output_type": "execute_result",
          "data": {
            "text/plain": [
              "3"
            ]
          },
          "metadata": {
            "tags": []
          },
          "execution_count": 46
        }
      ]
    },
    {
      "cell_type": "code",
      "metadata": {
        "id": "zfeEfV7Pk1T3",
        "colab_type": "code",
        "colab": {}
      },
      "source": [
        "from keras.layers import Input\n",
        "input = Input(shape=(img_height, img_width, channel))"
      ],
      "execution_count": 0,
      "outputs": []
    },
    {
      "cell_type": "code",
      "metadata": {
        "id": "d-AEilMEk_Mb",
        "colab_type": "code",
        "outputId": "1690df06-1c42-462a-a25f-7e34d8922a34",
        "colab": {
          "base_uri": "https://localhost:8080/",
          "height": 34
        }
      },
      "source": [
        "input"
      ],
      "execution_count": 48,
      "outputs": [
        {
          "output_type": "execute_result",
          "data": {
            "text/plain": [
              "<tf.Tensor 'input_5:0' shape=(?, 32, 32, 3) dtype=float32>"
            ]
          },
          "metadata": {
            "tags": []
          },
          "execution_count": 48
        }
      ]
    },
    {
      "cell_type": "code",
      "metadata": {
        "id": "LQpey4P4mELP",
        "colab_type": "code",
        "colab": {}
      },
      "source": [
        "input1=Input(shape=(32,32,3))"
      ],
      "execution_count": 0,
      "outputs": []
    },
    {
      "cell_type": "code",
      "metadata": {
        "id": "qKc4v7AtmTGd",
        "colab_type": "code",
        "outputId": "3595eb43-0307-4a54-9f6c-00db382c5cd9",
        "colab": {
          "base_uri": "https://localhost:8080/",
          "height": 34
        }
      },
      "source": [
        "input1"
      ],
      "execution_count": 50,
      "outputs": [
        {
          "output_type": "execute_result",
          "data": {
            "text/plain": [
              "<tf.Tensor 'input_6:0' shape=(?, 32, 32, 3) dtype=float32>"
            ]
          },
          "metadata": {
            "tags": []
          },
          "execution_count": 50
        }
      ]
    },
    {
      "cell_type": "code",
      "metadata": {
        "colab_type": "code",
        "id": "4mzHsd7Z7Qm3",
        "colab": {}
      },
      "source": [
        "from keras.layers import Conv2D, MaxPooling2D, BatchNormalization,SeparableConv2D\n",
        "from keras.layers import concatenate\n",
        "\n",
        "#normal convolutions\n",
        "layer1 = Conv2D(32, (3,3), strides=(1,1), padding='same', name='conv_1', use_bias=False,dilation_rate = 1)(input)\n",
        "layer1 = Dropout(0.2)(layer1)\n",
        "layer1 = BatchNormalization(name='norm_1')(layer1)\n",
        "layer1 = Activation('relu')(layer1)\n",
        "\n",
        "#spatially seperable convolutions\n",
        "layer2 = Conv2D(64,(3,1), strides=(1,1), padding = 'same',name= 'Spatial_seperable1',use_bias=False)(layer1)\n",
        "layer2 = Conv2D(64,(1,3), strides=(1,1), padding = 'same',name= 'Spatial_seperable2',use_bias=False)(layer2)\n",
        "layer2 = Dropout(0.2)(layer2)\n",
        "layer2 = BatchNormalization(name='norm_3')(layer2)\n",
        "layer2 = Activation('relu')(layer2)\n",
        "\n",
        "#depthwise seprable convolutions\n",
        "layer3 = SeparableConv2D(128,(3,3), strides=(1,1), padding = 'same',name= 'depthwise',use_bias=False)(layer2)\n",
        "layer3 = Dropout(0.2)(layer3)\n",
        "layer3 = BatchNormalization(name='norm_2')(layer3)\n",
        "layer3 = Activation('relu')(layer3)\n",
        "\n",
        "layer3=Conv2D(64, (1,1),padding='same',use_bias=False)(layer3)\n",
        "\n",
        "#normal convolution with dilation rate 1 , using for grouped convolution\n",
        "layer4 = Conv2D(64,(3,3), strides=(1,1), padding = 'same',name= 'grouped_conv1',use_bias=False,dilation_rate=1)(layer3)\n",
        "layer4 = Dropout(0.2)(layer4)\n",
        "layer4 = BatchNormalization(name='norm_4')(layer4)\n",
        "layer4 = Activation('relu')(layer4)\n",
        "\n",
        "layer5 = Conv2D(64,(5,5), strides=(1,1), padding = 'same',name= 'grouped_conv2',use_bias=False,dilation_rate=1)(layer3)\n",
        "layer5 = Dropout(0.2)(layer5)\n",
        "layer5 = BatchNormalization(name='norm_5')(layer5)\n",
        "layer5 = Activation('relu')(layer5)\n",
        "\n",
        "#grouped convolution with dilation rate 1\n",
        "layer6= concatenate([layer4, layer5])\n",
        "\n",
        "#Transition block\n",
        "layer7 = MaxPooling2D(pool_size=(2, 2))(layer6)\n",
        "layer7 = Conv2D(32, (1,1),padding='same',use_bias=False)(layer7)\n",
        "\n",
        "#normal convolution with dilation rate 2 , using for grouped convolution\n",
        "layer8 =Conv2D(32, (3,3), strides=(1,1), padding='same', name='grouped_conv3', use_bias=False,dilation_rate = 1)(layer7)\n",
        "layer8 = Dropout(0.2)(layer8)\n",
        "layer8 = BatchNormalization(name='norm_6')(layer8)\n",
        "layer8 = Activation('relu')(layer8)\n",
        "\n",
        "layer9 = Conv2D(64,(3,3), strides=(1,1), padding = 'same',name= 'grouped_conv4',use_bias=False,dilation_rate=2)(layer7)\n",
        "layer9 = Dropout(0.2)(layer9)\n",
        "layer9 = BatchNormalization(name='norm_7')(layer9)\n",
        "layer9 = Activation('relu')(layer9)\n",
        "\n",
        "#grouped convolution with dilation rate 2\n",
        "layer10= concatenate([layer8, layer9])\n",
        "\n",
        "layer11 = Conv2D(96,(3,3), strides=(1,1),name= 'conv_2',use_bias=False)(layer10)\n",
        "layer11 = BatchNormalization(name='norm_8')(layer11)\n",
        "layer11 = Activation('relu')(layer11)\n",
        "\n",
        "layer12 = MaxPooling2D(pool_size=(2, 2))(layer11)\n",
        "layer12 = Conv2D(32, (1,1),use_bias=False)(layer12)\n",
        "\n",
        "layer13 = Conv2D(32,(3,3), strides=(1,1),name= 'conv_3',use_bias=False)(layer12)\n",
        "layer13 = BatchNormalization(name='norm_9')(layer13)\n",
        "layer13 = Activation('relu')(layer13)\n",
        "\n",
        "layer14 = Conv2D(10, (1,1),padding='same',use_bias=False)(layer13)\n",
        "layer14 = Conv2D(10,5)(layer14)\n",
        "\n",
        "\n",
        "layer15 = Flatten()(layer14)\n",
        "output=Activation('softmax')(layer15)"
      ],
      "execution_count": 0,
      "outputs": []
    },
    {
      "cell_type": "code",
      "metadata": {
        "id": "688lQ1AKnoRS",
        "colab_type": "code",
        "outputId": "dfa3f37e-ae39-4c24-db6a-f293e9604358",
        "colab": {
          "base_uri": "https://localhost:8080/",
          "height": 1768
        }
      },
      "source": [
        "from keras.models import Model\n",
        "model = Model(inputs=[input], outputs=[output])\n",
        "model.summary()"
      ],
      "execution_count": 52,
      "outputs": [
        {
          "output_type": "stream",
          "text": [
            "__________________________________________________________________________________________________\n",
            "Layer (type)                    Output Shape         Param #     Connected to                     \n",
            "==================================================================================================\n",
            "input_5 (InputLayer)            (None, 32, 32, 3)    0                                            \n",
            "__________________________________________________________________________________________________\n",
            "conv_1 (Conv2D)                 (None, 32, 32, 32)   864         input_5[0][0]                    \n",
            "__________________________________________________________________________________________________\n",
            "dropout_27 (Dropout)            (None, 32, 32, 32)   0           conv_1[0][0]                     \n",
            "__________________________________________________________________________________________________\n",
            "norm_1 (BatchNormalization)     (None, 32, 32, 32)   128         dropout_27[0][0]                 \n",
            "__________________________________________________________________________________________________\n",
            "activation_39 (Activation)      (None, 32, 32, 32)   0           norm_1[0][0]                     \n",
            "__________________________________________________________________________________________________\n",
            "Spatial_seperable1 (Conv2D)     (None, 32, 32, 64)   6144        activation_39[0][0]              \n",
            "__________________________________________________________________________________________________\n",
            "Spatial_seperable2 (Conv2D)     (None, 32, 32, 64)   12288       Spatial_seperable1[0][0]         \n",
            "__________________________________________________________________________________________________\n",
            "dropout_28 (Dropout)            (None, 32, 32, 64)   0           Spatial_seperable2[0][0]         \n",
            "__________________________________________________________________________________________________\n",
            "norm_3 (BatchNormalization)     (None, 32, 32, 64)   256         dropout_28[0][0]                 \n",
            "__________________________________________________________________________________________________\n",
            "activation_40 (Activation)      (None, 32, 32, 64)   0           norm_3[0][0]                     \n",
            "__________________________________________________________________________________________________\n",
            "depthwise (SeparableConv2D)     (None, 32, 32, 128)  8768        activation_40[0][0]              \n",
            "__________________________________________________________________________________________________\n",
            "dropout_29 (Dropout)            (None, 32, 32, 128)  0           depthwise[0][0]                  \n",
            "__________________________________________________________________________________________________\n",
            "norm_2 (BatchNormalization)     (None, 32, 32, 128)  512         dropout_29[0][0]                 \n",
            "__________________________________________________________________________________________________\n",
            "activation_41 (Activation)      (None, 32, 32, 128)  0           norm_2[0][0]                     \n",
            "__________________________________________________________________________________________________\n",
            "conv2d_20 (Conv2D)              (None, 32, 32, 64)   8192        activation_41[0][0]              \n",
            "__________________________________________________________________________________________________\n",
            "grouped_conv1 (Conv2D)          (None, 32, 32, 64)   36864       conv2d_20[0][0]                  \n",
            "__________________________________________________________________________________________________\n",
            "grouped_conv2 (Conv2D)          (None, 32, 32, 64)   102400      conv2d_20[0][0]                  \n",
            "__________________________________________________________________________________________________\n",
            "dropout_30 (Dropout)            (None, 32, 32, 64)   0           grouped_conv1[0][0]              \n",
            "__________________________________________________________________________________________________\n",
            "dropout_31 (Dropout)            (None, 32, 32, 64)   0           grouped_conv2[0][0]              \n",
            "__________________________________________________________________________________________________\n",
            "norm_4 (BatchNormalization)     (None, 32, 32, 64)   256         dropout_30[0][0]                 \n",
            "__________________________________________________________________________________________________\n",
            "norm_5 (BatchNormalization)     (None, 32, 32, 64)   256         dropout_31[0][0]                 \n",
            "__________________________________________________________________________________________________\n",
            "activation_42 (Activation)      (None, 32, 32, 64)   0           norm_4[0][0]                     \n",
            "__________________________________________________________________________________________________\n",
            "activation_43 (Activation)      (None, 32, 32, 64)   0           norm_5[0][0]                     \n",
            "__________________________________________________________________________________________________\n",
            "concatenate_9 (Concatenate)     (None, 32, 32, 128)  0           activation_42[0][0]              \n",
            "                                                                 activation_43[0][0]              \n",
            "__________________________________________________________________________________________________\n",
            "max_pooling2d_9 (MaxPooling2D)  (None, 16, 16, 128)  0           concatenate_9[0][0]              \n",
            "__________________________________________________________________________________________________\n",
            "conv2d_21 (Conv2D)              (None, 16, 16, 32)   4096        max_pooling2d_9[0][0]            \n",
            "__________________________________________________________________________________________________\n",
            "grouped_conv3 (Conv2D)          (None, 16, 16, 32)   9216        conv2d_21[0][0]                  \n",
            "__________________________________________________________________________________________________\n",
            "grouped_conv4 (Conv2D)          (None, 16, 16, 64)   18432       conv2d_21[0][0]                  \n",
            "__________________________________________________________________________________________________\n",
            "dropout_32 (Dropout)            (None, 16, 16, 32)   0           grouped_conv3[0][0]              \n",
            "__________________________________________________________________________________________________\n",
            "dropout_33 (Dropout)            (None, 16, 16, 64)   0           grouped_conv4[0][0]              \n",
            "__________________________________________________________________________________________________\n",
            "norm_6 (BatchNormalization)     (None, 16, 16, 32)   128         dropout_32[0][0]                 \n",
            "__________________________________________________________________________________________________\n",
            "norm_7 (BatchNormalization)     (None, 16, 16, 64)   256         dropout_33[0][0]                 \n",
            "__________________________________________________________________________________________________\n",
            "activation_44 (Activation)      (None, 16, 16, 32)   0           norm_6[0][0]                     \n",
            "__________________________________________________________________________________________________\n",
            "activation_45 (Activation)      (None, 16, 16, 64)   0           norm_7[0][0]                     \n",
            "__________________________________________________________________________________________________\n",
            "concatenate_10 (Concatenate)    (None, 16, 16, 96)   0           activation_44[0][0]              \n",
            "                                                                 activation_45[0][0]              \n",
            "__________________________________________________________________________________________________\n",
            "conv_2 (Conv2D)                 (None, 14, 14, 96)   82944       concatenate_10[0][0]             \n",
            "__________________________________________________________________________________________________\n",
            "norm_8 (BatchNormalization)     (None, 14, 14, 96)   384         conv_2[0][0]                     \n",
            "__________________________________________________________________________________________________\n",
            "activation_46 (Activation)      (None, 14, 14, 96)   0           norm_8[0][0]                     \n",
            "__________________________________________________________________________________________________\n",
            "max_pooling2d_10 (MaxPooling2D) (None, 7, 7, 96)     0           activation_46[0][0]              \n",
            "__________________________________________________________________________________________________\n",
            "conv2d_22 (Conv2D)              (None, 7, 7, 32)     3072        max_pooling2d_10[0][0]           \n",
            "__________________________________________________________________________________________________\n",
            "conv_3 (Conv2D)                 (None, 5, 5, 32)     9216        conv2d_22[0][0]                  \n",
            "__________________________________________________________________________________________________\n",
            "norm_9 (BatchNormalization)     (None, 5, 5, 32)     128         conv_3[0][0]                     \n",
            "__________________________________________________________________________________________________\n",
            "activation_47 (Activation)      (None, 5, 5, 32)     0           norm_9[0][0]                     \n",
            "__________________________________________________________________________________________________\n",
            "conv2d_23 (Conv2D)              (None, 5, 5, 10)     320         activation_47[0][0]              \n",
            "__________________________________________________________________________________________________\n",
            "conv2d_24 (Conv2D)              (None, 1, 1, 10)     2510        conv2d_23[0][0]                  \n",
            "__________________________________________________________________________________________________\n",
            "flatten_5 (Flatten)             (None, 10)           0           conv2d_24[0][0]                  \n",
            "__________________________________________________________________________________________________\n",
            "activation_48 (Activation)      (None, 10)           0           flatten_5[0][0]                  \n",
            "==================================================================================================\n",
            "Total params: 307,630\n",
            "Trainable params: 306,478\n",
            "Non-trainable params: 1,152\n",
            "__________________________________________________________________________________________________\n"
          ],
          "name": "stdout"
        }
      ]
    },
    {
      "cell_type": "code",
      "metadata": {
        "id": "aWMIxCZAqmJG",
        "colab_type": "code",
        "colab": {}
      },
      "source": [
        "model.compile(optimizer='adam', loss='categorical_crossentropy', metrics=['accuracy'])"
      ],
      "execution_count": 0,
      "outputs": []
    },
    {
      "cell_type": "code",
      "metadata": {
        "id": "-nEk8nFCzodK",
        "colab_type": "code",
        "outputId": "2845a274-bc24-4aba-9892-11097812b06a",
        "colab": {
          "base_uri": "https://localhost:8080/",
          "height": 2172
        }
      },
      "source": [
        "from keras.preprocessing.image import ImageDataGenerator\n",
        "\n",
        "datagen = ImageDataGenerator(zoom_range=0.0, \n",
        "                             horizontal_flip=False)\n",
        "\n",
        "\n",
        "# train the model\n",
        "start = time.time()\n",
        "# Train the model\n",
        "model_info = model.fit_generator(datagen.flow(train_features, train_labels, batch_size = 128),\n",
        "                                 samples_per_epoch = train_features.shape[0], nb_epoch = 50, \n",
        "                                 validation_data = (test_features, test_labels), verbose=1)\n",
        "end = time.time()\n",
        "print (\"Model took %0.2f seconds to train\"%(end - start))\n",
        "# plot model history\n",
        "plot_model_history(model_info)\n",
        "# compute test accuracy\n",
        "print (\"Accuracy on test data is: %0.2f\"%accuracy(test_features, test_labels, model))"
      ],
      "execution_count": 54,
      "outputs": [
        {
          "output_type": "stream",
          "text": [
            "/usr/local/lib/python3.6/dist-packages/ipykernel_launcher.py:12: UserWarning: The semantics of the Keras 2 argument `steps_per_epoch` is not the same as the Keras 1 argument `samples_per_epoch`. `steps_per_epoch` is the number of batches to draw from the generator at each epoch. Basically steps_per_epoch = samples_per_epoch/batch_size. Similarly `nb_val_samples`->`validation_steps` and `val_samples`->`steps` arguments have changed. Update your method calls accordingly.\n",
            "  if sys.path[0] == '':\n",
            "/usr/local/lib/python3.6/dist-packages/ipykernel_launcher.py:12: UserWarning: Update your `fit_generator` call to the Keras 2 API: `fit_generator(<keras_pre..., validation_data=(array([[[..., verbose=1, steps_per_epoch=390, epochs=50)`\n",
            "  if sys.path[0] == '':\n"
          ],
          "name": "stderr"
        },
        {
          "output_type": "stream",
          "text": [
            "Epoch 1/50\n",
            "390/390 [==============================] - 40s 102ms/step - loss: 1.4426 - acc: 0.4755 - val_loss: 2.0577 - val_acc: 0.3894\n",
            "Epoch 2/50\n",
            "390/390 [==============================] - 37s 95ms/step - loss: 1.0101 - acc: 0.6436 - val_loss: 0.9591 - val_acc: 0.6735\n",
            "Epoch 3/50\n",
            "390/390 [==============================] - 37s 96ms/step - loss: 0.8214 - acc: 0.7109 - val_loss: 1.0425 - val_acc: 0.6577\n",
            "Epoch 4/50\n",
            "390/390 [==============================] - 38s 96ms/step - loss: 0.7169 - acc: 0.7489 - val_loss: 1.0673 - val_acc: 0.6586\n",
            "Epoch 5/50\n",
            "390/390 [==============================] - 38s 96ms/step - loss: 0.6424 - acc: 0.7746 - val_loss: 0.9165 - val_acc: 0.7105\n",
            "Epoch 6/50\n",
            "390/390 [==============================] - 38s 97ms/step - loss: 0.5888 - acc: 0.7932 - val_loss: 1.2632 - val_acc: 0.6652\n",
            "Epoch 7/50\n",
            "390/390 [==============================] - 38s 97ms/step - loss: 0.5448 - acc: 0.8100 - val_loss: 0.8674 - val_acc: 0.7384\n",
            "Epoch 8/50\n",
            "390/390 [==============================] - 38s 97ms/step - loss: 0.5015 - acc: 0.8256 - val_loss: 0.7010 - val_acc: 0.7809\n",
            "Epoch 9/50\n",
            "390/390 [==============================] - 38s 97ms/step - loss: 0.4699 - acc: 0.8358 - val_loss: 1.0426 - val_acc: 0.7160\n",
            "Epoch 10/50\n",
            "390/390 [==============================] - 38s 98ms/step - loss: 0.4453 - acc: 0.8436 - val_loss: 0.9043 - val_acc: 0.7401\n",
            "Epoch 11/50\n",
            "390/390 [==============================] - 38s 98ms/step - loss: 0.4117 - acc: 0.8567 - val_loss: 0.6943 - val_acc: 0.7787\n",
            "Epoch 12/50\n",
            "390/390 [==============================] - 38s 97ms/step - loss: 0.3899 - acc: 0.8632 - val_loss: 0.6445 - val_acc: 0.8010\n",
            "Epoch 13/50\n",
            "390/390 [==============================] - 38s 97ms/step - loss: 0.3693 - acc: 0.8690 - val_loss: 0.7716 - val_acc: 0.7800\n",
            "Epoch 14/50\n",
            "390/390 [==============================] - 38s 98ms/step - loss: 0.3540 - acc: 0.8742 - val_loss: 0.6414 - val_acc: 0.8098\n",
            "Epoch 15/50\n",
            "390/390 [==============================] - 38s 97ms/step - loss: 0.3333 - acc: 0.8816 - val_loss: 0.7861 - val_acc: 0.7800\n",
            "Epoch 16/50\n",
            "390/390 [==============================] - 38s 98ms/step - loss: 0.3186 - acc: 0.8861 - val_loss: 0.7586 - val_acc: 0.7857\n",
            "Epoch 17/50\n",
            "390/390 [==============================] - 38s 98ms/step - loss: 0.3056 - acc: 0.8928 - val_loss: 1.0119 - val_acc: 0.7514\n",
            "Epoch 18/50\n",
            "390/390 [==============================] - 38s 98ms/step - loss: 0.2896 - acc: 0.8986 - val_loss: 0.6998 - val_acc: 0.8071\n",
            "Epoch 19/50\n",
            "390/390 [==============================] - 38s 98ms/step - loss: 0.2755 - acc: 0.9018 - val_loss: 0.7867 - val_acc: 0.8009\n",
            "Epoch 20/50\n",
            "390/390 [==============================] - 38s 98ms/step - loss: 0.2559 - acc: 0.9080 - val_loss: 0.6421 - val_acc: 0.8243\n",
            "Epoch 21/50\n",
            "390/390 [==============================] - 38s 97ms/step - loss: 0.2544 - acc: 0.9096 - val_loss: 0.8814 - val_acc: 0.7818\n",
            "Epoch 22/50\n",
            "390/390 [==============================] - 38s 97ms/step - loss: 0.2415 - acc: 0.9132 - val_loss: 0.7032 - val_acc: 0.8181\n",
            "Epoch 23/50\n",
            "390/390 [==============================] - 38s 97ms/step - loss: 0.2331 - acc: 0.9162 - val_loss: 0.8779 - val_acc: 0.7864\n",
            "Epoch 24/50\n",
            "390/390 [==============================] - 38s 97ms/step - loss: 0.2191 - acc: 0.9212 - val_loss: 0.8535 - val_acc: 0.7912\n",
            "Epoch 25/50\n",
            "390/390 [==============================] - 38s 97ms/step - loss: 0.2126 - acc: 0.9238 - val_loss: 1.2371 - val_acc: 0.7431\n",
            "Epoch 26/50\n",
            "390/390 [==============================] - 38s 97ms/step - loss: 0.2121 - acc: 0.9239 - val_loss: 0.7248 - val_acc: 0.8226\n",
            "Epoch 27/50\n",
            "390/390 [==============================] - 38s 98ms/step - loss: 0.1948 - acc: 0.9303 - val_loss: 0.7605 - val_acc: 0.8164\n",
            "Epoch 28/50\n",
            "390/390 [==============================] - 38s 98ms/step - loss: 0.1937 - acc: 0.9298 - val_loss: 0.7406 - val_acc: 0.8180\n",
            "Epoch 29/50\n",
            "390/390 [==============================] - 38s 98ms/step - loss: 0.1887 - acc: 0.9312 - val_loss: 0.8115 - val_acc: 0.8052\n",
            "Epoch 30/50\n",
            "390/390 [==============================] - 38s 98ms/step - loss: 0.1796 - acc: 0.9349 - val_loss: 0.8606 - val_acc: 0.8078\n",
            "Epoch 31/50\n",
            "390/390 [==============================] - 38s 98ms/step - loss: 0.1721 - acc: 0.9379 - val_loss: 0.9120 - val_acc: 0.8033\n",
            "Epoch 32/50\n",
            "390/390 [==============================] - 38s 98ms/step - loss: 0.1630 - acc: 0.9406 - val_loss: 0.9189 - val_acc: 0.8012\n",
            "Epoch 33/50\n",
            "390/390 [==============================] - 38s 98ms/step - loss: 0.1652 - acc: 0.9401 - val_loss: 0.8508 - val_acc: 0.8135\n",
            "Epoch 34/50\n",
            "390/390 [==============================] - 38s 98ms/step - loss: 0.1630 - acc: 0.9410 - val_loss: 0.9558 - val_acc: 0.8034\n",
            "Epoch 35/50\n",
            "390/390 [==============================] - 38s 98ms/step - loss: 0.1543 - acc: 0.9441 - val_loss: 0.8703 - val_acc: 0.8122\n",
            "Epoch 36/50\n",
            "390/390 [==============================] - 38s 98ms/step - loss: 0.1537 - acc: 0.9450 - val_loss: 0.8504 - val_acc: 0.8129\n",
            "Epoch 37/50\n",
            "390/390 [==============================] - 38s 97ms/step - loss: 0.1451 - acc: 0.9460 - val_loss: 0.8284 - val_acc: 0.8125\n",
            "Epoch 38/50\n",
            "390/390 [==============================] - 38s 97ms/step - loss: 0.1518 - acc: 0.9452 - val_loss: 0.8109 - val_acc: 0.8217\n",
            "Epoch 39/50\n",
            "390/390 [==============================] - 38s 97ms/step - loss: 0.1366 - acc: 0.9514 - val_loss: 0.9959 - val_acc: 0.7997\n",
            "Epoch 40/50\n",
            "390/390 [==============================] - 38s 97ms/step - loss: 0.1395 - acc: 0.9490 - val_loss: 1.0539 - val_acc: 0.7962\n",
            "Epoch 41/50\n",
            "390/390 [==============================] - 38s 97ms/step - loss: 0.1348 - acc: 0.9513 - val_loss: 0.8822 - val_acc: 0.8176\n",
            "Epoch 42/50\n",
            "390/390 [==============================] - 38s 98ms/step - loss: 0.1331 - acc: 0.9512 - val_loss: 0.8985 - val_acc: 0.8160\n",
            "Epoch 43/50\n",
            "390/390 [==============================] - 38s 98ms/step - loss: 0.1287 - acc: 0.9538 - val_loss: 1.0280 - val_acc: 0.7950\n",
            "Epoch 44/50\n",
            "390/390 [==============================] - 38s 98ms/step - loss: 0.1247 - acc: 0.9544 - val_loss: 1.0293 - val_acc: 0.8053\n",
            "Epoch 45/50\n",
            "390/390 [==============================] - 38s 97ms/step - loss: 0.1249 - acc: 0.9546 - val_loss: 0.8291 - val_acc: 0.8264\n",
            "Epoch 46/50\n",
            "390/390 [==============================] - 38s 97ms/step - loss: 0.1203 - acc: 0.9566 - val_loss: 0.8569 - val_acc: 0.8209\n",
            "Epoch 47/50\n",
            "390/390 [==============================] - 38s 97ms/step - loss: 0.1181 - acc: 0.9575 - val_loss: 1.0339 - val_acc: 0.8022\n",
            "Epoch 48/50\n",
            "390/390 [==============================] - 38s 97ms/step - loss: 0.1179 - acc: 0.9572 - val_loss: 1.0423 - val_acc: 0.8028\n",
            "Epoch 49/50\n",
            "390/390 [==============================] - 38s 97ms/step - loss: 0.1171 - acc: 0.9571 - val_loss: 0.9464 - val_acc: 0.8210\n",
            "Epoch 50/50\n",
            "390/390 [==============================] - 38s 97ms/step - loss: 0.1194 - acc: 0.9566 - val_loss: 0.8489 - val_acc: 0.8289\n",
            "Model took 1901.28 seconds to train\n"
          ],
          "name": "stdout"
        },
        {
          "output_type": "display_data",
          "data": {
            "image/png": "[encoded data removed]",
            "text/plain": [
              "<Figure size 1080x360 with 2 Axes>"
            ]
          },
          "metadata": {
            "tags": []
          }
        },
        {
          "output_type": "stream",
          "text": [
            "Accuracy on test data is: 82.89\n"
          ],
          "name": "stdout"
        }
      ]
    },
    {
      "cell_type": "code",
      "metadata": {
        "id": "emQHpGHCzs2j",
        "colab_type": "code",
        "colab": {}
      },
      "source": [
        ""
      ],
      "execution_count": 0,
      "outputs": []
    }
  ]
}