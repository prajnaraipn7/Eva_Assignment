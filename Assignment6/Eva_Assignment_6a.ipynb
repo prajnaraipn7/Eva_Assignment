{
  "nbformat": 4,
  "nbformat_minor": 0,
  "metadata": {
    "colab": {
      "name": "Eva_Assignment 6a.ipynb",
      "version": "0.3.2",
      "provenance": [],
      "collapsed_sections": []
    },
    "kernelspec": {
      "name": "python3",
      "display_name": "Python 3"
    },
    "accelerator": "GPU"
  },
  "cells": [
    {
      "cell_type": "markdown",
      "metadata": {
        "id": "qgkMc2_re8-1",
        "colab_type": "text"
      },
      "source": [
        "##1. Importing All Libraries"
      ]
    },
    {
      "cell_type": "code",
      "metadata": {
        "id": "KkwXnw9OfHZl",
        "colab_type": "code",
        "outputId": "886bec49-3e3d-4482-9cf0-31874dbff41f",
        "colab": {
          "base_uri": "https://localhost:8080/",
          "height": 34
        }
      },
      "source": [
        "from keras import backend as K\n",
        "import time\n",
        "import matplotlib.pyplot as plt\n",
        "import numpy as np\n",
        "% matplotlib inline\n",
        "np.random.seed(2017) \n",
        "from keras.models import Sequential\n",
        "from keras.layers.convolutional import Convolution2D, MaxPooling2D\n",
        "from keras.layers import Activation, Flatten, Dense, Dropout\n",
        "from keras.layers.normalization import BatchNormalization\n",
        "from keras.utils import np_utils"
      ],
      "execution_count": 0,
      "outputs": [
        {
          "output_type": "stream",
          "text": [
            "Using TensorFlow backend.\n"
          ],
          "name": "stderr"
        }
      ]
    },
    {
      "cell_type": "markdown",
      "metadata": {
        "id": "YEnT8IyVfATP",
        "colab_type": "text"
      },
      "source": [
        "##2. Importing Dataset"
      ]
    },
    {
      "cell_type": "code",
      "metadata": {
        "id": "NHpnoCHZfO8g",
        "colab_type": "code",
        "outputId": "5ac72bdb-7eef-40dc-a468-818c589d0c85",
        "colab": {
          "base_uri": "https://localhost:8080/",
          "height": 51
        }
      },
      "source": [
        "from keras.datasets import cifar10\n",
        "(train_features, train_labels), (test_features, test_labels) = cifar10.load_data()\n",
        "num_train, img_channels, img_rows, img_cols =  train_features.shape\n",
        "num_test, _, _, _ =  test_features.shape\n",
        "num_classes = len(np.unique(train_labels))"
      ],
      "execution_count": 0,
      "outputs": [
        {
          "output_type": "stream",
          "text": [
            "Downloading data from https://www.cs.toronto.edu/~kriz/cifar-10-python.tar.gz\n",
            "170500096/170498071 [==============================] - 9s 0us/step\n"
          ],
          "name": "stdout"
        }
      ]
    },
    {
      "cell_type": "markdown",
      "metadata": {
        "id": "R-7vzHkBfIZS",
        "colab_type": "text"
      },
      "source": [
        "##3.Data Exploration"
      ]
    },
    {
      "cell_type": "code",
      "metadata": {
        "id": "Mpg_cECsxvOK",
        "colab_type": "code",
        "outputId": "8f6c1634-a2c5-435b-f79a-1ff97e700373",
        "colab": {
          "base_uri": "https://localhost:8080/",
          "height": 34
        }
      },
      "source": [
        "len(np.unique(train_labels))"
      ],
      "execution_count": 0,
      "outputs": [
        {
          "output_type": "execute_result",
          "data": {
            "text/plain": [
              "10"
            ]
          },
          "metadata": {
            "tags": []
          },
          "execution_count": 3
        }
      ]
    },
    {
      "cell_type": "code",
      "metadata": {
        "id": "LP16yEB7ylmQ",
        "colab_type": "code",
        "outputId": "66575d70-1f38-43d6-b9f9-76b0736f4e86",
        "colab": {
          "base_uri": "https://localhost:8080/",
          "height": 286
        }
      },
      "source": [
        "plt.imshow(train_features[0])"
      ],
      "execution_count": 0,
      "outputs": [
        {
          "output_type": "execute_result",
          "data": {
            "text/plain": [
              "<matplotlib.image.AxesImage at 0x7f4c71d8fb38>"
            ]
          },
          "metadata": {
            "tags": []
          },
          "execution_count": 4
        },
        {
          "output_type": "display_data",
          "data": {
            "image/png": "[encoded data removed]",
            "text/plain": [
              "<Figure size 432x288 with 1 Axes>"
            ]
          },
          "metadata": {
            "tags": []
          }
        }
      ]
    },
    {
      "cell_type": "code",
      "metadata": {
        "id": "14HyBUXdfS6G",
        "colab_type": "code",
        "outputId": "46a0b189-63e0-4f8b-9596-5730e21ee46c",
        "colab": {
          "base_uri": "https://localhost:8080/",
          "height": 213
        }
      },
      "source": [
        "class_names = ['airplane','automobile','bird','cat','deer',\n",
        "               'dog','frog','horse','ship','truck']\n",
        "fig = plt.figure(figsize=(8,3))\n",
        "for i in range(num_classes):\n",
        "    ax = fig.add_subplot(2, 5, 1 + i, xticks=[], yticks=[])\n",
        "    idx = np.where(train_labels[:]==i)[0]\n",
        "    features_idx = train_features[idx,::]\n",
        "    img_num = np.random.randint(features_idx.shape[0])\n",
        "    im = features_idx[img_num]\n",
        "    ax.set_title(class_names[i])\n",
        "    plt.imshow(im)\n",
        "plt.show()"
      ],
      "execution_count": 0,
      "outputs": [
        {
          "output_type": "display_data",
          "data": {
            "image/png": "[encoded data removed]",
            "text/plain": [
              "<Figure size 576x216 with 10 Axes>"
            ]
          },
          "metadata": {
            "tags": []
          }
        }
      ]
    },
    {
      "cell_type": "markdown",
      "metadata": {
        "id": "iUHKJ9_LfQTc",
        "colab_type": "text"
      },
      "source": [
        "##4.Function to Plot and Evaluate the Model Accuracy and Loss Function"
      ]
    },
    {
      "cell_type": "code",
      "metadata": {
        "id": "bmfsk76-fadV",
        "colab_type": "code",
        "colab": {}
      },
      "source": [
        "def plot_model_history(model_history):\n",
        "    fig, axs = plt.subplots(1,2,figsize=(15,5))\n",
        "    # summarize history for accuracy\n",
        "    axs[0].plot(range(1,len(model_history.history['acc'])+1),model_history.history['acc'])\n",
        "    axs[0].plot(range(1,len(model_history.history['val_acc'])+1),model_history.history['val_acc'])\n",
        "    axs[0].set_title('Model Accuracy')\n",
        "    axs[0].set_ylabel('Accuracy')\n",
        "    axs[0].set_xlabel('Epoch')\n",
        "    axs[0].set_xticks(np.arange(1,len(model_history.history['acc'])+1),len(model_history.history['acc'])/10)\n",
        "    axs[0].legend(['train', 'val'], loc='best')\n",
        "    # summarize history for loss\n",
        "    axs[1].plot(range(1,len(model_history.history['loss'])+1),model_history.history['loss'])\n",
        "    axs[1].plot(range(1,len(model_history.history['val_loss'])+1),model_history.history['val_loss'])\n",
        "    axs[1].set_title('Model Loss')\n",
        "    axs[1].set_ylabel('Loss')\n",
        "    axs[1].set_xlabel('Epoch')\n",
        "    axs[1].set_xticks(np.arange(1,len(model_history.history['loss'])+1),len(model_history.history['loss'])/10)\n",
        "    axs[1].legend(['train', 'val'], loc='best')\n",
        "    plt.show()"
      ],
      "execution_count": 0,
      "outputs": []
    },
    {
      "cell_type": "markdown",
      "metadata": {
        "id": "MTTTnNAUfern",
        "colab_type": "text"
      },
      "source": [
        "##5.Function to plot the Accuracy"
      ]
    },
    {
      "cell_type": "code",
      "metadata": {
        "id": "YJMT4rjgfdZz",
        "colab_type": "code",
        "colab": {}
      },
      "source": [
        "def accuracy(test_x, test_y, model):\n",
        "    result = model.predict(test_x)\n",
        "    predicted_class = np.argmax(result, axis=1)\n",
        "    true_class = np.argmax(test_y, axis=1)\n",
        "    num_correct = np.sum(predicted_class == true_class) \n",
        "    accuracy = float(num_correct)/result.shape[0]\n",
        "    return (accuracy * 100)"
      ],
      "execution_count": 0,
      "outputs": []
    },
    {
      "cell_type": "markdown",
      "metadata": {
        "id": "Hxzc3DZcfj6A",
        "colab_type": "text"
      },
      "source": [
        "##6.Pixel Normalization and Label Encoding"
      ]
    },
    {
      "cell_type": "code",
      "metadata": {
        "id": "T5c5nDvxm6zR",
        "colab_type": "code",
        "colab": {}
      },
      "source": [
        "train_features = train_features.astype('float32')/255\n",
        "test_features = test_features.astype('float32')/255\n",
        "# convert class labels to binary class labels\n",
        "train_labels = np_utils.to_categorical(train_labels, num_classes)\n",
        "test_labels = np_utils.to_categorical(test_labels, num_classes)"
      ],
      "execution_count": 0,
      "outputs": []
    },
    {
      "cell_type": "markdown",
      "metadata": {
        "id": "qVn9MkVSfsMn",
        "colab_type": "text"
      },
      "source": [
        "##7.Building and compiling the Model"
      ]
    },
    {
      "cell_type": "code",
      "metadata": {
        "id": "cSOb2lkJfhVq",
        "colab_type": "code",
        "outputId": "0e710dd8-b1ca-4c20-ac72-b4331891163d",
        "colab": {
          "base_uri": "https://localhost:8080/",
          "height": 343
        }
      },
      "source": [
        "# Define the model\n",
        "model = Sequential()\n",
        "model.add(Convolution2D(48, 3, 3, border_mode='same', input_shape=(32, 32, 3)))\n",
        "model.add(Activation('relu'))\n",
        "model.add(Convolution2D(48, 3, 3))\n",
        "model.add(Activation('relu'))\n",
        "model.add(MaxPooling2D(pool_size=(2, 2)))\n",
        "model.add(Dropout(0.25))\n",
        "model.add(Convolution2D(96, 3, 3, border_mode='same'))\n",
        "model.add(Activation('relu'))\n",
        "model.add(Convolution2D(96, 3, 3))\n",
        "model.add(Activation('relu'))\n",
        "model.add(MaxPooling2D(pool_size=(2, 2)))\n",
        "model.add(Dropout(0.25))\n",
        "model.add(Convolution2D(192, 3, 3, border_mode='same'))\n",
        "model.add(Activation('relu'))\n",
        "model.add(Convolution2D(192, 3, 3))\n",
        "model.add(Activation('relu'))\n",
        "model.add(MaxPooling2D(pool_size=(2, 2)))\n",
        "model.add(Dropout(0.25))\n",
        "model.add(Flatten())\n",
        "model.add(Dense(512))\n",
        "model.add(Activation('relu'))\n",
        "model.add(Dropout(0.5))\n",
        "model.add(Dense(256))\n",
        "model.add(Activation('relu'))\n",
        "model.add(Dropout(0.5))\n",
        "model.add(Dense(num_classes, activation='softmax'))\n",
        "# Compile the model\n",
        "model.compile(optimizer='adam', loss='categorical_crossentropy', metrics=['accuracy'])\n"
      ],
      "execution_count": 0,
      "outputs": [
        {
          "output_type": "stream",
          "text": [
            "WARNING:tensorflow:From /usr/local/lib/python3.6/dist-packages/tensorflow/python/framework/op_def_library.py:263: colocate_with (from tensorflow.python.framework.ops) is deprecated and will be removed in a future version.\n",
            "Instructions for updating:\n",
            "Colocations handled automatically by placer.\n",
            "WARNING:tensorflow:From /usr/local/lib/python3.6/dist-packages/keras/backend/tensorflow_backend.py:3445: calling dropout (from tensorflow.python.ops.nn_ops) with keep_prob is deprecated and will be removed in a future version.\n",
            "Instructions for updating:\n",
            "Please use `rate` instead of `keep_prob`. Rate should be set to `rate = 1 - keep_prob`.\n"
          ],
          "name": "stdout"
        },
        {
          "output_type": "stream",
          "text": [
            "/usr/local/lib/python3.6/dist-packages/ipykernel_launcher.py:2: UserWarning: Update your `Conv2D` call to the Keras 2 API: `Conv2D(48, (3, 3), input_shape=(32, 32, 3..., padding=\"same\")`\n",
            "  \n",
            "/usr/local/lib/python3.6/dist-packages/ipykernel_launcher.py:4: UserWarning: Update your `Conv2D` call to the Keras 2 API: `Conv2D(48, (3, 3))`\n",
            "  after removing the cwd from sys.path.\n",
            "/usr/local/lib/python3.6/dist-packages/ipykernel_launcher.py:8: UserWarning: Update your `Conv2D` call to the Keras 2 API: `Conv2D(96, (3, 3), padding=\"same\")`\n",
            "  \n",
            "/usr/local/lib/python3.6/dist-packages/ipykernel_launcher.py:10: UserWarning: Update your `Conv2D` call to the Keras 2 API: `Conv2D(96, (3, 3))`\n",
            "  # Remove the CWD from sys.path while we load stuff.\n",
            "/usr/local/lib/python3.6/dist-packages/ipykernel_launcher.py:14: UserWarning: Update your `Conv2D` call to the Keras 2 API: `Conv2D(192, (3, 3), padding=\"same\")`\n",
            "  \n",
            "/usr/local/lib/python3.6/dist-packages/ipykernel_launcher.py:16: UserWarning: Update your `Conv2D` call to the Keras 2 API: `Conv2D(192, (3, 3))`\n",
            "  app.launch_new_instance()\n"
          ],
          "name": "stderr"
        }
      ]
    },
    {
      "cell_type": "code",
      "metadata": {
        "id": "wvVs5tC8mR6Q",
        "colab_type": "code",
        "outputId": "0fd06944-0d92-4986-8116-af181e836a7f",
        "colab": {
          "base_uri": "https://localhost:8080/",
          "height": 1020
        }
      },
      "source": [
        "model.summary()"
      ],
      "execution_count": 0,
      "outputs": [
        {
          "output_type": "stream",
          "text": [
            "_________________________________________________________________\n",
            "Layer (type)                 Output Shape              Param #   \n",
            "=================================================================\n",
            "conv2d_1 (Conv2D)            (None, 32, 32, 48)        1344      \n",
            "_________________________________________________________________\n",
            "activation_1 (Activation)    (None, 32, 32, 48)        0         \n",
            "_________________________________________________________________\n",
            "conv2d_2 (Conv2D)            (None, 30, 30, 48)        20784     \n",
            "_________________________________________________________________\n",
            "activation_2 (Activation)    (None, 30, 30, 48)        0         \n",
            "_________________________________________________________________\n",
            "max_pooling2d_1 (MaxPooling2 (None, 15, 15, 48)        0         \n",
            "_________________________________________________________________\n",
            "dropout_1 (Dropout)          (None, 15, 15, 48)        0         \n",
            "_________________________________________________________________\n",
            "conv2d_3 (Conv2D)            (None, 15, 15, 96)        41568     \n",
            "_________________________________________________________________\n",
            "activation_3 (Activation)    (None, 15, 15, 96)        0         \n",
            "_________________________________________________________________\n",
            "conv2d_4 (Conv2D)            (None, 13, 13, 96)        83040     \n",
            "_________________________________________________________________\n",
            "activation_4 (Activation)    (None, 13, 13, 96)        0         \n",
            "_________________________________________________________________\n",
            "max_pooling2d_2 (MaxPooling2 (None, 6, 6, 96)          0         \n",
            "_________________________________________________________________\n",
            "dropout_2 (Dropout)          (None, 6, 6, 96)          0         \n",
            "_________________________________________________________________\n",
            "conv2d_5 (Conv2D)            (None, 6, 6, 192)         166080    \n",
            "_________________________________________________________________\n",
            "activation_5 (Activation)    (None, 6, 6, 192)         0         \n",
            "_________________________________________________________________\n",
            "conv2d_6 (Conv2D)            (None, 4, 4, 192)         331968    \n",
            "_________________________________________________________________\n",
            "activation_6 (Activation)    (None, 4, 4, 192)         0         \n",
            "_________________________________________________________________\n",
            "max_pooling2d_3 (MaxPooling2 (None, 2, 2, 192)         0         \n",
            "_________________________________________________________________\n",
            "dropout_3 (Dropout)          (None, 2, 2, 192)         0         \n",
            "_________________________________________________________________\n",
            "flatten_1 (Flatten)          (None, 768)               0         \n",
            "_________________________________________________________________\n",
            "dense_1 (Dense)              (None, 512)               393728    \n",
            "_________________________________________________________________\n",
            "activation_7 (Activation)    (None, 512)               0         \n",
            "_________________________________________________________________\n",
            "dropout_4 (Dropout)          (None, 512)               0         \n",
            "_________________________________________________________________\n",
            "dense_2 (Dense)              (None, 256)               131328    \n",
            "_________________________________________________________________\n",
            "activation_8 (Activation)    (None, 256)               0         \n",
            "_________________________________________________________________\n",
            "dropout_5 (Dropout)          (None, 256)               0         \n",
            "_________________________________________________________________\n",
            "dense_3 (Dense)              (None, 10)                2570      \n",
            "=================================================================\n",
            "Total params: 1,172,410\n",
            "Trainable params: 1,172,410\n",
            "Non-trainable params: 0\n",
            "_________________________________________________________________\n"
          ],
          "name": "stdout"
        }
      ]
    },
    {
      "cell_type": "markdown",
      "metadata": {
        "id": "6Jux6MjsfxX3",
        "colab_type": "text"
      },
      "source": [
        "##8.Evaluation of Model"
      ]
    },
    {
      "cell_type": "code",
      "metadata": {
        "id": "5oK_V7WyfsXX",
        "colab_type": "code",
        "outputId": "36cd1168-b73d-44e8-9201-89f07ae65a87",
        "colab": {
          "base_uri": "https://localhost:8080/",
          "height": 3872
        }
      },
      "source": [
        "from keras.preprocessing.image import ImageDataGenerator\n",
        "\n",
        "datagen = ImageDataGenerator(zoom_range=0.0, \n",
        "                             horizontal_flip=False)\n",
        "\n",
        "\n",
        "# train the model\n",
        "start = time.time()\n",
        "# Train the model\n",
        "model_info = model.fit_generator(datagen.flow(train_features, train_labels, batch_size = 128),\n",
        "                                 samples_per_epoch = train_features.shape[0], nb_epoch = 100, \n",
        "                                 validation_data = (test_features, test_labels), verbose=1)\n",
        "end = time.time()\n",
        "print (\"Model took %0.2f seconds to train\"%(end - start))\n",
        "# plot model history\n",
        "plot_model_history(model_info)\n",
        "# compute test accuracy\n",
        "print (\"Accuracy on test data is: %0.2f\"%accuracy(test_features, test_labels, model))"
      ],
      "execution_count": 0,
      "outputs": [
        {
          "output_type": "stream",
          "text": [
            "Epoch 1/100\n",
            "  5/390 [..............................] - ETA: 12s - loss: 2.0607 - acc: 0.2000"
          ],
          "name": "stdout"
        },
        {
          "output_type": "stream",
          "text": [
            "/usr/local/lib/python3.6/dist-packages/ipykernel_launcher.py:12: UserWarning: The semantics of the Keras 2 argument `steps_per_epoch` is not the same as the Keras 1 argument `samples_per_epoch`. `steps_per_epoch` is the number of batches to draw from the generator at each epoch. Basically steps_per_epoch = samples_per_epoch/batch_size. Similarly `nb_val_samples`->`validation_steps` and `val_samples`->`steps` arguments have changed. Update your method calls accordingly.\n",
            "  if sys.path[0] == '':\n",
            "/usr/local/lib/python3.6/dist-packages/ipykernel_launcher.py:12: UserWarning: Update your `fit_generator` call to the Keras 2 API: `fit_generator(<keras_pre..., validation_data=(array([[[..., verbose=1, steps_per_epoch=390, epochs=100)`\n",
            "  if sys.path[0] == '':\n"
          ],
          "name": "stderr"
        },
        {
          "output_type": "stream",
          "text": [
            "390/390 [==============================] - 9s 23ms/step - loss: 1.7136 - acc: 0.3497 - val_loss: 1.2899 - val_acc: 0.5244\n",
            "Epoch 2/100\n",
            "390/390 [==============================] - 9s 24ms/step - loss: 1.2941 - acc: 0.5331 - val_loss: 1.0693 - val_acc: 0.6144\n",
            "Epoch 3/100\n",
            "390/390 [==============================] - 9s 23ms/step - loss: 1.0917 - acc: 0.6156 - val_loss: 0.9134 - val_acc: 0.6770\n",
            "Epoch 4/100\n",
            "390/390 [==============================] - 9s 23ms/step - loss: 0.9647 - acc: 0.6664 - val_loss: 0.8673 - val_acc: 0.6974\n",
            "Epoch 5/100\n",
            "390/390 [==============================] - 9s 23ms/step - loss: 0.8654 - acc: 0.7040 - val_loss: 0.7598 - val_acc: 0.7354\n",
            "Epoch 6/100\n",
            "390/390 [==============================] - 9s 23ms/step - loss: 0.7956 - acc: 0.7268 - val_loss: 0.7551 - val_acc: 0.7434\n",
            "Epoch 7/100\n",
            "390/390 [==============================] - 9s 23ms/step - loss: 0.7463 - acc: 0.7446 - val_loss: 0.7581 - val_acc: 0.7434\n",
            "Epoch 8/100\n",
            "390/390 [==============================] - 9s 23ms/step - loss: 0.7086 - acc: 0.7577 - val_loss: 0.6921 - val_acc: 0.7663\n",
            "Epoch 9/100\n",
            "390/390 [==============================] - 9s 23ms/step - loss: 0.6797 - acc: 0.7679 - val_loss: 0.7333 - val_acc: 0.7476\n",
            "Epoch 10/100\n",
            "390/390 [==============================] - 9s 23ms/step - loss: 0.6510 - acc: 0.7796 - val_loss: 0.6439 - val_acc: 0.7803\n",
            "Epoch 11/100\n",
            "390/390 [==============================] - 9s 23ms/step - loss: 0.6196 - acc: 0.7872 - val_loss: 0.6358 - val_acc: 0.7869\n",
            "Epoch 12/100\n",
            "390/390 [==============================] - 9s 23ms/step - loss: 0.5916 - acc: 0.7975 - val_loss: 0.6434 - val_acc: 0.7809\n",
            "Epoch 13/100\n",
            "390/390 [==============================] - 9s 23ms/step - loss: 0.5871 - acc: 0.7992 - val_loss: 0.5922 - val_acc: 0.7990\n",
            "Epoch 14/100\n",
            "390/390 [==============================] - 9s 23ms/step - loss: 0.5560 - acc: 0.8107 - val_loss: 0.6085 - val_acc: 0.7949\n",
            "Epoch 15/100\n",
            "390/390 [==============================] - 9s 23ms/step - loss: 0.5508 - acc: 0.8126 - val_loss: 0.5947 - val_acc: 0.8015\n",
            "Epoch 16/100\n",
            "390/390 [==============================] - 9s 23ms/step - loss: 0.5227 - acc: 0.8205 - val_loss: 0.5975 - val_acc: 0.8007\n",
            "Epoch 17/100\n",
            "390/390 [==============================] - 9s 23ms/step - loss: 0.5216 - acc: 0.8223 - val_loss: 0.5928 - val_acc: 0.8021\n",
            "Epoch 18/100\n",
            "390/390 [==============================] - 9s 23ms/step - loss: 0.5033 - acc: 0.8288 - val_loss: 0.5607 - val_acc: 0.8173\n",
            "Epoch 19/100\n",
            "390/390 [==============================] - 9s 23ms/step - loss: 0.4942 - acc: 0.8330 - val_loss: 0.5808 - val_acc: 0.8122\n",
            "Epoch 20/100\n",
            "390/390 [==============================] - 9s 23ms/step - loss: 0.4777 - acc: 0.8386 - val_loss: 0.5933 - val_acc: 0.8091\n",
            "Epoch 21/100\n",
            "390/390 [==============================] - 9s 23ms/step - loss: 0.4735 - acc: 0.8392 - val_loss: 0.5873 - val_acc: 0.8095\n",
            "Epoch 22/100\n",
            "390/390 [==============================] - 9s 23ms/step - loss: 0.4604 - acc: 0.8430 - val_loss: 0.5657 - val_acc: 0.8137\n",
            "Epoch 23/100\n",
            "390/390 [==============================] - 9s 23ms/step - loss: 0.4524 - acc: 0.8462 - val_loss: 0.5646 - val_acc: 0.8151\n",
            "Epoch 24/100\n",
            "390/390 [==============================] - 9s 23ms/step - loss: 0.4466 - acc: 0.8494 - val_loss: 0.5720 - val_acc: 0.8174\n",
            "Epoch 25/100\n",
            "390/390 [==============================] - 9s 23ms/step - loss: 0.4377 - acc: 0.8506 - val_loss: 0.5999 - val_acc: 0.8133\n",
            "Epoch 26/100\n",
            "390/390 [==============================] - 9s 23ms/step - loss: 0.4336 - acc: 0.8530 - val_loss: 0.5831 - val_acc: 0.8203\n",
            "Epoch 27/100\n",
            "390/390 [==============================] - 9s 23ms/step - loss: 0.4312 - acc: 0.8533 - val_loss: 0.6120 - val_acc: 0.8020\n",
            "Epoch 28/100\n",
            "390/390 [==============================] - 9s 23ms/step - loss: 0.4232 - acc: 0.8551 - val_loss: 0.5778 - val_acc: 0.8163\n",
            "Epoch 29/100\n",
            "390/390 [==============================] - 9s 23ms/step - loss: 0.4045 - acc: 0.8637 - val_loss: 0.5717 - val_acc: 0.8235\n",
            "Epoch 30/100\n",
            "390/390 [==============================] - 9s 23ms/step - loss: 0.4035 - acc: 0.8627 - val_loss: 0.5583 - val_acc: 0.8170\n",
            "Epoch 31/100\n",
            "390/390 [==============================] - 9s 23ms/step - loss: 0.4063 - acc: 0.8635 - val_loss: 0.5918 - val_acc: 0.8191\n",
            "Epoch 32/100\n",
            "390/390 [==============================] - 9s 23ms/step - loss: 0.3864 - acc: 0.8686 - val_loss: 0.5757 - val_acc: 0.8191\n",
            "Epoch 33/100\n",
            "390/390 [==============================] - 9s 23ms/step - loss: 0.3869 - acc: 0.8699 - val_loss: 0.5583 - val_acc: 0.8249\n",
            "Epoch 34/100\n",
            "390/390 [==============================] - 9s 23ms/step - loss: 0.3732 - acc: 0.8743 - val_loss: 0.5631 - val_acc: 0.8301\n",
            "Epoch 35/100\n",
            "390/390 [==============================] - 9s 23ms/step - loss: 0.3957 - acc: 0.8664 - val_loss: 0.5691 - val_acc: 0.8225\n",
            "Epoch 36/100\n",
            "390/390 [==============================] - 9s 23ms/step - loss: 0.3753 - acc: 0.8733 - val_loss: 0.5738 - val_acc: 0.8226\n",
            "Epoch 37/100\n",
            "390/390 [==============================] - 9s 23ms/step - loss: 0.3780 - acc: 0.8720 - val_loss: 0.5869 - val_acc: 0.8160\n",
            "Epoch 38/100\n",
            "390/390 [==============================] - 9s 23ms/step - loss: 0.3731 - acc: 0.8741 - val_loss: 0.6048 - val_acc: 0.8151\n",
            "Epoch 39/100\n",
            "390/390 [==============================] - 9s 23ms/step - loss: 0.3709 - acc: 0.8751 - val_loss: 0.5589 - val_acc: 0.8284\n",
            "Epoch 40/100\n",
            "390/390 [==============================] - 9s 23ms/step - loss: 0.3587 - acc: 0.8788 - val_loss: 0.5735 - val_acc: 0.8246\n",
            "Epoch 41/100\n",
            "390/390 [==============================] - 9s 23ms/step - loss: 0.3655 - acc: 0.8766 - val_loss: 0.6373 - val_acc: 0.8115\n",
            "Epoch 42/100\n",
            "390/390 [==============================] - 9s 23ms/step - loss: 0.3528 - acc: 0.8805 - val_loss: 0.5742 - val_acc: 0.8242\n",
            "Epoch 43/100\n",
            "390/390 [==============================] - 9s 24ms/step - loss: 0.3595 - acc: 0.8788 - val_loss: 0.5946 - val_acc: 0.8207\n",
            "Epoch 44/100\n",
            "390/390 [==============================] - 9s 23ms/step - loss: 0.3435 - acc: 0.8838 - val_loss: 0.5734 - val_acc: 0.8246\n",
            "Epoch 45/100\n",
            "390/390 [==============================] - 9s 23ms/step - loss: 0.3426 - acc: 0.8834 - val_loss: 0.6153 - val_acc: 0.8175\n",
            "Epoch 46/100\n",
            "390/390 [==============================] - 9s 23ms/step - loss: 0.3353 - acc: 0.8867 - val_loss: 0.5910 - val_acc: 0.8228\n",
            "Epoch 47/100\n",
            "390/390 [==============================] - 9s 23ms/step - loss: 0.3406 - acc: 0.8862 - val_loss: 0.5955 - val_acc: 0.8205\n",
            "Epoch 48/100\n",
            "390/390 [==============================] - 9s 23ms/step - loss: 0.3375 - acc: 0.8863 - val_loss: 0.6023 - val_acc: 0.8186\n",
            "Epoch 49/100\n",
            "390/390 [==============================] - 9s 23ms/step - loss: 0.3303 - acc: 0.8879 - val_loss: 0.5679 - val_acc: 0.8280\n",
            "Epoch 50/100\n",
            "390/390 [==============================] - 9s 23ms/step - loss: 0.3331 - acc: 0.8895 - val_loss: 0.6080 - val_acc: 0.8193\n",
            "Epoch 51/100\n",
            "390/390 [==============================] - 9s 23ms/step - loss: 0.3268 - acc: 0.8895 - val_loss: 0.5744 - val_acc: 0.8317\n",
            "Epoch 52/100\n",
            "390/390 [==============================] - 9s 23ms/step - loss: 0.3191 - acc: 0.8945 - val_loss: 0.6017 - val_acc: 0.8225\n",
            "Epoch 53/100\n",
            "390/390 [==============================] - 9s 23ms/step - loss: 0.3213 - acc: 0.8929 - val_loss: 0.6094 - val_acc: 0.8178\n",
            "Epoch 54/100\n",
            "390/390 [==============================] - 9s 23ms/step - loss: 0.3245 - acc: 0.8915 - val_loss: 0.6077 - val_acc: 0.8221\n",
            "Epoch 55/100\n",
            "390/390 [==============================] - 9s 23ms/step - loss: 0.3167 - acc: 0.8941 - val_loss: 0.5985 - val_acc: 0.8212\n",
            "Epoch 56/100\n",
            "390/390 [==============================] - 9s 23ms/step - loss: 0.3193 - acc: 0.8952 - val_loss: 0.5928 - val_acc: 0.8272\n",
            "Epoch 57/100\n",
            "390/390 [==============================] - 9s 23ms/step - loss: 0.3255 - acc: 0.8924 - val_loss: 0.5787 - val_acc: 0.8238\n",
            "Epoch 58/100\n",
            "390/390 [==============================] - 9s 23ms/step - loss: 0.3075 - acc: 0.8973 - val_loss: 0.6332 - val_acc: 0.8187\n",
            "Epoch 59/100\n",
            "390/390 [==============================] - 9s 23ms/step - loss: 0.3125 - acc: 0.8965 - val_loss: 0.5894 - val_acc: 0.8262\n",
            "Epoch 60/100\n",
            "390/390 [==============================] - 9s 23ms/step - loss: 0.3109 - acc: 0.8995 - val_loss: 0.6131 - val_acc: 0.8226\n",
            "Epoch 61/100\n",
            "390/390 [==============================] - 9s 23ms/step - loss: 0.3166 - acc: 0.8964 - val_loss: 0.6075 - val_acc: 0.8201\n",
            "Epoch 62/100\n",
            "390/390 [==============================] - 9s 23ms/step - loss: 0.3028 - acc: 0.9003 - val_loss: 0.6030 - val_acc: 0.8235\n",
            "Epoch 63/100\n",
            "390/390 [==============================] - 9s 23ms/step - loss: 0.3020 - acc: 0.8991 - val_loss: 0.6121 - val_acc: 0.8242\n",
            "Epoch 64/100\n",
            "390/390 [==============================] - 9s 23ms/step - loss: 0.3018 - acc: 0.9004 - val_loss: 0.5798 - val_acc: 0.8301\n",
            "Epoch 65/100\n",
            "390/390 [==============================] - 9s 23ms/step - loss: 0.2979 - acc: 0.9018 - val_loss: 0.5916 - val_acc: 0.8312\n",
            "Epoch 66/100\n",
            "390/390 [==============================] - 9s 23ms/step - loss: 0.2995 - acc: 0.9027 - val_loss: 0.5883 - val_acc: 0.8274\n",
            "Epoch 67/100\n",
            "390/390 [==============================] - 9s 23ms/step - loss: 0.3048 - acc: 0.9020 - val_loss: 0.6156 - val_acc: 0.8260\n",
            "Epoch 68/100\n",
            "390/390 [==============================] - 9s 23ms/step - loss: 0.2864 - acc: 0.9043 - val_loss: 0.5855 - val_acc: 0.8302\n",
            "Epoch 69/100\n",
            "390/390 [==============================] - 9s 23ms/step - loss: 0.2978 - acc: 0.9034 - val_loss: 0.5871 - val_acc: 0.8313\n",
            "Epoch 70/100\n",
            "390/390 [==============================] - 9s 23ms/step - loss: 0.2876 - acc: 0.9045 - val_loss: 0.5994 - val_acc: 0.8263\n",
            "Epoch 71/100\n",
            "390/390 [==============================] - 9s 23ms/step - loss: 0.2921 - acc: 0.9048 - val_loss: 0.5905 - val_acc: 0.8304\n",
            "Epoch 72/100\n",
            "390/390 [==============================] - 9s 23ms/step - loss: 0.2840 - acc: 0.9057 - val_loss: 0.6038 - val_acc: 0.8325\n",
            "Epoch 73/100\n",
            "390/390 [==============================] - 9s 23ms/step - loss: 0.2745 - acc: 0.9105 - val_loss: 0.6165 - val_acc: 0.8254\n",
            "Epoch 74/100\n",
            "390/390 [==============================] - 9s 23ms/step - loss: 0.2877 - acc: 0.9077 - val_loss: 0.6054 - val_acc: 0.8240\n",
            "Epoch 75/100\n",
            "390/390 [==============================] - 9s 23ms/step - loss: 0.2843 - acc: 0.9081 - val_loss: 0.6014 - val_acc: 0.8286\n",
            "Epoch 76/100\n",
            "390/390 [==============================] - 9s 23ms/step - loss: 0.2882 - acc: 0.9067 - val_loss: 0.5932 - val_acc: 0.8347\n",
            "Epoch 77/100\n",
            "390/390 [==============================] - 9s 23ms/step - loss: 0.2857 - acc: 0.9074 - val_loss: 0.5947 - val_acc: 0.8303\n",
            "Epoch 78/100\n",
            "390/390 [==============================] - 9s 23ms/step - loss: 0.2814 - acc: 0.9104 - val_loss: 0.6067 - val_acc: 0.8264\n",
            "Epoch 79/100\n",
            "390/390 [==============================] - 9s 23ms/step - loss: 0.2802 - acc: 0.9096 - val_loss: 0.5959 - val_acc: 0.8291\n",
            "Epoch 80/100\n",
            "390/390 [==============================] - 9s 23ms/step - loss: 0.2857 - acc: 0.9083 - val_loss: 0.5788 - val_acc: 0.8306\n",
            "Epoch 81/100\n",
            "390/390 [==============================] - 9s 23ms/step - loss: 0.2774 - acc: 0.9115 - val_loss: 0.6140 - val_acc: 0.8266\n",
            "Epoch 82/100\n",
            "390/390 [==============================] - 9s 23ms/step - loss: 0.2762 - acc: 0.9112 - val_loss: 0.5914 - val_acc: 0.8300\n",
            "Epoch 83/100\n",
            "390/390 [==============================] - 9s 23ms/step - loss: 0.2732 - acc: 0.9126 - val_loss: 0.6218 - val_acc: 0.8265\n",
            "Epoch 84/100\n",
            "390/390 [==============================] - 9s 23ms/step - loss: 0.2677 - acc: 0.9136 - val_loss: 0.6033 - val_acc: 0.8327\n",
            "Epoch 85/100\n",
            "390/390 [==============================] - 9s 23ms/step - loss: 0.2715 - acc: 0.9126 - val_loss: 0.6178 - val_acc: 0.8321\n",
            "Epoch 86/100\n",
            "390/390 [==============================] - 9s 23ms/step - loss: 0.2708 - acc: 0.9131 - val_loss: 0.6310 - val_acc: 0.8266\n",
            "Epoch 87/100\n",
            "390/390 [==============================] - 9s 23ms/step - loss: 0.2703 - acc: 0.9139 - val_loss: 0.5766 - val_acc: 0.8298\n",
            "Epoch 88/100\n",
            "390/390 [==============================] - 9s 23ms/step - loss: 0.2729 - acc: 0.9135 - val_loss: 0.6187 - val_acc: 0.8274\n",
            "Epoch 89/100\n",
            "390/390 [==============================] - 9s 23ms/step - loss: 0.2716 - acc: 0.9128 - val_loss: 0.6130 - val_acc: 0.8292\n",
            "Epoch 90/100\n",
            "390/390 [==============================] - 9s 23ms/step - loss: 0.2707 - acc: 0.9151 - val_loss: 0.6069 - val_acc: 0.8280\n",
            "Epoch 91/100\n",
            "390/390 [==============================] - 9s 23ms/step - loss: 0.2699 - acc: 0.9132 - val_loss: 0.6156 - val_acc: 0.8299\n",
            "Epoch 92/100\n",
            "390/390 [==============================] - 9s 23ms/step - loss: 0.2722 - acc: 0.9139 - val_loss: 0.6068 - val_acc: 0.8290\n",
            "Epoch 93/100\n",
            "390/390 [==============================] - 9s 23ms/step - loss: 0.2697 - acc: 0.9143 - val_loss: 0.5792 - val_acc: 0.8325\n",
            "Epoch 94/100\n",
            "390/390 [==============================] - 9s 23ms/step - loss: 0.2721 - acc: 0.9153 - val_loss: 0.5953 - val_acc: 0.8317\n",
            "Epoch 95/100\n",
            "390/390 [==============================] - 9s 23ms/step - loss: 0.2685 - acc: 0.9157 - val_loss: 0.5726 - val_acc: 0.8330\n",
            "Epoch 96/100\n",
            "390/390 [==============================] - 9s 23ms/step - loss: 0.2619 - acc: 0.9170 - val_loss: 0.6089 - val_acc: 0.8261\n",
            "Epoch 97/100\n",
            "390/390 [==============================] - 9s 23ms/step - loss: 0.2664 - acc: 0.9169 - val_loss: 0.6366 - val_acc: 0.8306\n",
            "Epoch 98/100\n",
            "390/390 [==============================] - 9s 23ms/step - loss: 0.2624 - acc: 0.9170 - val_loss: 0.6125 - val_acc: 0.8254\n",
            "Epoch 99/100\n",
            "390/390 [==============================] - 9s 23ms/step - loss: 0.2592 - acc: 0.9196 - val_loss: 0.6070 - val_acc: 0.8311\n",
            "Epoch 100/100\n",
            "390/390 [==============================] - 9s 23ms/step - loss: 0.2533 - acc: 0.9195 - val_loss: 0.6024 - val_acc: 0.8328\n",
            "Model took 899.37 seconds to train\n"
          ],
          "name": "stdout"
        },
        {
          "output_type": "display_data",
          "data": {
            "image/png": "[encoded data removed]",
            "text/plain": [
              "<Figure size 1080x360 with 2 Axes>"
            ]
          },
          "metadata": {
            "tags": []
          }
        },
        {
          "output_type": "stream",
          "text": [
            "Accuracy on test data is: 83.28\n"
          ],
          "name": "stdout"
        }
      ]
    },
    {
      "cell_type": "markdown",
      "metadata": {
        "id": "hFP9Mfwsf17w",
        "colab_type": "text"
      },
      "source": [
        "##9.Changing the base model to fine tune and make architecture better"
      ]
    },
    {
      "cell_type": "markdown",
      "metadata": {
        "id": "Vg5Ykg98eu8C",
        "colab_type": "text"
      },
      "source": [
        "## * Changed above architecture.But, have not used Dropout here"
      ]
    },
    {
      "cell_type": "code",
      "metadata": {
        "id": "tZgtKMWwXtJP",
        "colab_type": "code",
        "outputId": "c788cc69-f3ae-4771-ed7f-5d47f9382c13",
        "colab": {
          "base_uri": "https://localhost:8080/",
          "height": 241
        }
      },
      "source": [
        "from keras.layers import Activation\n",
        "from keras.layers import BatchNormalization\n",
        "\n",
        "# Define the model\n",
        "model = Sequential()\n",
        "model.add(Convolution2D(48, 3, 3, border_mode='same', input_shape=(32, 32, 3)))   #GRF-3\n",
        "model.add(BatchNormalization())\n",
        "model.add(Activation('relu'))\n",
        "\n",
        "model.add(Convolution2D(48, 3, 3))    #GRF - 5\n",
        "model.add(BatchNormalization())\n",
        "model.add(Activation('relu'))\n",
        "\n",
        "model.add(MaxPooling2D(pool_size=(2, 2)))   #GRF-10\n",
        "\n",
        "model.add(Convolution2D(96, 3, 3, border_mode='same')) #GRF-12\n",
        "model.add(BatchNormalization())\n",
        "model.add(Activation('relu'))\n",
        "\n",
        "model.add(Convolution2D(96, 3, 3))  #GRF-14\n",
        "model.add(BatchNormalization())\n",
        "model.add(Activation('relu'))\n",
        "\n",
        "model.add(MaxPooling2D(pool_size=(2, 2)))  #GRF -28\n",
        "\n",
        "model.add(Convolution2D(192, 3, 3, border_mode='same')) #GRF -30\n",
        "model.add(BatchNormalization())\n",
        "model.add(Activation('relu'))\n",
        "\n",
        "model.add(Convolution2D(192, 3, 3,border_mode='same')) #GRF-32\n",
        "model.add(BatchNormalization())\n",
        "model.add(Activation('relu'))\n",
        "\n",
        "model.add(MaxPooling2D(pool_size=(2, 2)))  #GRF -64\n",
        "model.add(Convolution2D(48, 1, 1) )         #GRF-65\n",
        "\n",
        "model.add(Convolution2D(48,3,3,border_mode='same'))  #GRF-67\n",
        "model.add(BatchNormalization())\n",
        "model.add(Activation('relu'))\n",
        "\n",
        "model.add(Convolution2D(10, 1,1)) #GRF-68\n",
        "model.add(BatchNormalization())\n",
        "model.add(Activation('relu'))\n",
        "\n",
        "model.add(Convolution2D(10, 3))\n",
        "model.add(Flatten())\n",
        "model.add(Activation('softmax'))"
      ],
      "execution_count": 0,
      "outputs": [
        {
          "output_type": "stream",
          "text": [
            "/usr/local/lib/python3.6/dist-packages/ipykernel_launcher.py:6: UserWarning: Update your `Conv2D` call to the Keras 2 API: `Conv2D(48, (3, 3), input_shape=(32, 32, 3..., padding=\"same\")`\n",
            "  \n",
            "/usr/local/lib/python3.6/dist-packages/ipykernel_launcher.py:10: UserWarning: Update your `Conv2D` call to the Keras 2 API: `Conv2D(48, (3, 3))`\n",
            "  # Remove the CWD from sys.path while we load stuff.\n",
            "/usr/local/lib/python3.6/dist-packages/ipykernel_launcher.py:16: UserWarning: Update your `Conv2D` call to the Keras 2 API: `Conv2D(96, (3, 3), padding=\"same\")`\n",
            "  app.launch_new_instance()\n",
            "/usr/local/lib/python3.6/dist-packages/ipykernel_launcher.py:20: UserWarning: Update your `Conv2D` call to the Keras 2 API: `Conv2D(96, (3, 3))`\n",
            "/usr/local/lib/python3.6/dist-packages/ipykernel_launcher.py:26: UserWarning: Update your `Conv2D` call to the Keras 2 API: `Conv2D(192, (3, 3), padding=\"same\")`\n",
            "/usr/local/lib/python3.6/dist-packages/ipykernel_launcher.py:30: UserWarning: Update your `Conv2D` call to the Keras 2 API: `Conv2D(192, (3, 3), padding=\"same\")`\n",
            "/usr/local/lib/python3.6/dist-packages/ipykernel_launcher.py:35: UserWarning: Update your `Conv2D` call to the Keras 2 API: `Conv2D(48, (1, 1))`\n",
            "/usr/local/lib/python3.6/dist-packages/ipykernel_launcher.py:37: UserWarning: Update your `Conv2D` call to the Keras 2 API: `Conv2D(48, (3, 3), padding=\"same\")`\n",
            "/usr/local/lib/python3.6/dist-packages/ipykernel_launcher.py:41: UserWarning: Update your `Conv2D` call to the Keras 2 API: `Conv2D(10, (1, 1))`\n"
          ],
          "name": "stderr"
        }
      ]
    },
    {
      "cell_type": "code",
      "metadata": {
        "id": "hWn2CKEKYWf0",
        "colab_type": "code",
        "outputId": "ad5f43b8-8b1e-4f31-a539-fa890a45e303",
        "colab": {
          "base_uri": "https://localhost:8080/",
          "height": 1190
        }
      },
      "source": [
        "model.summary()"
      ],
      "execution_count": 0,
      "outputs": [
        {
          "output_type": "stream",
          "text": [
            "_________________________________________________________________\n",
            "Layer (type)                 Output Shape              Param #   \n",
            "=================================================================\n",
            "conv2d_27 (Conv2D)           (None, 32, 32, 48)        1344      \n",
            "_________________________________________________________________\n",
            "batch_normalization_21 (Batc (None, 32, 32, 48)        192       \n",
            "_________________________________________________________________\n",
            "activation_21 (Activation)   (None, 32, 32, 48)        0         \n",
            "_________________________________________________________________\n",
            "conv2d_28 (Conv2D)           (None, 30, 30, 48)        20784     \n",
            "_________________________________________________________________\n",
            "batch_normalization_22 (Batc (None, 30, 30, 48)        192       \n",
            "_________________________________________________________________\n",
            "activation_22 (Activation)   (None, 30, 30, 48)        0         \n",
            "_________________________________________________________________\n",
            "max_pooling2d_10 (MaxPooling (None, 15, 15, 48)        0         \n",
            "_________________________________________________________________\n",
            "conv2d_29 (Conv2D)           (None, 15, 15, 96)        41568     \n",
            "_________________________________________________________________\n",
            "batch_normalization_23 (Batc (None, 15, 15, 96)        384       \n",
            "_________________________________________________________________\n",
            "activation_23 (Activation)   (None, 15, 15, 96)        0         \n",
            "_________________________________________________________________\n",
            "conv2d_30 (Conv2D)           (None, 13, 13, 96)        83040     \n",
            "_________________________________________________________________\n",
            "batch_normalization_24 (Batc (None, 13, 13, 96)        384       \n",
            "_________________________________________________________________\n",
            "activation_24 (Activation)   (None, 13, 13, 96)        0         \n",
            "_________________________________________________________________\n",
            "max_pooling2d_11 (MaxPooling (None, 6, 6, 96)          0         \n",
            "_________________________________________________________________\n",
            "conv2d_31 (Conv2D)           (None, 6, 6, 192)         166080    \n",
            "_________________________________________________________________\n",
            "batch_normalization_25 (Batc (None, 6, 6, 192)         768       \n",
            "_________________________________________________________________\n",
            "activation_25 (Activation)   (None, 6, 6, 192)         0         \n",
            "_________________________________________________________________\n",
            "conv2d_32 (Conv2D)           (None, 6, 6, 192)         331968    \n",
            "_________________________________________________________________\n",
            "batch_normalization_26 (Batc (None, 6, 6, 192)         768       \n",
            "_________________________________________________________________\n",
            "activation_26 (Activation)   (None, 6, 6, 192)         0         \n",
            "_________________________________________________________________\n",
            "max_pooling2d_12 (MaxPooling (None, 3, 3, 192)         0         \n",
            "_________________________________________________________________\n",
            "conv2d_33 (Conv2D)           (None, 3, 3, 48)          9264      \n",
            "_________________________________________________________________\n",
            "conv2d_34 (Conv2D)           (None, 3, 3, 48)          20784     \n",
            "_________________________________________________________________\n",
            "batch_normalization_27 (Batc (None, 3, 3, 48)          192       \n",
            "_________________________________________________________________\n",
            "activation_27 (Activation)   (None, 3, 3, 48)          0         \n",
            "_________________________________________________________________\n",
            "conv2d_35 (Conv2D)           (None, 3, 3, 10)          490       \n",
            "_________________________________________________________________\n",
            "batch_normalization_28 (Batc (None, 3, 3, 10)          40        \n",
            "_________________________________________________________________\n",
            "activation_28 (Activation)   (None, 3, 3, 10)          0         \n",
            "_________________________________________________________________\n",
            "conv2d_36 (Conv2D)           (None, 1, 1, 10)          910       \n",
            "_________________________________________________________________\n",
            "flatten_1 (Flatten)          (None, 10)                0         \n",
            "_________________________________________________________________\n",
            "activation_29 (Activation)   (None, 10)                0         \n",
            "=================================================================\n",
            "Total params: 679,152\n",
            "Trainable params: 677,692\n",
            "Non-trainable params: 1,460\n",
            "_________________________________________________________________\n"
          ],
          "name": "stdout"
        }
      ]
    },
    {
      "cell_type": "code",
      "metadata": {
        "id": "iYRDuFGgY9jy",
        "colab_type": "code",
        "colab": {}
      },
      "source": [
        "model.compile(optimizer='adam', loss='categorical_crossentropy', metrics=['accuracy'])"
      ],
      "execution_count": 0,
      "outputs": []
    },
    {
      "cell_type": "code",
      "metadata": {
        "id": "ITn9PE55ZFqP",
        "colab_type": "code",
        "outputId": "99db5edc-1c20-4447-e70b-57dcdcf8869e",
        "colab": {
          "base_uri": "https://localhost:8080/",
          "height": 3923
        }
      },
      "source": [
        "from keras.preprocessing.image import ImageDataGenerator\n",
        "\n",
        "datagen = ImageDataGenerator(zoom_range=0.0, \n",
        "                             horizontal_flip=False)\n",
        "\n",
        "\n",
        "# train the model\n",
        "start = time.time()\n",
        "# Train the model\n",
        "model_info = model.fit_generator(datagen.flow(train_features, train_labels, batch_size = 128),\n",
        "                                 samples_per_epoch = train_features.shape[0], nb_epoch = 100, \n",
        "                                 validation_data = (test_features, test_labels), verbose=1)\n",
        "end = time.time()\n",
        "print (\"Model took %0.2f seconds to train\"%(end - start))\n",
        "# plot model history\n",
        "plot_model_history(model_info)\n",
        "# compute test accuracy\n",
        "print (\"Accuracy on test data is: %0.2f\"%accuracy(test_features, test_labels, model))"
      ],
      "execution_count": 0,
      "outputs": [
        {
          "output_type": "stream",
          "text": [
            "WARNING:tensorflow:From /usr/local/lib/python3.6/dist-packages/tensorflow/python/ops/math_ops.py:3066: to_int32 (from tensorflow.python.ops.math_ops) is deprecated and will be removed in a future version.\n",
            "Instructions for updating:\n",
            "Use tf.cast instead.\n"
          ],
          "name": "stdout"
        },
        {
          "output_type": "stream",
          "text": [
            "/usr/local/lib/python3.6/dist-packages/ipykernel_launcher.py:12: UserWarning: The semantics of the Keras 2 argument `steps_per_epoch` is not the same as the Keras 1 argument `samples_per_epoch`. `steps_per_epoch` is the number of batches to draw from the generator at each epoch. Basically steps_per_epoch = samples_per_epoch/batch_size. Similarly `nb_val_samples`->`validation_steps` and `val_samples`->`steps` arguments have changed. Update your method calls accordingly.\n",
            "  if sys.path[0] == '':\n",
            "/usr/local/lib/python3.6/dist-packages/ipykernel_launcher.py:12: UserWarning: Update your `fit_generator` call to the Keras 2 API: `fit_generator(<keras_pre..., validation_data=(array([[[..., verbose=1, steps_per_epoch=390, epochs=100)`\n",
            "  if sys.path[0] == '':\n"
          ],
          "name": "stderr"
        },
        {
          "output_type": "stream",
          "text": [
            "Epoch 1/100\n",
            "390/390 [==============================] - 18s 46ms/step - loss: 1.2161 - acc: 0.5634 - val_loss: 1.8363 - val_acc: 0.4665\n",
            "Epoch 2/100\n",
            "390/390 [==============================] - 13s 33ms/step - loss: 0.7546 - acc: 0.7368 - val_loss: 1.1549 - val_acc: 0.5994\n",
            "Epoch 3/100\n",
            "390/390 [==============================] - 12s 32ms/step - loss: 0.5736 - acc: 0.8023 - val_loss: 0.8528 - val_acc: 0.7175\n",
            "Epoch 4/100\n",
            "390/390 [==============================] - 13s 32ms/step - loss: 0.4595 - acc: 0.8415 - val_loss: 0.9237 - val_acc: 0.7076\n",
            "Epoch 5/100\n",
            "390/390 [==============================] - 13s 32ms/step - loss: 0.3703 - acc: 0.8720 - val_loss: 0.9708 - val_acc: 0.6944\n",
            "Epoch 6/100\n",
            "390/390 [==============================] - 13s 32ms/step - loss: 0.2826 - acc: 0.9023 - val_loss: 0.7710 - val_acc: 0.7584\n",
            "Epoch 7/100\n",
            "390/390 [==============================] - 13s 32ms/step - loss: 0.2216 - acc: 0.9233 - val_loss: 0.8487 - val_acc: 0.7450\n",
            "Epoch 8/100\n",
            "390/390 [==============================] - 13s 32ms/step - loss: 0.1568 - acc: 0.9460 - val_loss: 1.6798 - val_acc: 0.6370\n",
            "Epoch 9/100\n",
            "390/390 [==============================] - 13s 32ms/step - loss: 0.1258 - acc: 0.9562 - val_loss: 1.4463 - val_acc: 0.6674\n",
            "Epoch 10/100\n",
            "390/390 [==============================] - 13s 32ms/step - loss: 0.0951 - acc: 0.9673 - val_loss: 1.4577 - val_acc: 0.6736\n",
            "Epoch 11/100\n",
            "390/390 [==============================] - 13s 33ms/step - loss: 0.0931 - acc: 0.9671 - val_loss: 0.8344 - val_acc: 0.7935\n",
            "Epoch 12/100\n",
            "390/390 [==============================] - 13s 32ms/step - loss: 0.0694 - acc: 0.9767 - val_loss: 0.9144 - val_acc: 0.7770\n",
            "Epoch 13/100\n",
            "390/390 [==============================] - 13s 32ms/step - loss: 0.0682 - acc: 0.9764 - val_loss: 0.9810 - val_acc: 0.7713\n",
            "Epoch 14/100\n",
            "390/390 [==============================] - 13s 32ms/step - loss: 0.0603 - acc: 0.9793 - val_loss: 1.0314 - val_acc: 0.7802\n",
            "Epoch 15/100\n",
            "390/390 [==============================] - 13s 32ms/step - loss: 0.0574 - acc: 0.9797 - val_loss: 0.9121 - val_acc: 0.8003\n",
            "Epoch 16/100\n",
            "390/390 [==============================] - 13s 32ms/step - loss: 0.0499 - acc: 0.9831 - val_loss: 0.9173 - val_acc: 0.8037\n",
            "Epoch 17/100\n",
            "390/390 [==============================] - 13s 32ms/step - loss: 0.0535 - acc: 0.9816 - val_loss: 1.0972 - val_acc: 0.7491\n",
            "Epoch 18/100\n",
            "390/390 [==============================] - 13s 32ms/step - loss: 0.0522 - acc: 0.9816 - val_loss: 0.9948 - val_acc: 0.7948\n",
            "Epoch 19/100\n",
            "390/390 [==============================] - 13s 32ms/step - loss: 0.0377 - acc: 0.9878 - val_loss: 0.8815 - val_acc: 0.8134\n",
            "Epoch 20/100\n",
            "390/390 [==============================] - 13s 32ms/step - loss: 0.0337 - acc: 0.9887 - val_loss: 0.9760 - val_acc: 0.7966\n",
            "Epoch 21/100\n",
            "390/390 [==============================] - 13s 33ms/step - loss: 0.0503 - acc: 0.9826 - val_loss: 1.1151 - val_acc: 0.7899\n",
            "Epoch 22/100\n",
            "390/390 [==============================] - 13s 32ms/step - loss: 0.0418 - acc: 0.9850 - val_loss: 1.1446 - val_acc: 0.7725\n",
            "Epoch 23/100\n",
            "390/390 [==============================] - 13s 32ms/step - loss: 0.0303 - acc: 0.9897 - val_loss: 1.0121 - val_acc: 0.8014\n",
            "Epoch 24/100\n",
            "390/390 [==============================] - 13s 32ms/step - loss: 0.0300 - acc: 0.9901 - val_loss: 1.5099 - val_acc: 0.7433\n",
            "Epoch 25/100\n",
            "390/390 [==============================] - 13s 32ms/step - loss: 0.0412 - acc: 0.9858 - val_loss: 1.2024 - val_acc: 0.7741\n",
            "Epoch 26/100\n",
            "390/390 [==============================] - 13s 32ms/step - loss: 0.0365 - acc: 0.9872 - val_loss: 0.9845 - val_acc: 0.8052\n",
            "Epoch 27/100\n",
            "390/390 [==============================] - 13s 32ms/step - loss: 0.0257 - acc: 0.9914 - val_loss: 1.0441 - val_acc: 0.7989\n",
            "Epoch 28/100\n",
            "390/390 [==============================] - 13s 32ms/step - loss: 0.0212 - acc: 0.9931 - val_loss: 1.0185 - val_acc: 0.8076\n",
            "Epoch 29/100\n",
            "390/390 [==============================] - 13s 32ms/step - loss: 0.0382 - acc: 0.9870 - val_loss: 1.1450 - val_acc: 0.7844\n",
            "Epoch 30/100\n",
            "390/390 [==============================] - 13s 32ms/step - loss: 0.0317 - acc: 0.9888 - val_loss: 1.0891 - val_acc: 0.8015\n",
            "Epoch 31/100\n",
            "390/390 [==============================] - 13s 32ms/step - loss: 0.0216 - acc: 0.9926 - val_loss: 1.1581 - val_acc: 0.8010\n",
            "Epoch 32/100\n",
            "390/390 [==============================] - 13s 32ms/step - loss: 0.0232 - acc: 0.9922 - val_loss: 1.0153 - val_acc: 0.8105\n",
            "Epoch 33/100\n",
            "390/390 [==============================] - 13s 32ms/step - loss: 0.0255 - acc: 0.9911 - val_loss: 1.1690 - val_acc: 0.7896\n",
            "Epoch 34/100\n",
            "390/390 [==============================] - 13s 32ms/step - loss: 0.0278 - acc: 0.9904 - val_loss: 0.9953 - val_acc: 0.8096\n",
            "Epoch 35/100\n",
            "390/390 [==============================] - 13s 32ms/step - loss: 0.0218 - acc: 0.9924 - val_loss: 1.2390 - val_acc: 0.7900\n",
            "Epoch 36/100\n",
            "390/390 [==============================] - 13s 32ms/step - loss: 0.0215 - acc: 0.9928 - val_loss: 1.0194 - val_acc: 0.8166\n",
            "Epoch 37/100\n",
            "390/390 [==============================] - 13s 32ms/step - loss: 0.0279 - acc: 0.9904 - val_loss: 1.3864 - val_acc: 0.7632\n",
            "Epoch 38/100\n",
            "390/390 [==============================] - 13s 32ms/step - loss: 0.0286 - acc: 0.9903 - val_loss: 1.1614 - val_acc: 0.8059\n",
            "Epoch 39/100\n",
            "390/390 [==============================] - 13s 32ms/step - loss: 0.0211 - acc: 0.9925 - val_loss: 1.0290 - val_acc: 0.8155\n",
            "Epoch 40/100\n",
            "390/390 [==============================] - 13s 32ms/step - loss: 0.0169 - acc: 0.9942 - val_loss: 1.0261 - val_acc: 0.8101\n",
            "Epoch 41/100\n",
            "390/390 [==============================] - 13s 32ms/step - loss: 0.0220 - acc: 0.9924 - val_loss: 1.0902 - val_acc: 0.8092\n",
            "Epoch 42/100\n",
            "390/390 [==============================] - 13s 32ms/step - loss: 0.0169 - acc: 0.9945 - val_loss: 1.1199 - val_acc: 0.8078\n",
            "Epoch 43/100\n",
            "390/390 [==============================] - 13s 33ms/step - loss: 0.0223 - acc: 0.9921 - val_loss: 1.1915 - val_acc: 0.8013\n",
            "Epoch 44/100\n",
            "390/390 [==============================] - 13s 32ms/step - loss: 0.0176 - acc: 0.9941 - val_loss: 1.1225 - val_acc: 0.8030\n",
            "Epoch 45/100\n",
            "390/390 [==============================] - 13s 32ms/step - loss: 0.0182 - acc: 0.9934 - val_loss: 1.1052 - val_acc: 0.8142\n",
            "Epoch 46/100\n",
            "390/390 [==============================] - 13s 32ms/step - loss: 0.0169 - acc: 0.9948 - val_loss: 1.1602 - val_acc: 0.8078\n",
            "Epoch 47/100\n",
            "390/390 [==============================] - 13s 32ms/step - loss: 0.0174 - acc: 0.9941 - val_loss: 1.3102 - val_acc: 0.7884\n",
            "Epoch 48/100\n",
            "390/390 [==============================] - 13s 32ms/step - loss: 0.0167 - acc: 0.9945 - val_loss: 1.2525 - val_acc: 0.7974\n",
            "Epoch 49/100\n",
            "390/390 [==============================] - 13s 32ms/step - loss: 0.0213 - acc: 0.9925 - val_loss: 1.1655 - val_acc: 0.8082\n",
            "Epoch 50/100\n",
            "390/390 [==============================] - 13s 32ms/step - loss: 0.0197 - acc: 0.9928 - val_loss: 1.3030 - val_acc: 0.7862\n",
            "Epoch 51/100\n",
            "390/390 [==============================] - 13s 32ms/step - loss: 0.0142 - acc: 0.9952 - val_loss: 1.2699 - val_acc: 0.7968\n",
            "Epoch 52/100\n",
            "390/390 [==============================] - 13s 32ms/step - loss: 0.0157 - acc: 0.9944 - val_loss: 1.1176 - val_acc: 0.8215\n",
            "Epoch 53/100\n",
            "390/390 [==============================] - 13s 32ms/step - loss: 0.0166 - acc: 0.9945 - val_loss: 1.2087 - val_acc: 0.8026\n",
            "Epoch 54/100\n",
            "390/390 [==============================] - 13s 32ms/step - loss: 0.0133 - acc: 0.9951 - val_loss: 1.1925 - val_acc: 0.8064\n",
            "Epoch 55/100\n",
            "390/390 [==============================] - 13s 32ms/step - loss: 0.0147 - acc: 0.9946 - val_loss: 1.3516 - val_acc: 0.7918\n",
            "Epoch 56/100\n",
            "390/390 [==============================] - 13s 32ms/step - loss: 0.0104 - acc: 0.9966 - val_loss: 1.2217 - val_acc: 0.8097\n",
            "Epoch 57/100\n",
            "390/390 [==============================] - 13s 32ms/step - loss: 0.0184 - acc: 0.9936 - val_loss: 1.6982 - val_acc: 0.7574\n",
            "Epoch 58/100\n",
            "390/390 [==============================] - 13s 32ms/step - loss: 0.0187 - acc: 0.9937 - val_loss: 1.1309 - val_acc: 0.8086\n",
            "Epoch 59/100\n",
            "390/390 [==============================] - 13s 32ms/step - loss: 0.0138 - acc: 0.9954 - val_loss: 1.2253 - val_acc: 0.7987\n",
            "Epoch 60/100\n",
            "390/390 [==============================] - 13s 32ms/step - loss: 0.0119 - acc: 0.9960 - val_loss: 1.1135 - val_acc: 0.8143\n",
            "Epoch 61/100\n",
            "390/390 [==============================] - 13s 32ms/step - loss: 0.0135 - acc: 0.9953 - val_loss: 1.2831 - val_acc: 0.7947\n",
            "Epoch 62/100\n",
            "390/390 [==============================] - 13s 32ms/step - loss: 0.0119 - acc: 0.9962 - val_loss: 1.1191 - val_acc: 0.8111\n",
            "Epoch 63/100\n",
            "390/390 [==============================] - 13s 32ms/step - loss: 0.0177 - acc: 0.9939 - val_loss: 1.4056 - val_acc: 0.7871\n",
            "Epoch 64/100\n",
            "390/390 [==============================] - 13s 32ms/step - loss: 0.0137 - acc: 0.9951 - val_loss: 1.1007 - val_acc: 0.8157\n",
            "Epoch 65/100\n",
            "390/390 [==============================] - 12s 32ms/step - loss: 0.0086 - acc: 0.9972 - val_loss: 1.2540 - val_acc: 0.7993\n",
            "Epoch 66/100\n",
            "390/390 [==============================] - 12s 32ms/step - loss: 0.0120 - acc: 0.9958 - val_loss: 1.1851 - val_acc: 0.8113\n",
            "Epoch 67/100\n",
            "390/390 [==============================] - 12s 32ms/step - loss: 0.0096 - acc: 0.9968 - val_loss: 1.2538 - val_acc: 0.8067\n",
            "Epoch 68/100\n",
            "390/390 [==============================] - 12s 32ms/step - loss: 0.0130 - acc: 0.9955 - val_loss: 1.3283 - val_acc: 0.7972\n",
            "Epoch 69/100\n",
            "390/390 [==============================] - 13s 32ms/step - loss: 0.0130 - acc: 0.9953 - val_loss: 1.2353 - val_acc: 0.8125\n",
            "Epoch 70/100\n",
            "390/390 [==============================] - 13s 32ms/step - loss: 0.0153 - acc: 0.9952 - val_loss: 1.2022 - val_acc: 0.8156\n",
            "Epoch 71/100\n",
            "390/390 [==============================] - 13s 32ms/step - loss: 0.0081 - acc: 0.9974 - val_loss: 1.1799 - val_acc: 0.8181\n",
            "Epoch 72/100\n",
            "390/390 [==============================] - 12s 32ms/step - loss: 0.0078 - acc: 0.9973 - val_loss: 1.2692 - val_acc: 0.8065\n",
            "Epoch 73/100\n",
            "390/390 [==============================] - 12s 32ms/step - loss: 0.0143 - acc: 0.9949 - val_loss: 1.2141 - val_acc: 0.8158\n",
            "Epoch 74/100\n",
            "390/390 [==============================] - 12s 32ms/step - loss: 0.0140 - acc: 0.9952 - val_loss: 1.3156 - val_acc: 0.7960\n",
            "Epoch 75/100\n",
            "390/390 [==============================] - 12s 32ms/step - loss: 0.0116 - acc: 0.9960 - val_loss: 1.1174 - val_acc: 0.8278\n",
            "Epoch 76/100\n",
            "390/390 [==============================] - 12s 32ms/step - loss: 0.0086 - acc: 0.9969 - val_loss: 1.2273 - val_acc: 0.8157\n",
            "Epoch 77/100\n",
            "390/390 [==============================] - 12s 32ms/step - loss: 0.0114 - acc: 0.9961 - val_loss: 1.3524 - val_acc: 0.7942\n",
            "Epoch 78/100\n",
            "390/390 [==============================] - 12s 32ms/step - loss: 0.0122 - acc: 0.9959 - val_loss: 1.2717 - val_acc: 0.8112\n",
            "Epoch 79/100\n",
            "390/390 [==============================] - 12s 32ms/step - loss: 0.0092 - acc: 0.9967 - val_loss: 1.1920 - val_acc: 0.8164\n",
            "Epoch 80/100\n",
            "390/390 [==============================] - 12s 32ms/step - loss: 0.0060 - acc: 0.9982 - val_loss: 1.1875 - val_acc: 0.8199\n",
            "Epoch 81/100\n",
            "390/390 [==============================] - 12s 32ms/step - loss: 0.0115 - acc: 0.9960 - val_loss: 1.2014 - val_acc: 0.8189\n",
            "Epoch 82/100\n",
            "390/390 [==============================] - 12s 32ms/step - loss: 0.0172 - acc: 0.9937 - val_loss: 1.5113 - val_acc: 0.7764\n",
            "Epoch 83/100\n",
            "390/390 [==============================] - 12s 32ms/step - loss: 0.0147 - acc: 0.9952 - val_loss: 1.2028 - val_acc: 0.8142\n",
            "Epoch 84/100\n",
            "390/390 [==============================] - 12s 32ms/step - loss: 0.0091 - acc: 0.9970 - val_loss: 1.2016 - val_acc: 0.8150\n",
            "Epoch 85/100\n",
            "390/390 [==============================] - 12s 31ms/step - loss: 0.0032 - acc: 0.9989 - val_loss: 1.1773 - val_acc: 0.8206\n",
            "Epoch 86/100\n",
            "390/390 [==============================] - 12s 31ms/step - loss: 0.0029 - acc: 0.9990 - val_loss: 1.1537 - val_acc: 0.8230\n",
            "Epoch 87/100\n",
            "390/390 [==============================] - 12s 31ms/step - loss: 0.0098 - acc: 0.9965 - val_loss: 1.4261 - val_acc: 0.7830\n",
            "Epoch 88/100\n",
            "390/390 [==============================] - 12s 31ms/step - loss: 0.0250 - acc: 0.9919 - val_loss: 1.4673 - val_acc: 0.7819\n",
            "Epoch 89/100\n",
            "390/390 [==============================] - 12s 32ms/step - loss: 0.0096 - acc: 0.9966 - val_loss: 1.1823 - val_acc: 0.8257\n",
            "Epoch 90/100\n",
            "390/390 [==============================] - 12s 32ms/step - loss: 0.0043 - acc: 0.9985 - val_loss: 1.1152 - val_acc: 0.8334\n",
            "Epoch 91/100\n",
            "390/390 [==============================] - 12s 32ms/step - loss: 0.0027 - acc: 0.9992 - val_loss: 1.0951 - val_acc: 0.8322\n",
            "Epoch 92/100\n",
            "390/390 [==============================] - 12s 32ms/step - loss: 0.0016 - acc: 0.9996 - val_loss: 1.1668 - val_acc: 0.8284\n",
            "Epoch 93/100\n",
            "390/390 [==============================] - 12s 32ms/step - loss: 0.0158 - acc: 0.9946 - val_loss: 1.3933 - val_acc: 0.8005\n",
            "Epoch 94/100\n",
            "390/390 [==============================] - 12s 32ms/step - loss: 0.0239 - acc: 0.9922 - val_loss: 1.1632 - val_acc: 0.8173\n",
            "Epoch 95/100\n",
            "390/390 [==============================] - 12s 32ms/step - loss: 0.0081 - acc: 0.9973 - val_loss: 1.1269 - val_acc: 0.8231\n",
            "Epoch 96/100\n",
            "390/390 [==============================] - 12s 32ms/step - loss: 0.0039 - acc: 0.9987 - val_loss: 1.1096 - val_acc: 0.8297\n",
            "Epoch 97/100\n",
            "390/390 [==============================] - 12s 32ms/step - loss: 0.0036 - acc: 0.9989 - val_loss: 1.1563 - val_acc: 0.8233\n",
            "Epoch 98/100\n",
            "390/390 [==============================] - 12s 32ms/step - loss: 0.0092 - acc: 0.9970 - val_loss: 1.3693 - val_acc: 0.7997\n",
            "Epoch 99/100\n",
            "390/390 [==============================] - 12s 32ms/step - loss: 0.0124 - acc: 0.9958 - val_loss: 1.2860 - val_acc: 0.8125\n",
            "Epoch 100/100\n",
            "390/390 [==============================] - 12s 31ms/step - loss: 0.0077 - acc: 0.9972 - val_loss: 1.2757 - val_acc: 0.8132\n",
            "Model took 1258.38 seconds to train\n"
          ],
          "name": "stdout"
        },
        {
          "output_type": "display_data",
          "data": {
            "image/png": "[encoded data removed]",
            "text/plain": [
              "<Figure size 1080x360 with 2 Axes>"
            ]
          },
          "metadata": {
            "tags": []
          }
        },
        {
          "output_type": "stream",
          "text": [
            "Accuracy on test data is: 81.32\n"
          ],
          "name": "stdout"
        }
      ]
    },
    {
      "cell_type": "markdown",
      "metadata": {
        "id": "XXVv95hYemzA",
        "colab_type": "text"
      },
      "source": [
        "##* Changed Placeholder of Dropout"
      ]
    },
    {
      "cell_type": "code",
      "metadata": {
        "id": "Drn5ceiAZMFn",
        "colab_type": "code",
        "outputId": "f4027404-a826-4024-9a50-cc5c19235d8c",
        "colab": {
          "base_uri": "https://localhost:8080/",
          "height": 275
        }
      },
      "source": [
        "from keras.layers import Activation\n",
        "from keras.layers import BatchNormalization\n",
        "\n",
        "# Define the model\n",
        "model = Sequential()\n",
        "model.add(Convolution2D(48, 3, 3, border_mode='same', input_shape=(32, 32, 3)))   #GRF-3\n",
        "model.add(BatchNormalization())\n",
        "model.add(Activation('relu'))\n",
        "\n",
        "model.add(Convolution2D(48, 3, 3))    #GRF - 5\n",
        "model.add(BatchNormalization())\n",
        "model.add(Activation('relu'))\n",
        "model.add(Dropout(0.2))\n",
        "\n",
        "model.add(MaxPooling2D(pool_size=(2, 2)))   #GRF-10\n",
        "\n",
        "model.add(Convolution2D(96, 3, 3, border_mode='same')) #GRF-12\n",
        "model.add(BatchNormalization())\n",
        "model.add(Activation('relu'))\n",
        "\n",
        "model.add(Convolution2D(96, 3, 3))  #GRF-14\n",
        "model.add(BatchNormalization())\n",
        "model.add(Activation('relu'))\n",
        "model.add(Dropout(0.2))\n",
        "\n",
        "model.add(MaxPooling2D(pool_size=(2, 2)))  #GRF -28\n",
        "\n",
        "model.add(Convolution2D(192, 3, 3, border_mode='same')) #GRF -30\n",
        "model.add(BatchNormalization())\n",
        "model.add(Activation('relu'))\n",
        "\n",
        "model.add(Convolution2D(192, 3, 3,border_mode='same')) #GRF-32\n",
        "model.add(BatchNormalization())\n",
        "model.add(Activation('relu'))\n",
        "model.add(Dropout(0.2))\n",
        "\n",
        "model.add(MaxPooling2D(pool_size=(2, 2)))  #GRF -64\n",
        "model.add(Convolution2D(48, 1, 1) )         #GRF-65\n",
        "\n",
        "model.add(Convolution2D(48,3,3,border_mode='same'))  #GRF-67\n",
        "model.add(BatchNormalization())\n",
        "model.add(Activation('relu'))\n",
        "\n",
        "model.add(Convolution2D(10, 1,1)) #GRF-68\n",
        "model.add(BatchNormalization())\n",
        "model.add(Activation('relu'))\n",
        "\n",
        "model.add(Convolution2D(10, 3))\n",
        "model.add(Flatten())\n",
        "model.add(Activation('softmax'))"
      ],
      "execution_count": 0,
      "outputs": [
        {
          "output_type": "stream",
          "text": [
            "WARNING:tensorflow:From /usr/local/lib/python3.6/dist-packages/keras/backend/tensorflow_backend.py:3445: calling dropout (from tensorflow.python.ops.nn_ops) with keep_prob is deprecated and will be removed in a future version.\n",
            "Instructions for updating:\n",
            "Please use `rate` instead of `keep_prob`. Rate should be set to `rate = 1 - keep_prob`.\n"
          ],
          "name": "stdout"
        },
        {
          "output_type": "stream",
          "text": [
            "/usr/local/lib/python3.6/dist-packages/ipykernel_launcher.py:6: UserWarning: Update your `Conv2D` call to the Keras 2 API: `Conv2D(48, (3, 3), input_shape=(32, 32, 3..., padding=\"same\")`\n",
            "  \n",
            "/usr/local/lib/python3.6/dist-packages/ipykernel_launcher.py:10: UserWarning: Update your `Conv2D` call to the Keras 2 API: `Conv2D(48, (3, 3))`\n",
            "  # Remove the CWD from sys.path while we load stuff.\n",
            "/usr/local/lib/python3.6/dist-packages/ipykernel_launcher.py:17: UserWarning: Update your `Conv2D` call to the Keras 2 API: `Conv2D(96, (3, 3), padding=\"same\")`\n",
            "/usr/local/lib/python3.6/dist-packages/ipykernel_launcher.py:21: UserWarning: Update your `Conv2D` call to the Keras 2 API: `Conv2D(96, (3, 3))`\n",
            "/usr/local/lib/python3.6/dist-packages/ipykernel_launcher.py:28: UserWarning: Update your `Conv2D` call to the Keras 2 API: `Conv2D(192, (3, 3), padding=\"same\")`\n",
            "/usr/local/lib/python3.6/dist-packages/ipykernel_launcher.py:32: UserWarning: Update your `Conv2D` call to the Keras 2 API: `Conv2D(192, (3, 3), padding=\"same\")`\n",
            "/usr/local/lib/python3.6/dist-packages/ipykernel_launcher.py:38: UserWarning: Update your `Conv2D` call to the Keras 2 API: `Conv2D(48, (1, 1))`\n",
            "/usr/local/lib/python3.6/dist-packages/ipykernel_launcher.py:40: UserWarning: Update your `Conv2D` call to the Keras 2 API: `Conv2D(48, (3, 3), padding=\"same\")`\n",
            "/usr/local/lib/python3.6/dist-packages/ipykernel_launcher.py:44: UserWarning: Update your `Conv2D` call to the Keras 2 API: `Conv2D(10, (1, 1))`\n"
          ],
          "name": "stderr"
        }
      ]
    },
    {
      "cell_type": "code",
      "metadata": {
        "id": "-m60Wo9Geat8",
        "colab_type": "code",
        "colab": {}
      },
      "source": [
        "model.compile(optimizer='adam', loss='categorical_crossentropy', metrics=['accuracy'])"
      ],
      "execution_count": 0,
      "outputs": []
    },
    {
      "cell_type": "code",
      "metadata": {
        "id": "ZkjZr65neh3F",
        "colab_type": "code",
        "outputId": "a25a335c-a9d4-4e41-f110-6f0f487f044f",
        "colab": {
          "base_uri": "https://localhost:8080/",
          "height": 3872
        }
      },
      "source": [
        "from keras.preprocessing.image import ImageDataGenerator\n",
        "\n",
        "datagen = ImageDataGenerator(zoom_range=0.0, \n",
        "                             horizontal_flip=False)\n",
        "\n",
        "\n",
        "# train the model\n",
        "start = time.time()\n",
        "# Train the model\n",
        "model_info = model.fit_generator(datagen.flow(train_features, train_labels, batch_size = 128),\n",
        "                                 samples_per_epoch = train_features.shape[0], nb_epoch = 100, \n",
        "                                 validation_data = (test_features, test_labels), verbose=1)\n",
        "end = time.time()\n",
        "print (\"Model took %0.2f seconds to train\"%(end - start))\n",
        "# plot model history\n",
        "plot_model_history(model_info)\n",
        "# compute test accuracy\n",
        "print (\"Accuracy on test data is: %0.2f\"%accuracy(test_features, test_labels, model))"
      ],
      "execution_count": 0,
      "outputs": [
        {
          "output_type": "stream",
          "text": [
            "/usr/local/lib/python3.6/dist-packages/ipykernel_launcher.py:12: UserWarning: The semantics of the Keras 2 argument `steps_per_epoch` is not the same as the Keras 1 argument `samples_per_epoch`. `steps_per_epoch` is the number of batches to draw from the generator at each epoch. Basically steps_per_epoch = samples_per_epoch/batch_size. Similarly `nb_val_samples`->`validation_steps` and `val_samples`->`steps` arguments have changed. Update your method calls accordingly.\n",
            "  if sys.path[0] == '':\n",
            "/usr/local/lib/python3.6/dist-packages/ipykernel_launcher.py:12: UserWarning: Update your `fit_generator` call to the Keras 2 API: `fit_generator(<keras_pre..., validation_data=(array([[[..., verbose=1, steps_per_epoch=390, epochs=100)`\n",
            "  if sys.path[0] == '':\n"
          ],
          "name": "stderr"
        },
        {
          "output_type": "stream",
          "text": [
            "Epoch 1/100\n",
            "390/390 [==============================] - 16s 42ms/step - loss: 1.2549 - acc: 0.5515 - val_loss: 1.1658 - val_acc: 0.5924\n",
            "Epoch 2/100\n",
            "390/390 [==============================] - 14s 37ms/step - loss: 0.7828 - acc: 0.7267 - val_loss: 1.0016 - val_acc: 0.6430\n",
            "Epoch 3/100\n",
            "390/390 [==============================] - 14s 37ms/step - loss: 0.6294 - acc: 0.7799 - val_loss: 0.7724 - val_acc: 0.7310\n",
            "Epoch 4/100\n",
            "390/390 [==============================] - 14s 37ms/step - loss: 0.5251 - acc: 0.8178 - val_loss: 0.9509 - val_acc: 0.6654\n",
            "Epoch 5/100\n",
            "390/390 [==============================] - 14s 37ms/step - loss: 0.4466 - acc: 0.8445 - val_loss: 1.1603 - val_acc: 0.6216\n",
            "Epoch 6/100\n",
            "390/390 [==============================] - 14s 37ms/step - loss: 0.3855 - acc: 0.8656 - val_loss: 0.7013 - val_acc: 0.7529\n",
            "Epoch 7/100\n",
            "390/390 [==============================] - 14s 37ms/step - loss: 0.3285 - acc: 0.8861 - val_loss: 0.7442 - val_acc: 0.7420\n",
            "Epoch 8/100\n",
            "390/390 [==============================] - 14s 37ms/step - loss: 0.2798 - acc: 0.9026 - val_loss: 0.6227 - val_acc: 0.7940\n",
            "Epoch 9/100\n",
            "390/390 [==============================] - 14s 37ms/step - loss: 0.2433 - acc: 0.9156 - val_loss: 1.4248 - val_acc: 0.6110\n",
            "Epoch 10/100\n",
            "390/390 [==============================] - 14s 37ms/step - loss: 0.2082 - acc: 0.9268 - val_loss: 0.7398 - val_acc: 0.7679\n",
            "Epoch 11/100\n",
            "390/390 [==============================] - 14s 36ms/step - loss: 0.1779 - acc: 0.9379 - val_loss: 0.6295 - val_acc: 0.8008\n",
            "Epoch 12/100\n",
            "390/390 [==============================] - 14s 37ms/step - loss: 0.1586 - acc: 0.9437 - val_loss: 0.7302 - val_acc: 0.7867\n",
            "Epoch 13/100\n",
            "390/390 [==============================] - 14s 37ms/step - loss: 0.1376 - acc: 0.9519 - val_loss: 0.8417 - val_acc: 0.7594\n",
            "Epoch 14/100\n",
            "390/390 [==============================] - 14s 37ms/step - loss: 0.1224 - acc: 0.9569 - val_loss: 0.7781 - val_acc: 0.7821\n",
            "Epoch 15/100\n",
            "390/390 [==============================] - 14s 37ms/step - loss: 0.1094 - acc: 0.9613 - val_loss: 1.0052 - val_acc: 0.7395\n",
            "Epoch 16/100\n",
            "390/390 [==============================] - 14s 36ms/step - loss: 0.1016 - acc: 0.9637 - val_loss: 0.7152 - val_acc: 0.8032\n",
            "Epoch 17/100\n",
            "390/390 [==============================] - 14s 37ms/step - loss: 0.0931 - acc: 0.9671 - val_loss: 0.7016 - val_acc: 0.8110\n",
            "Epoch 18/100\n",
            "390/390 [==============================] - 14s 36ms/step - loss: 0.0818 - acc: 0.9715 - val_loss: 0.7740 - val_acc: 0.7976\n",
            "Epoch 19/100\n",
            "390/390 [==============================] - 14s 36ms/step - loss: 0.0792 - acc: 0.9726 - val_loss: 0.9598 - val_acc: 0.7644\n",
            "Epoch 20/100\n",
            "390/390 [==============================] - 14s 37ms/step - loss: 0.0750 - acc: 0.9739 - val_loss: 0.7221 - val_acc: 0.8188\n",
            "Epoch 21/100\n",
            "390/390 [==============================] - 14s 36ms/step - loss: 0.0727 - acc: 0.9751 - val_loss: 0.9262 - val_acc: 0.7753\n",
            "Epoch 22/100\n",
            "390/390 [==============================] - 14s 36ms/step - loss: 0.0686 - acc: 0.9761 - val_loss: 0.7787 - val_acc: 0.8091\n",
            "Epoch 23/100\n",
            "390/390 [==============================] - 14s 36ms/step - loss: 0.0649 - acc: 0.9777 - val_loss: 0.7006 - val_acc: 0.8268\n",
            "Epoch 24/100\n",
            "390/390 [==============================] - 14s 37ms/step - loss: 0.0649 - acc: 0.9774 - val_loss: 0.7725 - val_acc: 0.8137\n",
            "Epoch 25/100\n",
            "390/390 [==============================] - 14s 37ms/step - loss: 0.0551 - acc: 0.9811 - val_loss: 0.7690 - val_acc: 0.8123\n",
            "Epoch 26/100\n",
            "390/390 [==============================] - 14s 36ms/step - loss: 0.0526 - acc: 0.9815 - val_loss: 0.8375 - val_acc: 0.8049\n",
            "Epoch 27/100\n",
            "390/390 [==============================] - 14s 36ms/step - loss: 0.0558 - acc: 0.9803 - val_loss: 0.8826 - val_acc: 0.7932\n",
            "Epoch 28/100\n",
            "390/390 [==============================] - 14s 36ms/step - loss: 0.0590 - acc: 0.9791 - val_loss: 0.8274 - val_acc: 0.8023\n",
            "Epoch 29/100\n",
            "390/390 [==============================] - 14s 37ms/step - loss: 0.0501 - acc: 0.9829 - val_loss: 0.8264 - val_acc: 0.8059\n",
            "Epoch 30/100\n",
            "390/390 [==============================] - 14s 36ms/step - loss: 0.0477 - acc: 0.9835 - val_loss: 1.1201 - val_acc: 0.7676\n",
            "Epoch 31/100\n",
            "390/390 [==============================] - 14s 36ms/step - loss: 0.0516 - acc: 0.9821 - val_loss: 0.8531 - val_acc: 0.8062\n",
            "Epoch 32/100\n",
            "390/390 [==============================] - 14s 36ms/step - loss: 0.0409 - acc: 0.9857 - val_loss: 0.8510 - val_acc: 0.8059\n",
            "Epoch 33/100\n",
            "390/390 [==============================] - 14s 36ms/step - loss: 0.0420 - acc: 0.9854 - val_loss: 0.8001 - val_acc: 0.8190\n",
            "Epoch 34/100\n",
            "390/390 [==============================] - 14s 36ms/step - loss: 0.0448 - acc: 0.9841 - val_loss: 0.9832 - val_acc: 0.7891\n",
            "Epoch 35/100\n",
            "390/390 [==============================] - 14s 36ms/step - loss: 0.0415 - acc: 0.9852 - val_loss: 1.0074 - val_acc: 0.7863\n",
            "Epoch 36/100\n",
            "390/390 [==============================] - 14s 36ms/step - loss: 0.0449 - acc: 0.9847 - val_loss: 0.8607 - val_acc: 0.8093\n",
            "Epoch 37/100\n",
            "390/390 [==============================] - 14s 36ms/step - loss: 0.0439 - acc: 0.9845 - val_loss: 0.7651 - val_acc: 0.8228\n",
            "Epoch 38/100\n",
            "390/390 [==============================] - 14s 36ms/step - loss: 0.0360 - acc: 0.9872 - val_loss: 0.6912 - val_acc: 0.8443\n",
            "Epoch 39/100\n",
            "390/390 [==============================] - 14s 36ms/step - loss: 0.0365 - acc: 0.9870 - val_loss: 0.7406 - val_acc: 0.8360\n",
            "Epoch 40/100\n",
            "390/390 [==============================] - 14s 36ms/step - loss: 0.0349 - acc: 0.9877 - val_loss: 0.8015 - val_acc: 0.8266\n",
            "Epoch 41/100\n",
            "390/390 [==============================] - 14s 36ms/step - loss: 0.0349 - acc: 0.9881 - val_loss: 0.7687 - val_acc: 0.8188\n",
            "Epoch 42/100\n",
            "390/390 [==============================] - 14s 36ms/step - loss: 0.0372 - acc: 0.9873 - val_loss: 0.7202 - val_acc: 0.8393\n",
            "Epoch 43/100\n",
            "390/390 [==============================] - 14s 36ms/step - loss: 0.0354 - acc: 0.9874 - val_loss: 1.0148 - val_acc: 0.7883\n",
            "Epoch 44/100\n",
            "390/390 [==============================] - 14s 36ms/step - loss: 0.0325 - acc: 0.9888 - val_loss: 1.0626 - val_acc: 0.7813\n",
            "Epoch 45/100\n",
            "390/390 [==============================] - 14s 36ms/step - loss: 0.0307 - acc: 0.9893 - val_loss: 0.8354 - val_acc: 0.8166\n",
            "Epoch 46/100\n",
            "390/390 [==============================] - 14s 36ms/step - loss: 0.0396 - acc: 0.9862 - val_loss: 1.0966 - val_acc: 0.7772\n",
            "Epoch 47/100\n",
            "390/390 [==============================] - 14s 36ms/step - loss: 0.0319 - acc: 0.9890 - val_loss: 0.9046 - val_acc: 0.8031\n",
            "Epoch 48/100\n",
            "390/390 [==============================] - 14s 36ms/step - loss: 0.0320 - acc: 0.9886 - val_loss: 0.7790 - val_acc: 0.8284\n",
            "Epoch 49/100\n",
            "390/390 [==============================] - 14s 36ms/step - loss: 0.0256 - acc: 0.9912 - val_loss: 0.8301 - val_acc: 0.8209\n",
            "Epoch 50/100\n",
            "390/390 [==============================] - 14s 36ms/step - loss: 0.0314 - acc: 0.9890 - val_loss: 0.9086 - val_acc: 0.8082\n",
            "Epoch 51/100\n",
            "390/390 [==============================] - 14s 37ms/step - loss: 0.0303 - acc: 0.9899 - val_loss: 0.8429 - val_acc: 0.8203\n",
            "Epoch 52/100\n",
            "390/390 [==============================] - 14s 36ms/step - loss: 0.0318 - acc: 0.9890 - val_loss: 0.8060 - val_acc: 0.8284\n",
            "Epoch 53/100\n",
            "390/390 [==============================] - 14s 36ms/step - loss: 0.0262 - acc: 0.9908 - val_loss: 0.7946 - val_acc: 0.8285\n",
            "Epoch 54/100\n",
            "390/390 [==============================] - 14s 36ms/step - loss: 0.0266 - acc: 0.9910 - val_loss: 0.8364 - val_acc: 0.8227\n",
            "Epoch 55/100\n",
            "390/390 [==============================] - 14s 36ms/step - loss: 0.0233 - acc: 0.9920 - val_loss: 0.9175 - val_acc: 0.8087\n",
            "Epoch 56/100\n",
            "390/390 [==============================] - 14s 36ms/step - loss: 0.0251 - acc: 0.9912 - val_loss: 1.0838 - val_acc: 0.7858\n",
            "Epoch 57/100\n",
            "390/390 [==============================] - 14s 36ms/step - loss: 0.0304 - acc: 0.9897 - val_loss: 0.8143 - val_acc: 0.8246\n",
            "Epoch 58/100\n",
            "390/390 [==============================] - 14s 36ms/step - loss: 0.0286 - acc: 0.9905 - val_loss: 0.8568 - val_acc: 0.8190\n",
            "Epoch 59/100\n",
            "390/390 [==============================] - 14s 36ms/step - loss: 0.0320 - acc: 0.9892 - val_loss: 0.8560 - val_acc: 0.8206\n",
            "Epoch 60/100\n",
            "390/390 [==============================] - 14s 36ms/step - loss: 0.0265 - acc: 0.9911 - val_loss: 0.8539 - val_acc: 0.8237\n",
            "Epoch 61/100\n",
            "390/390 [==============================] - 14s 36ms/step - loss: 0.0204 - acc: 0.9927 - val_loss: 0.8612 - val_acc: 0.8234\n",
            "Epoch 62/100\n",
            "390/390 [==============================] - 14s 36ms/step - loss: 0.0265 - acc: 0.9908 - val_loss: 0.7780 - val_acc: 0.8386\n",
            "Epoch 63/100\n",
            "390/390 [==============================] - 14s 36ms/step - loss: 0.0209 - acc: 0.9926 - val_loss: 0.9363 - val_acc: 0.8165\n",
            "Epoch 64/100\n",
            "390/390 [==============================] - 14s 36ms/step - loss: 0.0241 - acc: 0.9920 - val_loss: 0.8283 - val_acc: 0.8278\n",
            "Epoch 65/100\n",
            "390/390 [==============================] - 14s 36ms/step - loss: 0.0253 - acc: 0.9910 - val_loss: 0.8400 - val_acc: 0.8302\n",
            "Epoch 66/100\n",
            "390/390 [==============================] - 14s 36ms/step - loss: 0.0272 - acc: 0.9906 - val_loss: 0.9155 - val_acc: 0.8152\n",
            "Epoch 67/100\n",
            "390/390 [==============================] - 14s 36ms/step - loss: 0.0242 - acc: 0.9915 - val_loss: 0.8711 - val_acc: 0.8155\n",
            "Epoch 68/100\n",
            "390/390 [==============================] - 14s 36ms/step - loss: 0.0174 - acc: 0.9939 - val_loss: 0.7873 - val_acc: 0.8366\n",
            "Epoch 69/100\n",
            "390/390 [==============================] - 14s 36ms/step - loss: 0.0208 - acc: 0.9928 - val_loss: 1.0190 - val_acc: 0.8019\n",
            "Epoch 70/100\n",
            "390/390 [==============================] - 14s 36ms/step - loss: 0.0242 - acc: 0.9919 - val_loss: 0.8532 - val_acc: 0.8287\n",
            "Epoch 71/100\n",
            "390/390 [==============================] - 14s 36ms/step - loss: 0.0211 - acc: 0.9931 - val_loss: 0.8335 - val_acc: 0.8348\n",
            "Epoch 72/100\n",
            "390/390 [==============================] - 14s 36ms/step - loss: 0.0235 - acc: 0.9917 - val_loss: 0.8057 - val_acc: 0.8328\n",
            "Epoch 73/100\n",
            "390/390 [==============================] - 14s 37ms/step - loss: 0.0220 - acc: 0.9926 - val_loss: 0.8384 - val_acc: 0.8288\n",
            "Epoch 74/100\n",
            "390/390 [==============================] - 14s 36ms/step - loss: 0.0182 - acc: 0.9940 - val_loss: 0.8634 - val_acc: 0.8253\n",
            "Epoch 75/100\n",
            "390/390 [==============================] - 14s 36ms/step - loss: 0.0201 - acc: 0.9931 - val_loss: 1.0762 - val_acc: 0.8014\n",
            "Epoch 76/100\n",
            "390/390 [==============================] - 14s 36ms/step - loss: 0.0235 - acc: 0.9915 - val_loss: 0.8334 - val_acc: 0.8276\n",
            "Epoch 77/100\n",
            "390/390 [==============================] - 14s 36ms/step - loss: 0.0189 - acc: 0.9933 - val_loss: 0.8777 - val_acc: 0.8253\n",
            "Epoch 78/100\n",
            "390/390 [==============================] - 14s 36ms/step - loss: 0.0210 - acc: 0.9931 - val_loss: 0.8443 - val_acc: 0.8212\n",
            "Epoch 79/100\n",
            "390/390 [==============================] - 14s 36ms/step - loss: 0.0203 - acc: 0.9929 - val_loss: 1.3132 - val_acc: 0.7695\n",
            "Epoch 80/100\n",
            "390/390 [==============================] - 14s 36ms/step - loss: 0.0185 - acc: 0.9938 - val_loss: 0.8508 - val_acc: 0.8284\n",
            "Epoch 81/100\n",
            "390/390 [==============================] - 14s 36ms/step - loss: 0.0161 - acc: 0.9943 - val_loss: 0.8188 - val_acc: 0.8387\n",
            "Epoch 82/100\n",
            "390/390 [==============================] - 14s 36ms/step - loss: 0.0166 - acc: 0.9944 - val_loss: 0.8374 - val_acc: 0.8347\n",
            "Epoch 83/100\n",
            "390/390 [==============================] - 14s 36ms/step - loss: 0.0191 - acc: 0.9935 - val_loss: 0.9725 - val_acc: 0.8115\n",
            "Epoch 84/100\n",
            "390/390 [==============================] - 14s 36ms/step - loss: 0.0187 - acc: 0.9936 - val_loss: 0.8390 - val_acc: 0.8357\n",
            "Epoch 85/100\n",
            "390/390 [==============================] - 14s 36ms/step - loss: 0.0178 - acc: 0.9939 - val_loss: 0.9386 - val_acc: 0.8210\n",
            "Epoch 86/100\n",
            "390/390 [==============================] - 14s 37ms/step - loss: 0.0170 - acc: 0.9945 - val_loss: 0.8674 - val_acc: 0.8329\n",
            "Epoch 87/100\n",
            "390/390 [==============================] - 14s 36ms/step - loss: 0.0210 - acc: 0.9925 - val_loss: 0.9688 - val_acc: 0.8159\n",
            "Epoch 88/100\n",
            "390/390 [==============================] - 14s 37ms/step - loss: 0.0198 - acc: 0.9929 - val_loss: 0.8727 - val_acc: 0.8284\n",
            "Epoch 89/100\n",
            "390/390 [==============================] - 14s 37ms/step - loss: 0.0174 - acc: 0.9941 - val_loss: 0.8849 - val_acc: 0.8314\n",
            "Epoch 90/100\n",
            "390/390 [==============================] - 14s 36ms/step - loss: 0.0150 - acc: 0.9948 - val_loss: 0.8541 - val_acc: 0.8279\n",
            "Epoch 91/100\n",
            "390/390 [==============================] - 14s 36ms/step - loss: 0.0161 - acc: 0.9948 - val_loss: 1.0320 - val_acc: 0.8078\n",
            "Epoch 92/100\n",
            "390/390 [==============================] - 14s 36ms/step - loss: 0.0147 - acc: 0.9953 - val_loss: 0.9206 - val_acc: 0.8226\n",
            "Epoch 93/100\n",
            "390/390 [==============================] - 14s 36ms/step - loss: 0.0174 - acc: 0.9941 - val_loss: 0.9287 - val_acc: 0.8222\n",
            "Epoch 94/100\n",
            "390/390 [==============================] - 14s 36ms/step - loss: 0.0196 - acc: 0.9936 - val_loss: 1.0013 - val_acc: 0.8161\n",
            "Epoch 95/100\n",
            "390/390 [==============================] - 14s 37ms/step - loss: 0.0187 - acc: 0.9936 - val_loss: 0.8995 - val_acc: 0.8275\n",
            "Epoch 96/100\n",
            "390/390 [==============================] - 14s 36ms/step - loss: 0.0128 - acc: 0.9954 - val_loss: 0.9699 - val_acc: 0.8189\n",
            "Epoch 97/100\n",
            "390/390 [==============================] - 14s 36ms/step - loss: 0.0127 - acc: 0.9956 - val_loss: 0.8484 - val_acc: 0.8407\n",
            "Epoch 98/100\n",
            "390/390 [==============================] - 14s 36ms/step - loss: 0.0154 - acc: 0.9948 - val_loss: 0.8080 - val_acc: 0.8392\n",
            "Epoch 99/100\n",
            "390/390 [==============================] - 14s 36ms/step - loss: 0.0166 - acc: 0.9944 - val_loss: 1.0166 - val_acc: 0.8115\n",
            "Epoch 100/100\n",
            "390/390 [==============================] - 14s 36ms/step - loss: 0.0172 - acc: 0.9940 - val_loss: 0.8698 - val_acc: 0.8327\n",
            "Model took 1424.91 seconds to train\n"
          ],
          "name": "stdout"
        },
        {
          "output_type": "display_data",
          "data": {
            "image/png": "[encoded data removed]",
            "text/plain": [
              "<Figure size 1080x360 with 2 Axes>"
            ]
          },
          "metadata": {
            "tags": []
          }
        },
        {
          "output_type": "stream",
          "text": [
            "Accuracy on test data is: 83.27\n"
          ],
          "name": "stdout"
        }
      ]
    },
    {
      "cell_type": "code",
      "metadata": {
        "id": "Te7k-5leeinC",
        "colab_type": "code",
        "colab": {}
      },
      "source": [
        ""
      ],
      "execution_count": 0,
      "outputs": []
    }
  ]
}