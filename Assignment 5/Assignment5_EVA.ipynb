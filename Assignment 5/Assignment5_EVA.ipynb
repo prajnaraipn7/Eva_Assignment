{
  "nbformat": 4,
  "nbformat_minor": 0,
  "metadata": {
    "colab": {
      "name": "Assignment5_EVA.ipynb",
      "version": "0.3.2",
      "provenance": [],
      "collapsed_sections": []
    },
    "kernelspec": {
      "name": "python3",
      "display_name": "Python 3"
    },
    "accelerator": "GPU"
  },
  "cells": [
    {
      "cell_type": "markdown",
      "metadata": {
        "id": "MuH5D_Hsp0jU",
        "colab_type": "text"
      },
      "source": [
        "#1.Introduction"
      ]
    },
    {
      "cell_type": "markdown",
      "metadata": {
        "id": "Ju1OdbJ_noHG",
        "colab_type": "text"
      },
      "source": [
        "Firstly, I will prepare the data (handwritten digits images) then i will focus on the image normalization over the train and test data.Also on modeling and evaluation.\n",
        "\n",
        "This Notebook follows three main parts:\n",
        "*   The data preparation\n",
        "*   The CNN modeling and evaluation\n",
        "*   The results prediction \n",
        "\n",
        "Here. I have done the following things:\n",
        "*   Image normalization\n",
        "*   L2 regularization\n",
        "*   built a gallery of 25 misclassified images\n",
        "\n",
        "\n",
        "\n",
        "\n",
        "\n",
        "\n"
      ]
    },
    {
      "cell_type": "code",
      "metadata": {
        "id": "pv-F3beeGB6W",
        "colab_type": "code",
        "outputId": "a228102d-d41d-49bb-86fb-b9b6efcd879f",
        "colab": {
          "base_uri": "https://localhost:8080/",
          "height": 34
        }
      },
      "source": [
        "# https://keras.io/\n",
        "!pip install -q keras\n",
        "import keras"
      ],
      "execution_count": 1,
      "outputs": [
        {
          "output_type": "stream",
          "text": [
            "Using TensorFlow backend.\n"
          ],
          "name": "stderr"
        }
      ]
    },
    {
      "cell_type": "code",
      "metadata": {
        "id": "nnOQ7jmcGFp2",
        "colab_type": "code",
        "colab": {}
      },
      "source": [
        "import numpy as np\n",
        "\n",
        "from keras.models import Sequential\n",
        "from keras.layers import Dense, Dropout, Activation, Flatten, Add\n",
        "from keras.layers import Convolution2D, MaxPooling2D\n",
        "from keras.utils import np_utils\n",
        "\n",
        "from keras.datasets import mnist"
      ],
      "execution_count": 0,
      "outputs": []
    },
    {
      "cell_type": "markdown",
      "metadata": {
        "id": "XHyvRWtMp5ZR",
        "colab_type": "text"
      },
      "source": [
        "#2.Data Preparation"
      ]
    },
    {
      "cell_type": "markdown",
      "metadata": {
        "id": "ZCOc6NKzqL0j",
        "colab_type": "text"
      },
      "source": [
        "##2.1.Load Data"
      ]
    },
    {
      "cell_type": "code",
      "metadata": {
        "id": "WhFyUBi1GJaU",
        "colab_type": "code",
        "colab": {
          "base_uri": "https://localhost:8080/",
          "height": 51
        },
        "outputId": "550c64c7-3fe6-4af1-d114-d7bfe86c5901"
      },
      "source": [
        "# load dataset\n",
        "(trainX, trainy), (testX, testy) = mnist.load_data()"
      ],
      "execution_count": 3,
      "outputs": [
        {
          "output_type": "stream",
          "text": [
            "Downloading data from https://s3.amazonaws.com/img-datasets/mnist.npz\n",
            "11493376/11490434 [==============================] - 0s 0us/step\n"
          ],
          "name": "stdout"
        }
      ]
    },
    {
      "cell_type": "markdown",
      "metadata": {
        "id": "0z3GvYqdqVw3",
        "colab_type": "text"
      },
      "source": [
        "##2.2. Reshape Data"
      ]
    },
    {
      "cell_type": "code",
      "metadata": {
        "id": "AYUCU2m_GQQ5",
        "colab_type": "code",
        "colab": {}
      },
      "source": [
        "# reshape dataset to have a single channel\n",
        "width, height, channels = trainX.shape[1], trainX.shape[2], 1\n",
        "trainX = trainX.reshape((trainX.shape[0], width, height, channels))\n",
        "testX = testX.reshape((testX.shape[0], width, height, channels))"
      ],
      "execution_count": 0,
      "outputs": []
    },
    {
      "cell_type": "code",
      "metadata": {
        "id": "HMksQCYRGY83",
        "colab_type": "code",
        "outputId": "631d7e3b-802c-4e4c-f778-9e40d2d6206e",
        "colab": {
          "base_uri": "https://localhost:8080/",
          "height": 34
        }
      },
      "source": [
        "print(trainX.shape)"
      ],
      "execution_count": 5,
      "outputs": [
        {
          "output_type": "stream",
          "text": [
            "(60000, 28, 28, 1)\n"
          ],
          "name": "stdout"
        }
      ]
    },
    {
      "cell_type": "markdown",
      "metadata": {
        "id": "aWArFXbAqhIc",
        "colab_type": "text"
      },
      "source": [
        "##2.3. Normalization"
      ]
    },
    {
      "cell_type": "markdown",
      "metadata": {
        "id": "BfXxsDjtqlHR",
        "colab_type": "text"
      },
      "source": [
        "Performed a grayscale normalization.Getting the values betweeen 0 to 1."
      ]
    },
    {
      "cell_type": "code",
      "metadata": {
        "id": "AWtaz6UEKND4",
        "colab_type": "code",
        "colab": {}
      },
      "source": [
        "trainX = trainX.astype('float32')\n",
        "testX = testX.astype('float32')\n",
        "trainX /= 255\n",
        "testX /= 255"
      ],
      "execution_count": 0,
      "outputs": []
    },
    {
      "cell_type": "markdown",
      "metadata": {
        "id": "2wgi-fVkq8cm",
        "colab_type": "text"
      },
      "source": [
        "##2.4. Label Encoding"
      ]
    },
    {
      "cell_type": "markdown",
      "metadata": {
        "id": "mj9njplrrGIC",
        "colab_type": "text"
      },
      "source": [
        "Encoding the labels to one hot encoders"
      ]
    },
    {
      "cell_type": "code",
      "metadata": {
        "id": "eD0hgkMqKyTF",
        "colab_type": "code",
        "colab": {}
      },
      "source": [
        "# Convert 1-dimensional class arrays to 10-dimensional class matrices\n",
        "trainy = np_utils.to_categorical(trainy, 10)\n",
        "testy = np_utils.to_categorical(testy, 10)"
      ],
      "execution_count": 0,
      "outputs": []
    },
    {
      "cell_type": "markdown",
      "metadata": {
        "id": "2yXSoSLPrLD2",
        "colab_type": "text"
      },
      "source": [
        "#3.Building the Model"
      ]
    },
    {
      "cell_type": "code",
      "metadata": {
        "id": "NBOPZEmSLzCx",
        "colab_type": "code",
        "outputId": "b33019d6-90f7-40a9-f877-041f840c398a",
        "colab": {
          "base_uri": "https://localhost:8080/",
          "height": 1720
        }
      },
      "source": [
        "from keras.layers import Activation\n",
        "from keras.layers import BatchNormalization\n",
        "\n",
        "model = Sequential()\n",
        "\n",
        " \n",
        "model.add(Convolution2D(10, 3, 3, input_shape=(28,28,1))) # 26\n",
        "model.add(BatchNormalization())\n",
        "model.add(Activation('relu'))\n",
        "model.add(Dropout(0.1))\n",
        "\n",
        "model.add(Convolution2D(10, 3, 3)) # 24\n",
        "model.add(BatchNormalization())\n",
        "model.add(Activation('relu'))\n",
        "model.add(Dropout(0.1))\n",
        "\n",
        "model.add(Convolution2D(16, 3, 3)) # 22\n",
        "model.add(Activation('relu'))\n",
        "#model.add(BatchNormalization())\n",
        "\n",
        "\n",
        "model.add(MaxPooling2D(pool_size=(2, 2))) # 11\n",
        "\n",
        "model.add(Convolution2D(10, 1, 1)) # 11\n",
        "model.add(BatchNormalization())\n",
        "model.add(Activation('relu'))\n",
        "model.add(Dropout(0.1))\n",
        "\n",
        "model.add(Convolution2D(10, 3, 3)) # 9\n",
        "model.add(BatchNormalization())\n",
        "model.add(Activation('relu'))\n",
        "model.add(Dropout(0.1))\n",
        "\n",
        "model.add(Convolution2D(16, 3, 3)) # 7\n",
        "model.add(BatchNormalization())\n",
        "model.add(Activation('relu'))\n",
        "model.add(Dropout(0.1))\n",
        "\n",
        "model.add(Convolution2D(10, 1)) #7\n",
        "model.add(BatchNormalization())\n",
        "model.add(Activation('relu'))\n",
        "model.add(Dropout(0.1))\n",
        "\n",
        "model.add(Convolution2D(10, 3,3))#5\n",
        "model.add(BatchNormalization())\n",
        "model.add(Activation('relu'))\n",
        "model.add(Dropout(0.1))\n",
        "\n",
        "model.add(Convolution2D(10, 1,1))#5\n",
        "model.add(BatchNormalization())\n",
        "model.add(Activation('relu'))\n",
        "model.add(Dropout(0.1))\n",
        "\n",
        "model.add(Convolution2D(10, 5))\n",
        "model.add(Flatten())\n",
        "model.add(Activation('softmax'))\n",
        "\n",
        "model.summary()\n"
      ],
      "execution_count": 8,
      "outputs": [
        {
          "output_type": "stream",
          "text": [
            "WARNING:tensorflow:From /usr/local/lib/python3.6/dist-packages/tensorflow/python/framework/op_def_library.py:263: colocate_with (from tensorflow.python.framework.ops) is deprecated and will be removed in a future version.\n",
            "Instructions for updating:\n",
            "Colocations handled automatically by placer.\n"
          ],
          "name": "stdout"
        },
        {
          "output_type": "stream",
          "text": [
            "/usr/local/lib/python3.6/dist-packages/ipykernel_launcher.py:7: UserWarning: Update your `Conv2D` call to the Keras 2 API: `Conv2D(10, (3, 3), input_shape=(28, 28, 1...)`\n",
            "  import sys\n"
          ],
          "name": "stderr"
        },
        {
          "output_type": "stream",
          "text": [
            "WARNING:tensorflow:From /usr/local/lib/python3.6/dist-packages/keras/backend/tensorflow_backend.py:3445: calling dropout (from tensorflow.python.ops.nn_ops) with keep_prob is deprecated and will be removed in a future version.\n",
            "Instructions for updating:\n",
            "Please use `rate` instead of `keep_prob`. Rate should be set to `rate = 1 - keep_prob`.\n"
          ],
          "name": "stdout"
        },
        {
          "output_type": "stream",
          "text": [
            "/usr/local/lib/python3.6/dist-packages/ipykernel_launcher.py:12: UserWarning: Update your `Conv2D` call to the Keras 2 API: `Conv2D(10, (3, 3))`\n",
            "  if sys.path[0] == '':\n",
            "/usr/local/lib/python3.6/dist-packages/ipykernel_launcher.py:17: UserWarning: Update your `Conv2D` call to the Keras 2 API: `Conv2D(16, (3, 3))`\n",
            "/usr/local/lib/python3.6/dist-packages/ipykernel_launcher.py:24: UserWarning: Update your `Conv2D` call to the Keras 2 API: `Conv2D(10, (1, 1))`\n",
            "/usr/local/lib/python3.6/dist-packages/ipykernel_launcher.py:29: UserWarning: Update your `Conv2D` call to the Keras 2 API: `Conv2D(10, (3, 3))`\n",
            "/usr/local/lib/python3.6/dist-packages/ipykernel_launcher.py:34: UserWarning: Update your `Conv2D` call to the Keras 2 API: `Conv2D(16, (3, 3))`\n",
            "/usr/local/lib/python3.6/dist-packages/ipykernel_launcher.py:44: UserWarning: Update your `Conv2D` call to the Keras 2 API: `Conv2D(10, (3, 3))`\n",
            "/usr/local/lib/python3.6/dist-packages/ipykernel_launcher.py:49: UserWarning: Update your `Conv2D` call to the Keras 2 API: `Conv2D(10, (1, 1))`\n"
          ],
          "name": "stderr"
        },
        {
          "output_type": "stream",
          "text": [
            "_________________________________________________________________\n",
            "Layer (type)                 Output Shape              Param #   \n",
            "=================================================================\n",
            "conv2d_1 (Conv2D)            (None, 26, 26, 10)        100       \n",
            "_________________________________________________________________\n",
            "batch_normalization_1 (Batch (None, 26, 26, 10)        40        \n",
            "_________________________________________________________________\n",
            "activation_1 (Activation)    (None, 26, 26, 10)        0         \n",
            "_________________________________________________________________\n",
            "dropout_1 (Dropout)          (None, 26, 26, 10)        0         \n",
            "_________________________________________________________________\n",
            "conv2d_2 (Conv2D)            (None, 24, 24, 10)        910       \n",
            "_________________________________________________________________\n",
            "batch_normalization_2 (Batch (None, 24, 24, 10)        40        \n",
            "_________________________________________________________________\n",
            "activation_2 (Activation)    (None, 24, 24, 10)        0         \n",
            "_________________________________________________________________\n",
            "dropout_2 (Dropout)          (None, 24, 24, 10)        0         \n",
            "_________________________________________________________________\n",
            "conv2d_3 (Conv2D)            (None, 22, 22, 16)        1456      \n",
            "_________________________________________________________________\n",
            "activation_3 (Activation)    (None, 22, 22, 16)        0         \n",
            "_________________________________________________________________\n",
            "max_pooling2d_1 (MaxPooling2 (None, 11, 11, 16)        0         \n",
            "_________________________________________________________________\n",
            "conv2d_4 (Conv2D)            (None, 11, 11, 10)        170       \n",
            "_________________________________________________________________\n",
            "batch_normalization_3 (Batch (None, 11, 11, 10)        40        \n",
            "_________________________________________________________________\n",
            "activation_4 (Activation)    (None, 11, 11, 10)        0         \n",
            "_________________________________________________________________\n",
            "dropout_3 (Dropout)          (None, 11, 11, 10)        0         \n",
            "_________________________________________________________________\n",
            "conv2d_5 (Conv2D)            (None, 9, 9, 10)          910       \n",
            "_________________________________________________________________\n",
            "batch_normalization_4 (Batch (None, 9, 9, 10)          40        \n",
            "_________________________________________________________________\n",
            "activation_5 (Activation)    (None, 9, 9, 10)          0         \n",
            "_________________________________________________________________\n",
            "dropout_4 (Dropout)          (None, 9, 9, 10)          0         \n",
            "_________________________________________________________________\n",
            "conv2d_6 (Conv2D)            (None, 7, 7, 16)          1456      \n",
            "_________________________________________________________________\n",
            "batch_normalization_5 (Batch (None, 7, 7, 16)          64        \n",
            "_________________________________________________________________\n",
            "activation_6 (Activation)    (None, 7, 7, 16)          0         \n",
            "_________________________________________________________________\n",
            "dropout_5 (Dropout)          (None, 7, 7, 16)          0         \n",
            "_________________________________________________________________\n",
            "conv2d_7 (Conv2D)            (None, 7, 7, 10)          170       \n",
            "_________________________________________________________________\n",
            "batch_normalization_6 (Batch (None, 7, 7, 10)          40        \n",
            "_________________________________________________________________\n",
            "activation_7 (Activation)    (None, 7, 7, 10)          0         \n",
            "_________________________________________________________________\n",
            "dropout_6 (Dropout)          (None, 7, 7, 10)          0         \n",
            "_________________________________________________________________\n",
            "conv2d_8 (Conv2D)            (None, 5, 5, 10)          910       \n",
            "_________________________________________________________________\n",
            "batch_normalization_7 (Batch (None, 5, 5, 10)          40        \n",
            "_________________________________________________________________\n",
            "activation_8 (Activation)    (None, 5, 5, 10)          0         \n",
            "_________________________________________________________________\n",
            "dropout_7 (Dropout)          (None, 5, 5, 10)          0         \n",
            "_________________________________________________________________\n",
            "conv2d_9 (Conv2D)            (None, 5, 5, 10)          110       \n",
            "_________________________________________________________________\n",
            "batch_normalization_8 (Batch (None, 5, 5, 10)          40        \n",
            "_________________________________________________________________\n",
            "activation_9 (Activation)    (None, 5, 5, 10)          0         \n",
            "_________________________________________________________________\n",
            "dropout_8 (Dropout)          (None, 5, 5, 10)          0         \n",
            "_________________________________________________________________\n",
            "conv2d_10 (Conv2D)           (None, 1, 1, 10)          2510      \n",
            "_________________________________________________________________\n",
            "flatten_1 (Flatten)          (None, 10)                0         \n",
            "_________________________________________________________________\n",
            "activation_10 (Activation)   (None, 10)                0         \n",
            "=================================================================\n",
            "Total params: 9,046\n",
            "Trainable params: 8,874\n",
            "Non-trainable params: 172\n",
            "_________________________________________________________________\n"
          ],
          "name": "stdout"
        }
      ]
    },
    {
      "cell_type": "markdown",
      "metadata": {
        "id": "m4TZApLcHG8p",
        "colab_type": "text"
      },
      "source": [
        "###Below, it shows the train mean and standard deviation .Also test mean and standard deviation between the pixels.Distribution summary."
      ]
    },
    {
      "cell_type": "code",
      "metadata": {
        "id": "NZq2TqUBGfCQ",
        "colab_type": "code",
        "outputId": "852d052e-bf10-4c40-b715-c22307608ad3",
        "colab": {
          "base_uri": "https://localhost:8080/",
          "height": 34
        }
      },
      "source": [
        "# report pixel means and standard deviations\n",
        "print('Statistics train=%.3f (%.3f), test=%.3f (%.3f)' % (trainX.mean(), trainX.std(), testX.mean(), testX.std()))"
      ],
      "execution_count": 9,
      "outputs": [
        {
          "output_type": "stream",
          "text": [
            "Statistics train=0.131 (0.308), test=0.133 (0.310)\n"
          ],
          "name": "stdout"
        }
      ]
    },
    {
      "cell_type": "markdown",
      "metadata": {
        "id": "CkLz6oC3Hc5g",
        "colab_type": "text"
      },
      "source": [
        "###Here, we are doing Image Normalization"
      ]
    },
    {
      "cell_type": "code",
      "metadata": {
        "id": "30gEsuc5Gw7k",
        "colab_type": "code",
        "colab": {}
      },
      "source": [
        "from keras.preprocessing.image import ImageDataGenerator\n",
        "# create generator that centers pixel values\n",
        "datagen = ImageDataGenerator(featurewise_center=True, featurewise_std_normalization=True)"
      ],
      "execution_count": 0,
      "outputs": []
    },
    {
      "cell_type": "code",
      "metadata": {
        "id": "p3zfRwiGJFZC",
        "colab_type": "code",
        "colab": {}
      },
      "source": [
        "datagen.fit(trainX)\n",
        "datagen.fit(testX)"
      ],
      "execution_count": 0,
      "outputs": []
    },
    {
      "cell_type": "code",
      "metadata": {
        "id": "V0I_XADMRZpd",
        "colab_type": "code",
        "outputId": "7593b462-7df1-4e50-8964-67d4f4febbc9",
        "colab": {
          "base_uri": "https://localhost:8080/",
          "height": 51
        }
      },
      "source": [
        "# demonstrate effect on a single batch of samples\n",
        "iterator = datagen.flow(trainX, trainy, batch_size=64)\n",
        "# get a batch\n",
        "batchX, batchy = iterator.next()\n",
        "# pixel stats in the batch\n",
        "print(batchX.shape, batchX.mean(), batchX.std())\n",
        "# demonstrate effect on entire training dataset\n",
        "iterator = datagen.flow(trainX, trainy, batch_size=len(trainX), shuffle=False)\n",
        "# get a batch\n",
        "batchX, batchy = iterator.next()\n",
        "# pixel stats in the batch\n",
        "print(batchX.shape, batchX.mean(), batchX.std())"
      ],
      "execution_count": 12,
      "outputs": [
        {
          "output_type": "stream",
          "text": [
            "(64, 28, 28, 1) 0.0030057966 0.9989068\n",
            "(60000, 28, 28, 1) -0.0059719905 0.99235606\n"
          ],
          "name": "stdout"
        }
      ]
    },
    {
      "cell_type": "code",
      "metadata": {
        "id": "C37rrZeERj0e",
        "colab_type": "code",
        "colab": {}
      },
      "source": [
        "#train_generator = datagen.flow(trainX, trainy, batch_size=128, shuffle=False)"
      ],
      "execution_count": 0,
      "outputs": []
    },
    {
      "cell_type": "code",
      "metadata": {
        "id": "l01R5ZvcSrJF",
        "colab_type": "code",
        "colab": {}
      },
      "source": [
        "#validation_generator = datagen.flow(testX, testy, batch_size=128, shuffle=False)"
      ],
      "execution_count": 0,
      "outputs": []
    },
    {
      "cell_type": "markdown",
      "metadata": {
        "id": "liMILIRc68qp",
        "colab_type": "text"
      },
      "source": [
        "<b>Saving the models in a directory in the google drive</b>"
      ]
    },
    {
      "cell_type": "code",
      "metadata": {
        "id": "kKehJ8f0Vbz-",
        "colab_type": "code",
        "outputId": "19c3fd7f-2e05-468a-a26e-b78fa6cea274",
        "colab": {
          "base_uri": "https://localhost:8080/",
          "height": 122
        }
      },
      "source": [
        "# For retrieving the saved best results\n",
        "from google.colab import drive\n",
        "drive.mount('/content/gdrive/')"
      ],
      "execution_count": 15,
      "outputs": [
        {
          "output_type": "stream",
          "text": [
            "Go to this URL in a browser: https://accounts.google.com/o/oauth2/auth?client_id=947318989803-6bn6qk8qdgf4n4g3pfee6491hc0brc4i.apps.googleusercontent.com&redirect_uri=urn%3Aietf%3Awg%3Aoauth%3A2.0%3Aoob&scope=email%20https%3A%2F%2Fwww.googleapis.com%2Fauth%2Fdocs.test%20https%3A%2F%2Fwww.googleapis.com%2Fauth%2Fdrive%20https%3A%2F%2Fwww.googleapis.com%2Fauth%2Fdrive.photos.readonly%20https%3A%2F%2Fwww.googleapis.com%2Fauth%2Fpeopleapi.readonly&response_type=code\n",
            "\n",
            "Enter your authorization code:\n",
            "··········\n",
            "Mounted at /content/gdrive/\n"
          ],
          "name": "stdout"
        }
      ]
    },
    {
      "cell_type": "code",
      "metadata": {
        "id": "MsrxaGyCVoxu",
        "colab_type": "code",
        "outputId": "609b892f-cab9-4dda-c6f7-65c231b52a22",
        "colab": {
          "base_uri": "https://localhost:8080/",
          "height": 34
        }
      },
      "source": [
        "pwd"
      ],
      "execution_count": 16,
      "outputs": [
        {
          "output_type": "execute_result",
          "data": {
            "text/plain": [
              "'/content'"
            ]
          },
          "metadata": {
            "tags": []
          },
          "execution_count": 16
        }
      ]
    },
    {
      "cell_type": "markdown",
      "metadata": {
        "id": "C_Zaudt_7Gr4",
        "colab_type": "text"
      },
      "source": [
        "<b> setting the callbacks/checkpoints</b>"
      ]
    },
    {
      "cell_type": "code",
      "metadata": {
        "id": "ugwT7ebLTSFb",
        "colab_type": "code",
        "colab": {}
      },
      "source": [
        "from keras.callbacks import ModelCheckpoint\n",
        "filepath=\"/content/gdrive/My Drive/eva5/epochs:{epoch:03d}-val_acc:{val_acc:.3f}.hdf5\"\n",
        "checkpoint = ModelCheckpoint(filepath, monitor='val_acc', verbose=1, save_best_only=True, mode='max')\n",
        "callbacks_list = [checkpoint]"
      ],
      "execution_count": 0,
      "outputs": []
    },
    {
      "cell_type": "code",
      "metadata": {
        "id": "HWRIcbLoOkyW",
        "colab_type": "code",
        "colab": {}
      },
      "source": [
        "# for modelLayer in model.layers:\n",
        "#     print(modelLayer.get_weights())"
      ],
      "execution_count": 0,
      "outputs": []
    },
    {
      "cell_type": "markdown",
      "metadata": {
        "id": "K13vJWcI7L1N",
        "colab_type": "text"
      },
      "source": [
        "##3.1.Regualrizing the model with L2 Regularization"
      ]
    },
    {
      "cell_type": "code",
      "metadata": {
        "id": "HeUPt4NeNaDd",
        "colab_type": "code",
        "colab": {}
      },
      "source": [
        "import numpy as np\n",
        "def compute_cost_with_L2_regularization(Y_test,y_pred):\n",
        "  squared_weight = 0\n",
        "  for modelLayer in model.layers:\n",
        "    #print(modelLayer.get_weights())\n",
        "    #print(np.shape(modelLayer.get_weights()))\n",
        "    #print(modelLayer.get_weights())\n",
        "    #print(modelLayer.get_weights()**2)\n",
        "    #squared_weight =  squared_weight + np.sum(np.square(modelLayer.get_weights()))   \n",
        "    squared_weight = squared_weight + np.sum(np.sum(np.sum(np.square(modelLayer.get_weights()))))\n",
        "  print(squared_weight)\n",
        "\n",
        "  lambda_variable = 1e-4\n",
        "  L2_regularization_cost = (lambda_variable * squared_weight)/(2*128)\n",
        "  Loss = keras.losses.categorical_crossentropy(Y_test,y_pred) + L2_regularization_cost\n",
        "  return Loss\n",
        "\n"
      ],
      "execution_count": 0,
      "outputs": []
    },
    {
      "cell_type": "markdown",
      "metadata": {
        "id": "4peZMCn-7Ypv",
        "colab_type": "text"
      },
      "source": [
        "##4. Compiling the Model"
      ]
    },
    {
      "cell_type": "code",
      "metadata": {
        "id": "8_HfTdrYXNce",
        "colab_type": "code",
        "outputId": "93053dc1-115b-489c-faa7-2f5a06fbb7c2",
        "colab": {
          "base_uri": "https://localhost:8080/",
          "height": 34
        }
      },
      "source": [
        "from keras.optimizers import Adam\n",
        "from keras.callbacks import LearningRateScheduler\n",
        "\n",
        "def scheduler(epoch, lr):\n",
        "  return round((0.003) * 1/(1 + 0.319 * epoch), 10)\n",
        "\n",
        "model.compile(loss=compute_cost_with_L2_regularization, optimizer=Adam(lr=0.003), metrics=['accuracy'])"
      ],
      "execution_count": 20,
      "outputs": [
        {
          "output_type": "stream",
          "text": [
            "273.00924134254456\n"
          ],
          "name": "stdout"
        }
      ]
    },
    {
      "cell_type": "code",
      "metadata": {
        "id": "EHWCNO_kSd0A",
        "colab_type": "code",
        "colab": {}
      },
      "source": [
        "# model.fit_generator(\n",
        "#         train_generator,\n",
        "#         steps_per_epoch=200 ,\n",
        "#         epochs=50,\n",
        "#         validation_data=validation_generator,\n",
        "#         callbacks=[checkpoint],\n",
        "#         validation_steps=800)"
      ],
      "execution_count": 0,
      "outputs": []
    },
    {
      "cell_type": "code",
      "metadata": {
        "id": "Hfmu6O03nB2P",
        "colab_type": "code",
        "colab": {}
      },
      "source": [
        "epochs = 40 # Turn epochs to 30 to get 0.9967 accuracy\n",
        "batch_size = 128"
      ],
      "execution_count": 0,
      "outputs": []
    },
    {
      "cell_type": "code",
      "metadata": {
        "id": "6j8Hx1v9RS8j",
        "colab_type": "code",
        "outputId": "7c741e7d-1a39-4700-bd83-1069e479e09a",
        "colab": {
          "base_uri": "https://localhost:8080/",
          "height": 34
        }
      },
      "source": [
        "np.ceil(trainX.shape[0] / batch_size)+1"
      ],
      "execution_count": 23,
      "outputs": [
        {
          "output_type": "execute_result",
          "data": {
            "text/plain": [
              "470.0"
            ]
          },
          "metadata": {
            "tags": []
          },
          "execution_count": 23
        }
      ]
    },
    {
      "cell_type": "code",
      "metadata": {
        "id": "nu7XzGfv_jnY",
        "colab_type": "code",
        "colab": {
          "base_uri": "https://localhost:8080/",
          "height": 34
        },
        "outputId": "d09ef4b4-5a12-46be-b193-0587927ee42f"
      },
      "source": [
        "470*128"
      ],
      "execution_count": 24,
      "outputs": [
        {
          "output_type": "execute_result",
          "data": {
            "text/plain": [
              "60160"
            ]
          },
          "metadata": {
            "tags": []
          },
          "execution_count": 24
        }
      ]
    },
    {
      "cell_type": "markdown",
      "metadata": {
        "id": "vsMRJsvM7daG",
        "colab_type": "text"
      },
      "source": [
        "##5. Fit the Model"
      ]
    },
    {
      "cell_type": "code",
      "metadata": {
        "id": "4uW7C3qNl_qz",
        "colab_type": "code",
        "outputId": "47521ddd-d340-4ea1-9ba1-1b1439f13450",
        "colab": {
          "base_uri": "https://localhost:8080/",
          "height": 2825
        }
      },
      "source": [
        "model.fit_generator(datagen.flow(trainX, trainy, batch_size=batch_size,shuffle=False),\n",
        "                              epochs = epochs, validation_data = datagen.flow(testX, testy, batch_size=batch_size,shuffle=False),\n",
        "                              verbose = 1, steps_per_epoch=np.ceil(trainX.shape[0] / batch_size)\n",
        "                              , callbacks=[checkpoint],validation_steps=np.ceil(testX.shape[0]/batch_size))"
      ],
      "execution_count": 25,
      "outputs": [
        {
          "output_type": "stream",
          "text": [
            "WARNING:tensorflow:From /usr/local/lib/python3.6/dist-packages/tensorflow/python/ops/math_ops.py:3066: to_int32 (from tensorflow.python.ops.math_ops) is deprecated and will be removed in a future version.\n",
            "Instructions for updating:\n",
            "Use tf.cast instead.\n",
            "Epoch 1/40\n",
            "469/469 [==============================] - 13s 27ms/step - loss: 0.3708 - acc: 0.8825 - val_loss: 0.0816 - val_acc: 0.9741\n",
            "\n",
            "Epoch 00001: val_acc improved from -inf to 0.97410, saving model to /content/gdrive/My Drive/eva5/epochs:001-val_acc:0.974.hdf5\n",
            "Epoch 2/40\n",
            "469/469 [==============================] - 8s 17ms/step - loss: 0.1066 - acc: 0.9670 - val_loss: 0.0534 - val_acc: 0.9826\n",
            "\n",
            "Epoch 00002: val_acc improved from 0.97410 to 0.98260, saving model to /content/gdrive/My Drive/eva5/epochs:002-val_acc:0.983.hdf5\n",
            "Epoch 3/40\n",
            "469/469 [==============================] - 8s 17ms/step - loss: 0.0820 - acc: 0.9736 - val_loss: 0.0435 - val_acc: 0.9847\n",
            "\n",
            "Epoch 00003: val_acc improved from 0.98260 to 0.98470, saving model to /content/gdrive/My Drive/eva5/epochs:003-val_acc:0.985.hdf5\n",
            "Epoch 4/40\n",
            "469/469 [==============================] - 8s 17ms/step - loss: 0.0753 - acc: 0.9771 - val_loss: 0.0398 - val_acc: 0.9872\n",
            "\n",
            "Epoch 00004: val_acc improved from 0.98470 to 0.98720, saving model to /content/gdrive/My Drive/eva5/epochs:004-val_acc:0.987.hdf5\n",
            "Epoch 5/40\n",
            "469/469 [==============================] - 8s 17ms/step - loss: 0.0653 - acc: 0.9794 - val_loss: 0.0439 - val_acc: 0.9862\n",
            "\n",
            "Epoch 00005: val_acc did not improve from 0.98720\n",
            "Epoch 6/40\n",
            "469/469 [==============================] - 8s 17ms/step - loss: 0.0631 - acc: 0.9809 - val_loss: 0.0402 - val_acc: 0.9873\n",
            "\n",
            "Epoch 00006: val_acc improved from 0.98720 to 0.98730, saving model to /content/gdrive/My Drive/eva5/epochs:006-val_acc:0.987.hdf5\n",
            "Epoch 7/40\n",
            "469/469 [==============================] - 8s 18ms/step - loss: 0.0601 - acc: 0.9818 - val_loss: 0.0355 - val_acc: 0.9880\n",
            "\n",
            "Epoch 00007: val_acc improved from 0.98730 to 0.98800, saving model to /content/gdrive/My Drive/eva5/epochs:007-val_acc:0.988.hdf5\n",
            "Epoch 8/40\n",
            "469/469 [==============================] - 8s 17ms/step - loss: 0.0569 - acc: 0.9826 - val_loss: 0.0364 - val_acc: 0.9884\n",
            "\n",
            "Epoch 00008: val_acc improved from 0.98800 to 0.98840, saving model to /content/gdrive/My Drive/eva5/epochs:008-val_acc:0.988.hdf5\n",
            "Epoch 9/40\n",
            "469/469 [==============================] - 8s 18ms/step - loss: 0.0563 - acc: 0.9832 - val_loss: 0.0341 - val_acc: 0.9894\n",
            "\n",
            "Epoch 00009: val_acc improved from 0.98840 to 0.98940, saving model to /content/gdrive/My Drive/eva5/epochs:009-val_acc:0.989.hdf5\n",
            "Epoch 10/40\n",
            "469/469 [==============================] - 9s 19ms/step - loss: 0.0534 - acc: 0.9836 - val_loss: 0.0365 - val_acc: 0.9874\n",
            "\n",
            "Epoch 00010: val_acc did not improve from 0.98940\n",
            "Epoch 11/40\n",
            "469/469 [==============================] - 8s 17ms/step - loss: 0.0523 - acc: 0.9838 - val_loss: 0.0320 - val_acc: 0.9894\n",
            "\n",
            "Epoch 00011: val_acc did not improve from 0.98940\n",
            "Epoch 12/40\n",
            "469/469 [==============================] - 8s 17ms/step - loss: 0.0493 - acc: 0.9844 - val_loss: 0.0350 - val_acc: 0.9889\n",
            "\n",
            "Epoch 00012: val_acc did not improve from 0.98940\n",
            "Epoch 13/40\n",
            "469/469 [==============================] - 8s 17ms/step - loss: 0.0474 - acc: 0.9850 - val_loss: 0.0278 - val_acc: 0.9908\n",
            "\n",
            "Epoch 00013: val_acc improved from 0.98940 to 0.99080, saving model to /content/gdrive/My Drive/eva5/epochs:013-val_acc:0.991.hdf5\n",
            "Epoch 14/40\n",
            "469/469 [==============================] - 8s 17ms/step - loss: 0.0487 - acc: 0.9847 - val_loss: 0.0340 - val_acc: 0.9879\n",
            "\n",
            "Epoch 00014: val_acc did not improve from 0.99080\n",
            "Epoch 15/40\n",
            "469/469 [==============================] - 8s 17ms/step - loss: 0.0471 - acc: 0.9855 - val_loss: 0.0300 - val_acc: 0.9905\n",
            "\n",
            "Epoch 00015: val_acc did not improve from 0.99080\n",
            "Epoch 16/40\n",
            "469/469 [==============================] - 8s 17ms/step - loss: 0.0464 - acc: 0.9856 - val_loss: 0.0291 - val_acc: 0.9904\n",
            "\n",
            "Epoch 00016: val_acc did not improve from 0.99080\n",
            "Epoch 17/40\n",
            "469/469 [==============================] - 8s 17ms/step - loss: 0.0454 - acc: 0.9857 - val_loss: 0.0285 - val_acc: 0.9901\n",
            "\n",
            "Epoch 00017: val_acc did not improve from 0.99080\n",
            "Epoch 18/40\n",
            "469/469 [==============================] - 9s 18ms/step - loss: 0.0442 - acc: 0.9859 - val_loss: 0.0295 - val_acc: 0.9895\n",
            "\n",
            "Epoch 00018: val_acc did not improve from 0.99080\n",
            "Epoch 19/40\n",
            "469/469 [==============================] - 8s 18ms/step - loss: 0.0423 - acc: 0.9864 - val_loss: 0.0274 - val_acc: 0.9912\n",
            "\n",
            "Epoch 00019: val_acc improved from 0.99080 to 0.99120, saving model to /content/gdrive/My Drive/eva5/epochs:019-val_acc:0.991.hdf5\n",
            "Epoch 20/40\n",
            "469/469 [==============================] - 9s 18ms/step - loss: 0.0429 - acc: 0.9862 - val_loss: 0.0306 - val_acc: 0.9897\n",
            "\n",
            "Epoch 00020: val_acc did not improve from 0.99120\n",
            "Epoch 21/40\n",
            "469/469 [==============================] - 8s 17ms/step - loss: 0.0415 - acc: 0.9864 - val_loss: 0.0284 - val_acc: 0.9905\n",
            "\n",
            "Epoch 00021: val_acc did not improve from 0.99120\n",
            "Epoch 22/40\n",
            "469/469 [==============================] - 8s 17ms/step - loss: 0.0412 - acc: 0.9872 - val_loss: 0.0295 - val_acc: 0.9907\n",
            "\n",
            "Epoch 00022: val_acc did not improve from 0.99120\n",
            "Epoch 23/40\n",
            "469/469 [==============================] - 8s 17ms/step - loss: 0.0417 - acc: 0.9866 - val_loss: 0.0325 - val_acc: 0.9894\n",
            "\n",
            "Epoch 00023: val_acc did not improve from 0.99120\n",
            "Epoch 24/40\n",
            "469/469 [==============================] - 8s 17ms/step - loss: 0.0410 - acc: 0.9873 - val_loss: 0.0248 - val_acc: 0.9918\n",
            "\n",
            "Epoch 00024: val_acc improved from 0.99120 to 0.99180, saving model to /content/gdrive/My Drive/eva5/epochs:024-val_acc:0.992.hdf5\n",
            "Epoch 25/40\n",
            "469/469 [==============================] - 8s 17ms/step - loss: 0.0402 - acc: 0.9876 - val_loss: 0.0276 - val_acc: 0.9911\n",
            "\n",
            "Epoch 00025: val_acc did not improve from 0.99180\n",
            "Epoch 26/40\n",
            "469/469 [==============================] - 8s 17ms/step - loss: 0.0405 - acc: 0.9872 - val_loss: 0.0264 - val_acc: 0.9917\n",
            "\n",
            "Epoch 00026: val_acc did not improve from 0.99180\n",
            "Epoch 27/40\n",
            "469/469 [==============================] - 8s 17ms/step - loss: 0.0408 - acc: 0.9874 - val_loss: 0.0285 - val_acc: 0.9910\n",
            "\n",
            "Epoch 00027: val_acc did not improve from 0.99180\n",
            "Epoch 28/40\n",
            "469/469 [==============================] - 8s 17ms/step - loss: 0.0393 - acc: 0.9878 - val_loss: 0.0272 - val_acc: 0.9910\n",
            "\n",
            "Epoch 00028: val_acc did not improve from 0.99180\n",
            "Epoch 29/40\n",
            "469/469 [==============================] - 9s 18ms/step - loss: 0.0380 - acc: 0.9876 - val_loss: 0.0243 - val_acc: 0.9917\n",
            "\n",
            "Epoch 00029: val_acc did not improve from 0.99180\n",
            "Epoch 30/40\n",
            "469/469 [==============================] - 9s 18ms/step - loss: 0.0382 - acc: 0.9882 - val_loss: 0.0242 - val_acc: 0.9928\n",
            "\n",
            "Epoch 00030: val_acc improved from 0.99180 to 0.99280, saving model to /content/gdrive/My Drive/eva5/epochs:030-val_acc:0.993.hdf5\n",
            "Epoch 31/40\n",
            "469/469 [==============================] - 8s 17ms/step - loss: 0.0368 - acc: 0.9885 - val_loss: 0.0262 - val_acc: 0.9914\n",
            "\n",
            "Epoch 00031: val_acc did not improve from 0.99280\n",
            "Epoch 32/40\n",
            "469/469 [==============================] - 8s 17ms/step - loss: 0.0374 - acc: 0.9880 - val_loss: 0.0255 - val_acc: 0.9914\n",
            "\n",
            "Epoch 00032: val_acc did not improve from 0.99280\n",
            "Epoch 33/40\n",
            "469/469 [==============================] - 8s 17ms/step - loss: 0.0353 - acc: 0.9887 - val_loss: 0.0296 - val_acc: 0.9904\n",
            "\n",
            "Epoch 00033: val_acc did not improve from 0.99280\n",
            "Epoch 34/40\n",
            "469/469 [==============================] - 8s 17ms/step - loss: 0.0375 - acc: 0.9883 - val_loss: 0.0278 - val_acc: 0.9911\n",
            "\n",
            "Epoch 00034: val_acc did not improve from 0.99280\n",
            "Epoch 35/40\n",
            "469/469 [==============================] - 8s 17ms/step - loss: 0.0368 - acc: 0.9881 - val_loss: 0.0258 - val_acc: 0.9929\n",
            "\n",
            "Epoch 00035: val_acc improved from 0.99280 to 0.99290, saving model to /content/gdrive/My Drive/eva5/epochs:035-val_acc:0.993.hdf5\n",
            "Epoch 36/40\n",
            "469/469 [==============================] - 8s 17ms/step - loss: 0.0366 - acc: 0.9884 - val_loss: 0.0255 - val_acc: 0.9923\n",
            "\n",
            "Epoch 00036: val_acc did not improve from 0.99290\n",
            "Epoch 37/40\n",
            "469/469 [==============================] - 9s 18ms/step - loss: 0.0364 - acc: 0.9881 - val_loss: 0.0290 - val_acc: 0.9920\n",
            "\n",
            "Epoch 00037: val_acc did not improve from 0.99290\n",
            "Epoch 38/40\n",
            "469/469 [==============================] - 9s 19ms/step - loss: 0.0360 - acc: 0.9889 - val_loss: 0.0246 - val_acc: 0.9922\n",
            "\n",
            "Epoch 00038: val_acc did not improve from 0.99290\n",
            "Epoch 39/40\n",
            "469/469 [==============================] - 9s 19ms/step - loss: 0.0349 - acc: 0.9888 - val_loss: 0.0340 - val_acc: 0.9911\n",
            "\n",
            "Epoch 00039: val_acc did not improve from 0.99290\n",
            "Epoch 40/40\n",
            "469/469 [==============================] - 8s 17ms/step - loss: 0.0360 - acc: 0.9881 - val_loss: 0.0214 - val_acc: 0.9925\n",
            "\n",
            "Epoch 00040: val_acc did not improve from 0.99290\n"
          ],
          "name": "stdout"
        },
        {
          "output_type": "execute_result",
          "data": {
            "text/plain": [
              "<keras.callbacks.History at 0x7f1c601fe7b8>"
            ]
          },
          "metadata": {
            "tags": []
          },
          "execution_count": 25
        }
      ]
    },
    {
      "cell_type": "code",
      "metadata": {
        "id": "wPJmbg8rPH95",
        "colab_type": "code",
        "colab": {}
      },
      "source": [
        "model.load_weights('/content/gdrive/My Drive/eva5/epochs:035-val_acc:0.993.hdf5')"
      ],
      "execution_count": 0,
      "outputs": []
    },
    {
      "cell_type": "markdown",
      "metadata": {
        "id": "HEzoqvnu7qUf",
        "colab_type": "text"
      },
      "source": [
        "##6.Evaluate the model"
      ]
    },
    {
      "cell_type": "code",
      "metadata": {
        "id": "XFNIg8Vj9jk5",
        "colab_type": "code",
        "colab": {}
      },
      "source": [
        "validation_data = datagen.flow(testX, testy, batch_size=batch_size,shuffle=False)"
      ],
      "execution_count": 0,
      "outputs": []
    },
    {
      "cell_type": "code",
      "metadata": {
        "id": "hP39tncMPPDj",
        "colab_type": "code",
        "colab": {}
      },
      "source": [
        "Y_pred = model.predict_generator(validation_data, steps=np.ceil(testX.shape[0]/batch_size), verbose=0)\n",
        "y_pred = np.argmax(Y_pred, axis=1) \n"
      ],
      "execution_count": 0,
      "outputs": []
    },
    {
      "cell_type": "markdown",
      "metadata": {
        "id": "MEpiguz97vfL",
        "colab_type": "text"
      },
      "source": [
        "###Built a confusion matrix"
      ]
    },
    {
      "cell_type": "code",
      "metadata": {
        "id": "GT4AbD_wn5td",
        "colab_type": "code",
        "outputId": "39669d42-feb6-4ae9-ca45-d216eb773def",
        "colab": {
          "base_uri": "https://localhost:8080/",
          "height": 311
        }
      },
      "source": [
        "import pandas as pd\n",
        "import numpy as np\n",
        "import matplotlib.pyplot as plt\n",
        "import matplotlib.image as mpimg\n",
        "import seaborn as sns\n",
        "\n",
        "\n",
        "from sklearn.model_selection import train_test_split\n",
        "from sklearn.metrics import confusion_matrix\n",
        "import itertools\n",
        "\n",
        "def plot_confusion_matrix(cm, classes,\n",
        "                          normalize=False,\n",
        "                          title='Confusion matrix',\n",
        "                          cmap=plt.cm.Blues):\n",
        "    \"\"\"\n",
        "    This function prints and plots the confusion matrix.\n",
        "    Normalization can be applied by setting `normalize=True`.\n",
        "    \"\"\"\n",
        "    plt.imshow(cm, interpolation='nearest', cmap=cmap)\n",
        "    plt.title(title)\n",
        "    plt.colorbar()\n",
        "    tick_marks = np.arange(len(classes))\n",
        "    plt.xticks(tick_marks, classes, rotation=45)\n",
        "    plt.yticks(tick_marks, classes)\n",
        "\n",
        "    if normalize:\n",
        "        cm = cm.astype('float') / cm.sum(axis=1)[:, np.newaxis]\n",
        "\n",
        "    thresh = cm.max() / 2.\n",
        "    for i, j in itertools.product(range(cm.shape[0]), range(cm.shape[1])):\n",
        "        plt.text(j, i, cm[i, j],\n",
        "                 horizontalalignment=\"center\",\n",
        "                 color=\"white\" if cm[i, j] > thresh else \"black\")\n",
        "\n",
        "    plt.tight_layout()\n",
        "    plt.ylabel('True label')\n",
        "    plt.xlabel('Predicted label')\n",
        "\n",
        "# Predict the values from the validation dataset\n",
        "#Y_pred = model.predict(testX)\n",
        "# Convert predictions classes to one hot vectors \n",
        "Y_pred_classes = np.argmax(Y_pred,axis = 1) \n",
        "# Convert validation observations to one hot vectors\n",
        "Y_true = np.argmax(testy,axis = 1) \n",
        "# compute the confusion matrix\n",
        "confusion_mtx = confusion_matrix(Y_true, Y_pred_classes) \n",
        "# plot the confusion matrix\n",
        "plot_confusion_matrix(confusion_mtx, classes = range(10)) \n"
      ],
      "execution_count": 35,
      "outputs": [
        {
          "output_type": "display_data",
          "data": {
            "image/png": "[encoded data removed]",
            "text/plain": [
              "<Figure size 432x288 with 2 Axes>"
            ]
          },
          "metadata": {
            "tags": []
          }
        }
      ]
    },
    {
      "cell_type": "code",
      "metadata": {
        "id": "updujbZzyBbk",
        "colab_type": "code",
        "outputId": "edd31c4b-08a7-44bd-99a7-b253fda903f1",
        "colab": {
          "base_uri": "https://localhost:8080/",
          "height": 187
        }
      },
      "source": [
        "#y_hat = model.predict(testX)\n",
        "y_pred = np.argmax(Y_pred, axis=1)\n",
        "y_true = np.argmax(testy, axis=1)\n",
        "cm = confusion_matrix(y_true, y_pred)\n",
        "print(cm)"
      ],
      "execution_count": 36,
      "outputs": [
        {
          "output_type": "stream",
          "text": [
            "[[ 978    0    0    0    0    0    0    2    0    0]\n",
            " [   0 1134    0    1    0    0    0    0    0    0]\n",
            " [   1    2 1024    1    0    0    0    4    0    0]\n",
            " [   0    1    0 1006    0    3    0    0    0    0]\n",
            " [   0    0    0    0  969    0    2    0    1   10]\n",
            " [   0    0    0    5    0  883    4    0    0    0]\n",
            " [   2    5    0    0    0    1  949    0    1    0]\n",
            " [   0    5    2    0    0    0    0 1020    0    1]\n",
            " [   1    1    1    0    0    1    0    1  968    1]\n",
            " [   2    0    0    0    2    2    0    3    2  998]]\n"
          ],
          "name": "stdout"
        }
      ]
    },
    {
      "cell_type": "code",
      "metadata": {
        "id": "qQrMDcoILE3p",
        "colab_type": "code",
        "outputId": "271aca51-c868-4183-843c-c427d46ccb82",
        "colab": {
          "base_uri": "https://localhost:8080/",
          "height": 34
        }
      },
      "source": [
        "\n",
        "d = {'pred': np.argmax(Y_pred,axis=1), 'true': np.argmax(testy,axis=1)} #axis=1!important!\n",
        "df = pd.DataFrame(data=d)\n",
        "\n",
        "#looking at wrong predicted values(For 1! you can change it.)\n",
        "#array1 = np.array(df[(df.pred != df.true) & (df.true==1)].index)\n",
        "#print(array1)\n",
        "\n",
        "# shows total mistakes\n",
        "df2 = df[(df.pred != df.true)]\n",
        "df2\n",
        "\n",
        "df2.shape"
      ],
      "execution_count": 37,
      "outputs": [
        {
          "output_type": "execute_result",
          "data": {
            "text/plain": [
              "(71, 2)"
            ]
          },
          "metadata": {
            "tags": []
          },
          "execution_count": 37
        }
      ]
    },
    {
      "cell_type": "code",
      "metadata": {
        "id": "ghzdrV5zQcAq",
        "colab_type": "code",
        "outputId": "68b9b6eb-77a3-42f2-b2ed-97a239dad63a",
        "colab": {
          "base_uri": "https://localhost:8080/",
          "height": 265
        }
      },
      "source": [
        "\n",
        "plt.imshow(testX[8].reshape(28,28),cmap=\"gray\")\n",
        "plt.axis(\"off\")\n",
        "plt.show()"
      ],
      "execution_count": 38,
      "outputs": [
        {
          "output_type": "display_data",
          "data": {
            "image/png": "[encoded data removed]",
            "text/plain": [
              "<Figure size 432x288 with 1 Axes>"
            ]
          },
          "metadata": {
            "tags": []
          }
        }
      ]
    },
    {
      "cell_type": "markdown",
      "metadata": {
        "id": "TaBtdFqX74sJ",
        "colab_type": "text"
      },
      "source": [
        "##7.Creating the image gallery for 25 misclassified images"
      ]
    },
    {
      "cell_type": "code",
      "metadata": {
        "id": "woO2qqtOLIVQ",
        "colab_type": "code",
        "outputId": "908d7991-6689-41a1-ee17-139fe7978fae",
        "colab": {
          "base_uri": "https://localhost:8080/",
          "height": 934
        }
      },
      "source": [
        "\n",
        "plt.figure(figsize = (16,16))\n",
        "\n",
        "for i in range(25):\n",
        "    plt.subplot(5, 5,i+1)\n",
        "    img = testX[df2.index[i]]\n",
        "    img = img.reshape((28,28))\n",
        "    plt.imshow(img, cmap='gray')\n",
        "    plt.title(\"True Class: \" + str(df2[\"true\"].iloc[i])+\"    Pred Class: \" + str(df2[\"pred\"].iloc[i]))\n",
        "    plt.axis('off')\n",
        "    \n",
        "plt.show()"
      ],
      "execution_count": 39,
      "outputs": [
        {
          "output_type": "display_data",
          "data": {
            "image/png": "[encoded data removed]",
            "text/plain": [
              "<Figure size 1152x1152 with 25 Axes>"
            ]
          },
          "metadata": {
            "tags": []
          }
        }
      ]
    },
    {
      "cell_type": "code",
      "metadata": {
        "id": "lW2vCwflicoC",
        "colab_type": "code",
        "colab": {}
      },
      "source": [
        "# Display some error results \n",
        "\n",
        "# Errors are difference between predicted labels and true labels\n",
        "errors = (Y_pred_classes - Y_true != 0)\n",
        "\n",
        "Y_pred_classes_errors = Y_pred_classes[errors]\n",
        "Y_pred_errors = Y_pred[errors]\n",
        "Y_true_errors = Y_true[errors]\n",
        "X_val_errors =testX[errors]\n",
        "\n",
        "def display_errors(errors_index,img_errors,pred_errors, obs_errors):\n",
        "    \"\"\" This function shows 6 images with their predicted and real labels\"\"\"\n",
        "    n = 0\n",
        "    nrows = 5\n",
        "    ncols = 5\n",
        "    plt.figure(figsize = (25,25))\n",
        "    #fig, ax = plt.subplots(2,3)\n",
        "    for row in range(nrows):\n",
        "        for col in range(ncols):\n",
        "            plt.subplot(5,5,n+1)\n",
        "            error = errors_index[n]\n",
        "            plt.imshow((img_errors[error]).reshape((28,28)))\n",
        "            plt.title(\"Predicted label :{}\\nTrue label :{}\".format(pred_errors[error],obs_errors[error]))\n",
        "            n += 1\n",
        "\n",
        "# Probabilities of the wrong predicted numbers\n",
        "Y_pred_errors_prob = np.max(Y_pred_errors,axis = 1)\n",
        "\n",
        "\n",
        "# Predicted probabilities of the true values in the error set\n",
        "true_prob_errors = np.diagonal(np.take(Y_pred_errors, Y_true_errors, axis=1))\n",
        "\n",
        "# Difference between the probability of the predicted label and the true label\n",
        "delta_pred_true_errors = Y_pred_errors_prob - true_prob_errors\n",
        "\n",
        "# Sorted list of the delta prob errors\n",
        "sorted_dela_errors = np.argsort(delta_pred_true_errors)\n",
        "\n",
        "# Top 25 errors \n",
        "most_important_errors = sorted_dela_errors[-25:]"
      ],
      "execution_count": 0,
      "outputs": []
    },
    {
      "cell_type": "code",
      "metadata": {
        "id": "_6sYp_2Hi3ZN",
        "colab_type": "code",
        "outputId": "dce5c96b-bf29-4561-d011-1a4281a61b8c",
        "colab": {
          "base_uri": "https://localhost:8080/",
          "height": 1458
        }
      },
      "source": [
        "# Show the top 25 errors\n",
        "display_errors(most_important_errors, X_val_errors, Y_pred_classes_errors, Y_true_errors)"
      ],
      "execution_count": 41,
      "outputs": [
        {
          "output_type": "display_data",
          "data": {
            "image/png": "[encoded data removed]",
            "text/plain": [
              "<Figure size 1800x1800 with 25 Axes>"
            ]
          },
          "metadata": {
            "tags": []
          }
        }
      ]
    }
  ]
}