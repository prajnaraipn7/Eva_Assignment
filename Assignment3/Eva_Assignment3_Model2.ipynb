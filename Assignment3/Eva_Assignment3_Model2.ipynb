{
  "nbformat": 4,
  "nbformat_minor": 0,
  "metadata": {
    "colab": {
      "name": "Eva_Assignment3_Model2.ipynb",
      "version": "0.3.2",
      "provenance": [],
      "collapsed_sections": []
    },
    "kernelspec": {
      "name": "python3",
      "display_name": "Python 3"
    },
    "accelerator": "GPU"
  },
  "cells": [
    {
      "cell_type": "markdown",
      "metadata": {
        "id": "aNyZv-Ec52ot",
        "colab_type": "text"
      },
      "source": [
        "# **Import Libraries and modules**"
      ]
    },
    {
      "cell_type": "code",
      "metadata": {
        "id": "3m3w1Cw49Zkt",
        "colab_type": "code",
        "outputId": "c95a1750-910d-431a-b4df-bb28e469bd4a",
        "colab": {
          "base_uri": "https://localhost:8080/",
          "height": 34
        }
      },
      "source": [
        "# https://keras.io/\n",
        "!pip install -q keras\n",
        "import keras"
      ],
      "execution_count": 1,
      "outputs": [
        {
          "output_type": "stream",
          "text": [
            "Using TensorFlow backend.\n"
          ],
          "name": "stderr"
        }
      ]
    },
    {
      "cell_type": "code",
      "metadata": {
        "id": "Eso6UHE080D4",
        "colab_type": "code",
        "colab": {}
      },
      "source": [
        "import numpy as np\n",
        "\n",
        "from keras.models import Sequential\n",
        "from keras.layers import Dense, Dropout, Activation, Flatten, Add\n",
        "from keras.layers import Convolution2D, MaxPooling2D\n",
        "from keras.utils import np_utils\n",
        "\n",
        "from keras.datasets import mnist"
      ],
      "execution_count": 0,
      "outputs": []
    },
    {
      "cell_type": "markdown",
      "metadata": {
        "id": "zByEi95J86RD",
        "colab_type": "text"
      },
      "source": [
        "### Load pre-shuffled MNIST data into train and test sets"
      ]
    },
    {
      "cell_type": "code",
      "metadata": {
        "id": "7eRM0QWN83PV",
        "colab_type": "code",
        "colab": {
          "base_uri": "https://localhost:8080/",
          "height": 51
        },
        "outputId": "a0cb6f75-6b22-4c50-f5de-6399184d6be9"
      },
      "source": [
        "(X_train, y_train), (X_test, y_test) = mnist.load_data()"
      ],
      "execution_count": 3,
      "outputs": [
        {
          "output_type": "stream",
          "text": [
            "Downloading data from https://s3.amazonaws.com/img-datasets/mnist.npz\n",
            "11493376/11490434 [==============================] - 1s 0us/step\n"
          ],
          "name": "stdout"
        }
      ]
    },
    {
      "cell_type": "code",
      "metadata": {
        "id": "4a4Be72j8-ZC",
        "colab_type": "code",
        "outputId": "50667265-dfe6-473f-8b66-dc93305ffdc9",
        "colab": {
          "base_uri": "https://localhost:8080/",
          "height": 303
        }
      },
      "source": [
        "print (X_train.shape)\n",
        "from matplotlib import pyplot as plt\n",
        "%matplotlib inline\n",
        "plt.imshow(X_train[0])"
      ],
      "execution_count": 4,
      "outputs": [
        {
          "output_type": "stream",
          "text": [
            "(60000, 28, 28)\n"
          ],
          "name": "stdout"
        },
        {
          "output_type": "execute_result",
          "data": {
            "text/plain": [
              "<matplotlib.image.AxesImage at 0x7ffac2fc8d68>"
            ]
          },
          "metadata": {
            "tags": []
          },
          "execution_count": 4
        },
        {
          "output_type": "display_data",
          "data": {
            "image/png": "[encoded data removed]",
            "text/plain": [
              "<Figure size 432x288 with 1 Axes>"
            ]
          },
          "metadata": {
            "tags": []
          }
        }
      ]
    },
    {
      "cell_type": "code",
      "metadata": {
        "id": "dkmprriw9AnZ",
        "colab_type": "code",
        "colab": {}
      },
      "source": [
        "X_train = X_train.reshape(X_train.shape[0], 28, 28,1)\n",
        "X_test = X_test.reshape(X_test.shape[0], 28, 28,1)"
      ],
      "execution_count": 0,
      "outputs": []
    },
    {
      "cell_type": "code",
      "metadata": {
        "id": "X2m4YS4E9CRh",
        "colab_type": "code",
        "colab": {}
      },
      "source": [
        "X_train = X_train.astype('float32')\n",
        "X_test = X_test.astype('float32')\n",
        "X_train /= 255\n",
        "X_test /= 255"
      ],
      "execution_count": 0,
      "outputs": []
    },
    {
      "cell_type": "code",
      "metadata": {
        "id": "0Mn0vAYD9DvB",
        "colab_type": "code",
        "outputId": "3a09858c-8f71-4fe2-f409-2408acf32bc9",
        "colab": {
          "base_uri": "https://localhost:8080/",
          "height": 34
        }
      },
      "source": [
        "y_train[:10]"
      ],
      "execution_count": 7,
      "outputs": [
        {
          "output_type": "execute_result",
          "data": {
            "text/plain": [
              "array([5, 0, 4, 1, 9, 2, 1, 3, 1, 4], dtype=uint8)"
            ]
          },
          "metadata": {
            "tags": []
          },
          "execution_count": 7
        }
      ]
    },
    {
      "cell_type": "code",
      "metadata": {
        "id": "ZG8JiXR39FHC",
        "colab_type": "code",
        "colab": {}
      },
      "source": [
        "# Convert 1-dimensional class arrays to 10-dimensional class matrices\n",
        "Y_train = np_utils.to_categorical(y_train, 10)\n",
        "Y_test = np_utils.to_categorical(y_test, 10)"
      ],
      "execution_count": 0,
      "outputs": []
    },
    {
      "cell_type": "code",
      "metadata": {
        "id": "fYlFRvKS9HMB",
        "colab_type": "code",
        "outputId": "0ba3f395-3099-4ea1-8372-91fbbebc8ff7",
        "colab": {
          "base_uri": "https://localhost:8080/",
          "height": 187
        }
      },
      "source": [
        "Y_train[:10]\n"
      ],
      "execution_count": 9,
      "outputs": [
        {
          "output_type": "execute_result",
          "data": {
            "text/plain": [
              "array([[0., 0., 0., 0., 0., 1., 0., 0., 0., 0.],\n",
              "       [1., 0., 0., 0., 0., 0., 0., 0., 0., 0.],\n",
              "       [0., 0., 0., 0., 1., 0., 0., 0., 0., 0.],\n",
              "       [0., 1., 0., 0., 0., 0., 0., 0., 0., 0.],\n",
              "       [0., 0., 0., 0., 0., 0., 0., 0., 0., 1.],\n",
              "       [0., 0., 1., 0., 0., 0., 0., 0., 0., 0.],\n",
              "       [0., 1., 0., 0., 0., 0., 0., 0., 0., 0.],\n",
              "       [0., 0., 0., 1., 0., 0., 0., 0., 0., 0.],\n",
              "       [0., 1., 0., 0., 0., 0., 0., 0., 0., 0.],\n",
              "       [0., 0., 0., 0., 1., 0., 0., 0., 0., 0.]], dtype=float32)"
            ]
          },
          "metadata": {
            "tags": []
          },
          "execution_count": 9
        }
      ]
    },
    {
      "cell_type": "code",
      "metadata": {
        "id": "osKqT73Q9JJB",
        "colab_type": "code",
        "outputId": "36c99ee7-41ab-47f9-bd03-37477a930940",
        "colab": {
          "base_uri": "https://localhost:8080/",
          "height": 343
        }
      },
      "source": [
        "from keras.layers import Activation\n",
        "from keras.layers.normalization import BatchNormalization\n",
        "model = Sequential()\n",
        "\n",
        "\n",
        "model.add(Convolution2D(32, 3, 3, activation='relu', input_shape=(28,28,1)))\n",
        "model.add(BatchNormalization())\n",
        "model.add(Dropout(0.2))\n",
        "model.add(Convolution2D(10, 3, 3, activation='relu'))\n",
        "model.add(BatchNormalization())\n",
        "model.add(Dropout(0.2))\n",
        "model.add(Convolution2D(32, 3, 3, activation='relu'))\n",
        "model.add(BatchNormalization())\n",
        "model.add(Dropout(0.2))\n",
        "model.add(MaxPooling2D(pool_size=(2, 2)))\n",
        "model.add(Convolution2D(10, 3, 3, activation='relu'))\n",
        "model.add(BatchNormalization())\n",
        "model.add(Dropout(0.2))\n",
        "model.add(Convolution2D(10, 3, 3, activation='relu'))\n",
        "model.add(BatchNormalization())\n",
        "model.add(Dropout(0.2))\n",
        "model.add(Convolution2D(10, 3, 3, activation='relu'))\n",
        "model.add(BatchNormalization())\n",
        "model.add(Dropout(0.2))\n",
        "model.add(Convolution2D(10, 3,3, activation='relu'))\n",
        "model.add(Convolution2D(10, 3, 3))\n",
        "#model.add(Convolution2D(10, 1, 1))\n",
        "model.add(Flatten())\n",
        "model.add(Activation('softmax'))"
      ],
      "execution_count": 10,
      "outputs": [
        {
          "output_type": "stream",
          "text": [
            "WARNING:tensorflow:From /usr/local/lib/python3.6/dist-packages/tensorflow/python/framework/op_def_library.py:263: colocate_with (from tensorflow.python.framework.ops) is deprecated and will be removed in a future version.\n",
            "Instructions for updating:\n",
            "Colocations handled automatically by placer.\n"
          ],
          "name": "stdout"
        },
        {
          "output_type": "stream",
          "text": [
            "/usr/local/lib/python3.6/dist-packages/ipykernel_launcher.py:6: UserWarning: Update your `Conv2D` call to the Keras 2 API: `Conv2D(32, (3, 3), activation=\"relu\", input_shape=(28, 28, 1...)`\n",
            "  \n"
          ],
          "name": "stderr"
        },
        {
          "output_type": "stream",
          "text": [
            "WARNING:tensorflow:From /usr/local/lib/python3.6/dist-packages/keras/backend/tensorflow_backend.py:3445: calling dropout (from tensorflow.python.ops.nn_ops) with keep_prob is deprecated and will be removed in a future version.\n",
            "Instructions for updating:\n",
            "Please use `rate` instead of `keep_prob`. Rate should be set to `rate = 1 - keep_prob`.\n"
          ],
          "name": "stdout"
        },
        {
          "output_type": "stream",
          "text": [
            "/usr/local/lib/python3.6/dist-packages/ipykernel_launcher.py:9: UserWarning: Update your `Conv2D` call to the Keras 2 API: `Conv2D(10, (3, 3), activation=\"relu\")`\n",
            "  if __name__ == '__main__':\n",
            "/usr/local/lib/python3.6/dist-packages/ipykernel_launcher.py:12: UserWarning: Update your `Conv2D` call to the Keras 2 API: `Conv2D(32, (3, 3), activation=\"relu\")`\n",
            "  if sys.path[0] == '':\n",
            "/usr/local/lib/python3.6/dist-packages/ipykernel_launcher.py:16: UserWarning: Update your `Conv2D` call to the Keras 2 API: `Conv2D(10, (3, 3), activation=\"relu\")`\n",
            "  app.launch_new_instance()\n",
            "/usr/local/lib/python3.6/dist-packages/ipykernel_launcher.py:19: UserWarning: Update your `Conv2D` call to the Keras 2 API: `Conv2D(10, (3, 3), activation=\"relu\")`\n",
            "/usr/local/lib/python3.6/dist-packages/ipykernel_launcher.py:22: UserWarning: Update your `Conv2D` call to the Keras 2 API: `Conv2D(10, (3, 3), activation=\"relu\")`\n",
            "/usr/local/lib/python3.6/dist-packages/ipykernel_launcher.py:25: UserWarning: Update your `Conv2D` call to the Keras 2 API: `Conv2D(10, (3, 3), activation=\"relu\")`\n",
            "/usr/local/lib/python3.6/dist-packages/ipykernel_launcher.py:26: UserWarning: Update your `Conv2D` call to the Keras 2 API: `Conv2D(10, (3, 3))`\n"
          ],
          "name": "stderr"
        }
      ]
    },
    {
      "cell_type": "code",
      "metadata": {
        "id": "TzdAYg1k9K7Z",
        "colab_type": "code",
        "outputId": "629583a1-07be-428d-d763-e0c53dbfda14",
        "colab": {
          "base_uri": "https://localhost:8080/",
          "height": 918
        }
      },
      "source": [
        "model.summary()"
      ],
      "execution_count": 11,
      "outputs": [
        {
          "output_type": "stream",
          "text": [
            "_________________________________________________________________\n",
            "Layer (type)                 Output Shape              Param #   \n",
            "=================================================================\n",
            "conv2d_1 (Conv2D)            (None, 26, 26, 32)        320       \n",
            "_________________________________________________________________\n",
            "batch_normalization_1 (Batch (None, 26, 26, 32)        128       \n",
            "_________________________________________________________________\n",
            "dropout_1 (Dropout)          (None, 26, 26, 32)        0         \n",
            "_________________________________________________________________\n",
            "conv2d_2 (Conv2D)            (None, 24, 24, 10)        2890      \n",
            "_________________________________________________________________\n",
            "batch_normalization_2 (Batch (None, 24, 24, 10)        40        \n",
            "_________________________________________________________________\n",
            "dropout_2 (Dropout)          (None, 24, 24, 10)        0         \n",
            "_________________________________________________________________\n",
            "conv2d_3 (Conv2D)            (None, 22, 22, 32)        2912      \n",
            "_________________________________________________________________\n",
            "batch_normalization_3 (Batch (None, 22, 22, 32)        128       \n",
            "_________________________________________________________________\n",
            "dropout_3 (Dropout)          (None, 22, 22, 32)        0         \n",
            "_________________________________________________________________\n",
            "max_pooling2d_1 (MaxPooling2 (None, 11, 11, 32)        0         \n",
            "_________________________________________________________________\n",
            "conv2d_4 (Conv2D)            (None, 9, 9, 10)          2890      \n",
            "_________________________________________________________________\n",
            "batch_normalization_4 (Batch (None, 9, 9, 10)          40        \n",
            "_________________________________________________________________\n",
            "dropout_4 (Dropout)          (None, 9, 9, 10)          0         \n",
            "_________________________________________________________________\n",
            "conv2d_5 (Conv2D)            (None, 7, 7, 10)          910       \n",
            "_________________________________________________________________\n",
            "batch_normalization_5 (Batch (None, 7, 7, 10)          40        \n",
            "_________________________________________________________________\n",
            "dropout_5 (Dropout)          (None, 7, 7, 10)          0         \n",
            "_________________________________________________________________\n",
            "conv2d_6 (Conv2D)            (None, 5, 5, 10)          910       \n",
            "_________________________________________________________________\n",
            "batch_normalization_6 (Batch (None, 5, 5, 10)          40        \n",
            "_________________________________________________________________\n",
            "dropout_6 (Dropout)          (None, 5, 5, 10)          0         \n",
            "_________________________________________________________________\n",
            "conv2d_7 (Conv2D)            (None, 3, 3, 10)          910       \n",
            "_________________________________________________________________\n",
            "conv2d_8 (Conv2D)            (None, 1, 1, 10)          910       \n",
            "_________________________________________________________________\n",
            "flatten_1 (Flatten)          (None, 10)                0         \n",
            "_________________________________________________________________\n",
            "activation_1 (Activation)    (None, 10)                0         \n",
            "=================================================================\n",
            "Total params: 13,068\n",
            "Trainable params: 12,860\n",
            "Non-trainable params: 208\n",
            "_________________________________________________________________\n"
          ],
          "name": "stdout"
        }
      ]
    },
    {
      "cell_type": "code",
      "metadata": {
        "id": "Zp6SuGrL9M3h",
        "colab_type": "code",
        "colab": {}
      },
      "source": [
        "model.compile(loss='categorical_crossentropy',\n",
        "             optimizer='adam',\n",
        "             metrics=['accuracy'])"
      ],
      "execution_count": 0,
      "outputs": []
    },
    {
      "cell_type": "code",
      "metadata": {
        "id": "4xWoKhPY9Of5",
        "colab_type": "code",
        "outputId": "0788fe70-7214-4646-e1ff-2534562232d1",
        "colab": {
          "base_uri": "https://localhost:8080/",
          "height": 1499
        }
      },
      "source": [
        "model.fit(X_train, Y_train, batch_size=32, nb_epoch=40, verbose=1)"
      ],
      "execution_count": 13,
      "outputs": [
        {
          "output_type": "stream",
          "text": [
            "WARNING:tensorflow:From /usr/local/lib/python3.6/dist-packages/tensorflow/python/ops/math_ops.py:3066: to_int32 (from tensorflow.python.ops.math_ops) is deprecated and will be removed in a future version.\n",
            "Instructions for updating:\n",
            "Use tf.cast instead.\n"
          ],
          "name": "stdout"
        },
        {
          "output_type": "stream",
          "text": [
            "/usr/local/lib/python3.6/dist-packages/ipykernel_launcher.py:1: UserWarning: The `nb_epoch` argument in `fit` has been renamed `epochs`.\n",
            "  \"\"\"Entry point for launching an IPython kernel.\n"
          ],
          "name": "stderr"
        },
        {
          "output_type": "stream",
          "text": [
            "Epoch 1/40\n",
            "60000/60000 [==============================] - 66s 1ms/step - loss: 0.3451 - acc: 0.8889\n",
            "Epoch 2/40\n",
            "60000/60000 [==============================] - 62s 1ms/step - loss: 0.1077 - acc: 0.9659\n",
            "Epoch 3/40\n",
            "60000/60000 [==============================] - 62s 1ms/step - loss: 0.0867 - acc: 0.9735\n",
            "Epoch 4/40\n",
            "60000/60000 [==============================] - 62s 1ms/step - loss: 0.0739 - acc: 0.9771\n",
            "Epoch 5/40\n",
            "60000/60000 [==============================] - 62s 1ms/step - loss: 0.0692 - acc: 0.9788\n",
            "Epoch 6/40\n",
            "60000/60000 [==============================] - 62s 1ms/step - loss: 0.0623 - acc: 0.9804\n",
            "Epoch 7/40\n",
            "60000/60000 [==============================] - 62s 1ms/step - loss: 0.0587 - acc: 0.9817\n",
            "Epoch 8/40\n",
            "60000/60000 [==============================] - 62s 1ms/step - loss: 0.0550 - acc: 0.9829\n",
            "Epoch 9/40\n",
            "60000/60000 [==============================] - 62s 1ms/step - loss: 0.0537 - acc: 0.9832\n",
            "Epoch 10/40\n",
            "60000/60000 [==============================] - 62s 1ms/step - loss: 0.0492 - acc: 0.9853\n",
            "Epoch 11/40\n",
            "60000/60000 [==============================] - 62s 1ms/step - loss: 0.0497 - acc: 0.9845\n",
            "Epoch 12/40\n",
            "60000/60000 [==============================] - 62s 1ms/step - loss: 0.0458 - acc: 0.9858\n",
            "Epoch 13/40\n",
            "60000/60000 [==============================] - 62s 1ms/step - loss: 0.0464 - acc: 0.9853\n",
            "Epoch 14/40\n",
            "60000/60000 [==============================] - 62s 1ms/step - loss: 0.0438 - acc: 0.9864\n",
            "Epoch 15/40\n",
            "60000/60000 [==============================] - 64s 1ms/step - loss: 0.0464 - acc: 0.9855\n",
            "Epoch 16/40\n",
            "60000/60000 [==============================] - 62s 1ms/step - loss: 0.0419 - acc: 0.9870\n",
            "Epoch 17/40\n",
            "60000/60000 [==============================] - 62s 1ms/step - loss: 0.0435 - acc: 0.9859\n",
            "Epoch 18/40\n",
            "60000/60000 [==============================] - 62s 1ms/step - loss: 0.0427 - acc: 0.9871\n",
            "Epoch 19/40\n",
            "60000/60000 [==============================] - 62s 1ms/step - loss: 0.0403 - acc: 0.9873\n",
            "Epoch 20/40\n",
            "60000/60000 [==============================] - 62s 1ms/step - loss: 0.0373 - acc: 0.9886\n",
            "Epoch 21/40\n",
            "60000/60000 [==============================] - 62s 1ms/step - loss: 0.0395 - acc: 0.9880\n",
            "Epoch 22/40\n",
            "60000/60000 [==============================] - 62s 1ms/step - loss: 0.0376 - acc: 0.9884\n",
            "Epoch 23/40\n",
            "60000/60000 [==============================] - 61s 1ms/step - loss: 0.0388 - acc: 0.9881\n",
            "Epoch 24/40\n",
            "60000/60000 [==============================] - 61s 1ms/step - loss: 0.0370 - acc: 0.9881\n",
            "Epoch 25/40\n",
            "60000/60000 [==============================] - 61s 1ms/step - loss: 0.0379 - acc: 0.9879\n",
            "Epoch 26/40\n",
            "60000/60000 [==============================] - 61s 1ms/step - loss: 0.0383 - acc: 0.9882\n",
            "Epoch 27/40\n",
            "60000/60000 [==============================] - 62s 1ms/step - loss: 0.0361 - acc: 0.9882\n",
            "Epoch 28/40\n",
            "60000/60000 [==============================] - 61s 1ms/step - loss: 0.0356 - acc: 0.9891\n",
            "Epoch 29/40\n",
            "60000/60000 [==============================] - 67s 1ms/step - loss: 0.0351 - acc: 0.9890\n",
            "Epoch 30/40\n",
            "60000/60000 [==============================] - 62s 1ms/step - loss: 0.0348 - acc: 0.9889\n",
            "Epoch 31/40\n",
            "60000/60000 [==============================] - 62s 1ms/step - loss: 0.0349 - acc: 0.9892\n",
            "Epoch 32/40\n",
            "60000/60000 [==============================] - 61s 1ms/step - loss: 0.0339 - acc: 0.9895\n",
            "Epoch 33/40\n",
            "60000/60000 [==============================] - 62s 1ms/step - loss: 0.0351 - acc: 0.9889\n",
            "Epoch 34/40\n",
            "60000/60000 [==============================] - 61s 1ms/step - loss: 0.0333 - acc: 0.9897\n",
            "Epoch 35/40\n",
            "60000/60000 [==============================] - 61s 1ms/step - loss: 0.0330 - acc: 0.9897\n",
            "Epoch 36/40\n",
            "60000/60000 [==============================] - 71s 1ms/step - loss: 0.0345 - acc: 0.9888\n",
            "Epoch 37/40\n",
            "60000/60000 [==============================] - 63s 1ms/step - loss: 0.0335 - acc: 0.9898\n",
            "Epoch 38/40\n",
            "60000/60000 [==============================] - 62s 1ms/step - loss: 0.0325 - acc: 0.9899\n",
            "Epoch 39/40\n",
            "60000/60000 [==============================] - 62s 1ms/step - loss: 0.0307 - acc: 0.9903\n",
            "Epoch 40/40\n",
            "60000/60000 [==============================] - 63s 1ms/step - loss: 0.0314 - acc: 0.9899\n"
          ],
          "name": "stdout"
        },
        {
          "output_type": "execute_result",
          "data": {
            "text/plain": [
              "<keras.callbacks.History at 0x7ffb0c0206a0>"
            ]
          },
          "metadata": {
            "tags": []
          },
          "execution_count": 13
        }
      ]
    },
    {
      "cell_type": "code",
      "metadata": {
        "id": "z6kx19dqPtxE",
        "colab_type": "code",
        "colab": {
          "base_uri": "https://localhost:8080/",
          "height": 1448
        },
        "outputId": "a25f8f4a-50ef-4c4c-c6b0-6bc18645d633"
      },
      "source": [
        "model.fit(X_train, Y_train, batch_size=32, nb_epoch=40, verbose=1)"
      ],
      "execution_count": 14,
      "outputs": [
        {
          "output_type": "stream",
          "text": [
            "Epoch 1/40\n",
            "  160/60000 [..............................] - ETA: 1:00 - loss: 0.0835 - acc: 0.9938"
          ],
          "name": "stdout"
        },
        {
          "output_type": "stream",
          "text": [
            "/usr/local/lib/python3.6/dist-packages/ipykernel_launcher.py:1: UserWarning: The `nb_epoch` argument in `fit` has been renamed `epochs`.\n",
            "  \"\"\"Entry point for launching an IPython kernel.\n"
          ],
          "name": "stderr"
        },
        {
          "output_type": "stream",
          "text": [
            "60000/60000 [==============================] - 61s 1ms/step - loss: 0.0312 - acc: 0.9904\n",
            "Epoch 2/40\n",
            "60000/60000 [==============================] - 60s 1ms/step - loss: 0.0332 - acc: 0.9894\n",
            "Epoch 3/40\n",
            "60000/60000 [==============================] - 61s 1ms/step - loss: 0.0303 - acc: 0.9907\n",
            "Epoch 4/40\n",
            "60000/60000 [==============================] - 61s 1ms/step - loss: 0.0299 - acc: 0.9905\n",
            "Epoch 5/40\n",
            "60000/60000 [==============================] - 61s 1ms/step - loss: 0.0320 - acc: 0.9897\n",
            "Epoch 6/40\n",
            "60000/60000 [==============================] - 61s 1ms/step - loss: 0.0307 - acc: 0.9904\n",
            "Epoch 7/40\n",
            "60000/60000 [==============================] - 61s 1ms/step - loss: 0.0294 - acc: 0.9905\n",
            "Epoch 8/40\n",
            "60000/60000 [==============================] - 61s 1ms/step - loss: 0.0291 - acc: 0.9906\n",
            "Epoch 9/40\n",
            "60000/60000 [==============================] - 61s 1ms/step - loss: 0.0284 - acc: 0.9907\n",
            "Epoch 10/40\n",
            "60000/60000 [==============================] - 62s 1ms/step - loss: 0.0290 - acc: 0.9910\n",
            "Epoch 11/40\n",
            "60000/60000 [==============================] - 61s 1ms/step - loss: 0.0296 - acc: 0.9908\n",
            "Epoch 12/40\n",
            "60000/60000 [==============================] - 61s 1ms/step - loss: 0.0291 - acc: 0.9908\n",
            "Epoch 13/40\n",
            "60000/60000 [==============================] - 61s 1ms/step - loss: 0.0295 - acc: 0.9908\n",
            "Epoch 14/40\n",
            "60000/60000 [==============================] - 63s 1ms/step - loss: 0.0283 - acc: 0.9910\n",
            "Epoch 15/40\n",
            "60000/60000 [==============================] - 63s 1ms/step - loss: 0.0281 - acc: 0.9908\n",
            "Epoch 16/40\n",
            "60000/60000 [==============================] - 61s 1ms/step - loss: 0.0283 - acc: 0.9908\n",
            "Epoch 17/40\n",
            "60000/60000 [==============================] - 61s 1ms/step - loss: 0.0271 - acc: 0.9914\n",
            "Epoch 18/40\n",
            "60000/60000 [==============================] - 59s 976us/step - loss: 0.0280 - acc: 0.9914\n",
            "Epoch 19/40\n",
            "60000/60000 [==============================] - 59s 975us/step - loss: 0.0285 - acc: 0.9910\n",
            "Epoch 20/40\n",
            "60000/60000 [==============================] - 58s 969us/step - loss: 0.0273 - acc: 0.9913\n",
            "Epoch 21/40\n",
            "60000/60000 [==============================] - 58s 963us/step - loss: 0.0276 - acc: 0.9915\n",
            "Epoch 22/40\n",
            "60000/60000 [==============================] - 58s 962us/step - loss: 0.0277 - acc: 0.9913\n",
            "Epoch 23/40\n",
            "60000/60000 [==============================] - 57s 955us/step - loss: 0.0263 - acc: 0.9920\n",
            "Epoch 24/40\n",
            "60000/60000 [==============================] - 58s 964us/step - loss: 0.0281 - acc: 0.9912\n",
            "Epoch 25/40\n",
            "60000/60000 [==============================] - 58s 968us/step - loss: 0.0270 - acc: 0.9916\n",
            "Epoch 26/40\n",
            "60000/60000 [==============================] - 58s 971us/step - loss: 0.0262 - acc: 0.9913\n",
            "Epoch 27/40\n",
            "60000/60000 [==============================] - 58s 964us/step - loss: 0.0267 - acc: 0.9915\n",
            "Epoch 28/40\n",
            "60000/60000 [==============================] - 59s 976us/step - loss: 0.0270 - acc: 0.9914\n",
            "Epoch 29/40\n",
            "60000/60000 [==============================] - 61s 1ms/step - loss: 0.0274 - acc: 0.9911\n",
            "Epoch 30/40\n",
            "60000/60000 [==============================] - 61s 1ms/step - loss: 0.0257 - acc: 0.9914\n",
            "Epoch 31/40\n",
            "60000/60000 [==============================] - 61s 1ms/step - loss: 0.0260 - acc: 0.9918\n",
            "Epoch 32/40\n",
            "60000/60000 [==============================] - 62s 1ms/step - loss: 0.0244 - acc: 0.9921\n",
            "Epoch 33/40\n",
            "60000/60000 [==============================] - 62s 1ms/step - loss: 0.0264 - acc: 0.9915\n",
            "Epoch 34/40\n",
            "60000/60000 [==============================] - 61s 1ms/step - loss: 0.0266 - acc: 0.9915\n",
            "Epoch 35/40\n",
            "60000/60000 [==============================] - 61s 1ms/step - loss: 0.0253 - acc: 0.9921\n",
            "Epoch 36/40\n",
            "60000/60000 [==============================] - 61s 1ms/step - loss: 0.0260 - acc: 0.9921\n",
            "Epoch 37/40\n",
            "60000/60000 [==============================] - 61s 1ms/step - loss: 0.0262 - acc: 0.9916\n",
            "Epoch 38/40\n",
            "60000/60000 [==============================] - 61s 1ms/step - loss: 0.0261 - acc: 0.9915\n",
            "Epoch 39/40\n",
            "60000/60000 [==============================] - 61s 1ms/step - loss: 0.0246 - acc: 0.9921\n",
            "Epoch 40/40\n",
            "60000/60000 [==============================] - 61s 1ms/step - loss: 0.0256 - acc: 0.9917\n"
          ],
          "name": "stdout"
        },
        {
          "output_type": "execute_result",
          "data": {
            "text/plain": [
              "<keras.callbacks.History at 0x7ffab6976630>"
            ]
          },
          "metadata": {
            "tags": []
          },
          "execution_count": 14
        }
      ]
    },
    {
      "cell_type": "code",
      "metadata": {
        "id": "3oT0eeLzaiCV",
        "colab_type": "code",
        "colab": {
          "base_uri": "https://localhost:8080/",
          "height": 1108
        },
        "outputId": "a5e7a8de-5537-49e9-8660-7e4ee3176a74"
      },
      "source": [
        "model.fit(X_train, Y_train, batch_size=64, nb_epoch=30, verbose=1)"
      ],
      "execution_count": 17,
      "outputs": [
        {
          "output_type": "stream",
          "text": [
            "Epoch 1/30\n",
            "  320/60000 [..............................] - ETA: 36s - loss: 0.0250 - acc: 0.9938"
          ],
          "name": "stdout"
        },
        {
          "output_type": "stream",
          "text": [
            "/usr/local/lib/python3.6/dist-packages/ipykernel_launcher.py:1: UserWarning: The `nb_epoch` argument in `fit` has been renamed `epochs`.\n",
            "  \"\"\"Entry point for launching an IPython kernel.\n"
          ],
          "name": "stderr"
        },
        {
          "output_type": "stream",
          "text": [
            "60000/60000 [==============================] - 34s 565us/step - loss: 0.0204 - acc: 0.9934\n",
            "Epoch 2/30\n",
            "60000/60000 [==============================] - 33s 552us/step - loss: 0.0198 - acc: 0.9936\n",
            "Epoch 3/30\n",
            "60000/60000 [==============================] - 33s 545us/step - loss: 0.0208 - acc: 0.9936\n",
            "Epoch 4/30\n",
            "60000/60000 [==============================] - 33s 544us/step - loss: 0.0190 - acc: 0.9939\n",
            "Epoch 5/30\n",
            "60000/60000 [==============================] - 32s 539us/step - loss: 0.0195 - acc: 0.9937\n",
            "Epoch 6/30\n",
            "60000/60000 [==============================] - 32s 537us/step - loss: 0.0194 - acc: 0.9937\n",
            "Epoch 7/30\n",
            "60000/60000 [==============================] - 32s 537us/step - loss: 0.0206 - acc: 0.9932\n",
            "Epoch 8/30\n",
            "60000/60000 [==============================] - 32s 538us/step - loss: 0.0197 - acc: 0.9937\n",
            "Epoch 9/30\n",
            "60000/60000 [==============================] - 32s 537us/step - loss: 0.0195 - acc: 0.9933\n",
            "Epoch 10/30\n",
            "60000/60000 [==============================] - 32s 537us/step - loss: 0.0189 - acc: 0.9937\n",
            "Epoch 11/30\n",
            "60000/60000 [==============================] - 32s 539us/step - loss: 0.0199 - acc: 0.9936\n",
            "Epoch 12/30\n",
            "60000/60000 [==============================] - 32s 531us/step - loss: 0.0193 - acc: 0.9935\n",
            "Epoch 13/30\n",
            "60000/60000 [==============================] - 32s 526us/step - loss: 0.0202 - acc: 0.9937\n",
            "Epoch 14/30\n",
            "60000/60000 [==============================] - 32s 537us/step - loss: 0.0198 - acc: 0.9936\n",
            "Epoch 15/30\n",
            "60000/60000 [==============================] - 32s 532us/step - loss: 0.0193 - acc: 0.9934\n",
            "Epoch 16/30\n",
            "60000/60000 [==============================] - 32s 530us/step - loss: 0.0198 - acc: 0.9937\n",
            "Epoch 17/30\n",
            "60000/60000 [==============================] - 32s 531us/step - loss: 0.0190 - acc: 0.9938\n",
            "Epoch 18/30\n",
            "60000/60000 [==============================] - 32s 530us/step - loss: 0.0198 - acc: 0.9934\n",
            "Epoch 19/30\n",
            "60000/60000 [==============================] - 32s 526us/step - loss: 0.0203 - acc: 0.9933\n",
            "Epoch 20/30\n",
            "60000/60000 [==============================] - 32s 529us/step - loss: 0.0196 - acc: 0.9938\n",
            "Epoch 21/30\n",
            "60000/60000 [==============================] - 32s 533us/step - loss: 0.0191 - acc: 0.9937\n",
            "Epoch 22/30\n",
            "60000/60000 [==============================] - 31s 518us/step - loss: 0.0195 - acc: 0.9938\n",
            "Epoch 23/30\n",
            "60000/60000 [==============================] - 31s 521us/step - loss: 0.0197 - acc: 0.9936\n",
            "Epoch 24/30\n",
            "60000/60000 [==============================] - 32s 526us/step - loss: 0.0196 - acc: 0.9934\n",
            "Epoch 25/30\n",
            "60000/60000 [==============================] - 32s 531us/step - loss: 0.0190 - acc: 0.9940\n",
            "Epoch 26/30\n",
            "60000/60000 [==============================] - 32s 536us/step - loss: 0.0183 - acc: 0.9944\n",
            "Epoch 27/30\n",
            "60000/60000 [==============================] - 32s 533us/step - loss: 0.0189 - acc: 0.9940\n",
            "Epoch 28/30\n",
            "60000/60000 [==============================] - 32s 537us/step - loss: 0.0191 - acc: 0.9940\n",
            "Epoch 29/30\n",
            "60000/60000 [==============================] - 32s 529us/step - loss: 0.0195 - acc: 0.9938\n",
            "Epoch 30/30\n",
            "60000/60000 [==============================] - 32s 526us/step - loss: 0.0194 - acc: 0.9936\n"
          ],
          "name": "stdout"
        },
        {
          "output_type": "execute_result",
          "data": {
            "text/plain": [
              "<keras.callbacks.History at 0x7ffab68c6c50>"
            ]
          },
          "metadata": {
            "tags": []
          },
          "execution_count": 17
        }
      ]
    },
    {
      "cell_type": "code",
      "metadata": {
        "id": "AtsH-lLk-eLb",
        "colab_type": "code",
        "colab": {}
      },
      "source": [
        "score = model.evaluate(X_test, Y_test, verbose=0)"
      ],
      "execution_count": 0,
      "outputs": []
    },
    {
      "cell_type": "code",
      "metadata": {
        "id": "mkX8JMv79q9r",
        "colab_type": "code",
        "outputId": "c0b0e8d8-9520-4f6f-9c3b-69b0cf17d632",
        "colab": {
          "base_uri": "https://localhost:8080/",
          "height": 34
        }
      },
      "source": [
        "print(score)"
      ],
      "execution_count": 19,
      "outputs": [
        {
          "output_type": "stream",
          "text": [
            "[0.0220623857873783, 0.9941]\n"
          ],
          "name": "stdout"
        }
      ]
    },
    {
      "cell_type": "code",
      "metadata": {
        "id": "OCWoJkwE9suh",
        "colab_type": "code",
        "colab": {}
      },
      "source": [
        "y_pred = model.predict(X_test)"
      ],
      "execution_count": 0,
      "outputs": []
    },
    {
      "cell_type": "code",
      "metadata": {
        "id": "Ym7iCFBm9uBs",
        "colab_type": "code",
        "outputId": "74d9aa96-2458-4982-af18-6dfaa6830d60",
        "colab": {
          "base_uri": "https://localhost:8080/",
          "height": 493
        }
      },
      "source": [
        "print(y_pred[:9])\n",
        "print(y_test[:9])"
      ],
      "execution_count": 21,
      "outputs": [
        {
          "output_type": "stream",
          "text": [
            "[[4.17052867e-14 2.51604121e-07 4.37538375e-07 1.10407058e-07\n",
            "  2.17173252e-07 7.50519438e-11 9.47665226e-16 9.99998927e-01\n",
            "  1.44165097e-10 4.48253736e-08]\n",
            " [2.02669710e-07 8.66815972e-04 9.99130309e-01 1.80152032e-10\n",
            "  8.80264736e-07 1.07009346e-09 1.45415342e-07 1.75885896e-06\n",
            "  6.08237349e-11 6.23339158e-09]\n",
            " [8.26838320e-10 9.99986768e-01 1.25494131e-08 7.96434529e-10\n",
            "  1.86888553e-06 5.70269059e-08 1.91277234e-08 1.08549639e-05\n",
            "  8.35789749e-08 3.50365099e-07]\n",
            " [9.99984145e-01 1.60288102e-12 3.99607858e-09 1.03412297e-07\n",
            "  3.18395932e-09 4.14327872e-07 1.46742941e-05 8.10013556e-10\n",
            "  5.03942942e-07 1.43970411e-07]\n",
            " [2.49949343e-15 4.73962189e-12 2.06946527e-09 2.29727173e-15\n",
            "  1.00000000e+00 2.52150812e-13 1.04954399e-10 2.47563547e-09\n",
            "  2.77460884e-11 3.81458776e-08]\n",
            " [1.18108079e-09 9.99982119e-01 3.73837921e-08 1.99738948e-10\n",
            "  4.52051927e-06 1.62639715e-08 1.62201044e-08 1.24718572e-05\n",
            "  8.12617102e-08 8.10013148e-07]\n",
            " [8.21952451e-10 4.56194994e-06 3.17192530e-07 2.28630732e-08\n",
            "  9.99690771e-01 7.13055570e-08 2.65401257e-10 1.12500755e-04\n",
            "  1.80798288e-05 1.73635461e-04]\n",
            " [8.80472639e-10 7.27713246e-14 4.48566606e-09 1.83188114e-08\n",
            "  1.04426341e-04 3.85228986e-08 5.50793722e-09 8.95564067e-09\n",
            "  1.38004305e-06 9.99894023e-01]\n",
            " [7.07847159e-09 8.98317185e-12 9.35075368e-12 8.68431194e-09\n",
            "  1.73946732e-10 9.08434749e-01 9.15057212e-02 1.43783929e-10\n",
            "  5.94593293e-05 7.52785780e-08]]\n",
            "[7 2 1 0 4 1 4 9 5]\n"
          ],
          "name": "stdout"
        }
      ]
    },
    {
      "cell_type": "code",
      "metadata": {
        "id": "CT--y98_dr2T",
        "colab_type": "code",
        "colab": {}
      },
      "source": [
        "layer_dict = dict([(layer.name, layer) for layer in model.layers])"
      ],
      "execution_count": 0,
      "outputs": []
    },
    {
      "cell_type": "code",
      "metadata": {
        "id": "2GY4Upv4dsUR",
        "colab_type": "code",
        "outputId": "35362b22-66d0-4e97-e0ab-493fc14056c0",
        "colab": {
          "base_uri": "https://localhost:8080/",
          "height": 837
        }
      },
      "source": [
        "import numpy as np\n",
        "from matplotlib import pyplot as plt\n",
        "from keras import backend as K\n",
        "%matplotlib inline\n",
        "# util function to convert a tensor into a valid image\n",
        "def deprocess_image(x):\n",
        "    # normalize tensor: center on 0., ensure std is 0.1\n",
        "    x -= x.mean()\n",
        "    x /= (x.std() + 1e-5)\n",
        "    x *= 0.1\n",
        "\n",
        "    # clip to [0, 1]\n",
        "    x += 0.5\n",
        "    x = np.clip(x, 0, 1)\n",
        "\n",
        "    # convert to RGB array\n",
        "    x *= 255\n",
        "    #x = x.transpose((1, 2, 0))\n",
        "    x = np.clip(x, 0, 255).astype('uint8')\n",
        "    return x\n",
        "\n",
        "def vis_img_in_filter(img = np.array(X_train[2]).reshape((1, 28, 28, 1)).astype(np.float64), \n",
        "                      layer_name = 'conv2d_3'):\n",
        "    layer_output = layer_dict[layer_name].output\n",
        "    img_ascs = list()\n",
        "    for filter_index in range(layer_output.shape[3]):\n",
        "        # build a loss function that maximizes the activation\n",
        "        # of the nth filter of the layer considered\n",
        "        loss = K.mean(layer_output[:, :, :, filter_index])\n",
        "\n",
        "        # compute the gradient of the input picture wrt this loss\n",
        "        grads = K.gradients(loss, model.input)[0]\n",
        "\n",
        "        # normalization trick: we normalize the gradient\n",
        "        grads /= (K.sqrt(K.mean(K.square(grads))) + 1e-5)\n",
        "\n",
        "        # this function returns the loss and grads given the input picture\n",
        "        iterate = K.function([model.input], [loss, grads])\n",
        "\n",
        "        # step size for gradient ascent\n",
        "        step = 5.\n",
        "\n",
        "        img_asc = np.array(img)\n",
        "        # run gradient ascent for 20 steps\n",
        "        for i in range(20):\n",
        "            loss_value, grads_value = iterate([img_asc])\n",
        "            img_asc += grads_value * step\n",
        "\n",
        "        img_asc = img_asc[0]\n",
        "        img_ascs.append(deprocess_image(img_asc).reshape((28, 28)))\n",
        "        \n",
        "    if layer_output.shape[3] >= 35:\n",
        "        plot_x, plot_y = 6, 6\n",
        "    elif layer_output.shape[3] >= 23:\n",
        "        plot_x, plot_y = 4, 6\n",
        "    elif layer_output.shape[3] >= 11:\n",
        "        plot_x, plot_y = 2, 6\n",
        "    else:\n",
        "        plot_x, plot_y = 1, 2\n",
        "    fig, ax = plt.subplots(plot_x, plot_y, figsize = (12, 12))\n",
        "    ax[0, 0].imshow(img.reshape((28, 28)), cmap = 'gray')\n",
        "    ax[0, 0].set_title('Input image')\n",
        "    fig.suptitle('Input image and %s filters' % (layer_name,))\n",
        "    fig.tight_layout(pad = 0.3, rect = [0, 0, 0.9, 0.9])\n",
        "    for (x, y) in [(i, j) for i in range(plot_x) for j in range(plot_y)]:\n",
        "        if x == 0 and y == 0:\n",
        "            continue\n",
        "        ax[x, y].imshow(img_ascs[x * plot_y + y - 1], cmap = 'gray')\n",
        "        ax[x, y].set_title('filter %d' % (x * plot_y + y - 1))\n",
        "\n",
        "vis_img_in_filter()"
      ],
      "execution_count": 23,
      "outputs": [
        {
          "output_type": "display_data",
          "data": {
            "image/png": "[encoded data removed]",
            "text/plain": [
              "<Figure size 864x864 with 24 Axes>"
            ]
          },
          "metadata": {
            "tags": []
          }
        }
      ]
    },
    {
      "cell_type": "code",
      "metadata": {
        "id": "9tvptcn8dxvp",
        "colab_type": "code",
        "colab": {}
      },
      "source": [
        ""
      ],
      "execution_count": 0,
      "outputs": []
    }
  ]
}